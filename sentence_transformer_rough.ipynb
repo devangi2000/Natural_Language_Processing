{
  "nbformat": 4,
  "nbformat_minor": 0,
  "metadata": {
    "colab": {
      "name": "sentence-transformer-rough.ipynb",
      "provenance": [],
      "authorship_tag": "ABX9TyMi9/JT7hn4qFJWp+enZLGL",
      "include_colab_link": true
    },
    "kernelspec": {
      "name": "python3",
      "display_name": "Python 3"
    },
    "accelerator": "GPU",
    "widgets": {
      "application/vnd.jupyter.widget-state+json": {
        "81693088e2e84a899533beedc3a4b53d": {
          "model_module": "@jupyter-widgets/controls",
          "model_name": "HBoxModel",
          "state": {
            "_view_name": "HBoxView",
            "_dom_classes": [],
            "_model_name": "HBoxModel",
            "_view_module": "@jupyter-widgets/controls",
            "_model_module_version": "1.5.0",
            "_view_count": null,
            "_view_module_version": "1.5.0",
            "box_style": "",
            "layout": "IPY_MODEL_fb88569eea4741cbb7f0f88319cf63be",
            "_model_module": "@jupyter-widgets/controls",
            "children": [
              "IPY_MODEL_57975e11e93f4a4a8cfeb09f3f0db87c",
              "IPY_MODEL_0241bafcd02f4163a5585a0d7a30f1f3"
            ]
          }
        },
        "fb88569eea4741cbb7f0f88319cf63be": {
          "model_module": "@jupyter-widgets/base",
          "model_name": "LayoutModel",
          "state": {
            "_view_name": "LayoutView",
            "grid_template_rows": null,
            "right": null,
            "justify_content": null,
            "_view_module": "@jupyter-widgets/base",
            "overflow": null,
            "_model_module_version": "1.2.0",
            "_view_count": null,
            "flex_flow": null,
            "width": null,
            "min_width": null,
            "border": null,
            "align_items": null,
            "bottom": null,
            "_model_module": "@jupyter-widgets/base",
            "top": null,
            "grid_column": null,
            "overflow_y": null,
            "overflow_x": null,
            "grid_auto_flow": null,
            "grid_area": null,
            "grid_template_columns": null,
            "flex": null,
            "_model_name": "LayoutModel",
            "justify_items": null,
            "grid_row": null,
            "max_height": null,
            "align_content": null,
            "visibility": null,
            "align_self": null,
            "height": null,
            "min_height": null,
            "padding": null,
            "grid_auto_rows": null,
            "grid_gap": null,
            "max_width": null,
            "order": null,
            "_view_module_version": "1.2.0",
            "grid_template_areas": null,
            "object_position": null,
            "object_fit": null,
            "grid_auto_columns": null,
            "margin": null,
            "display": null,
            "left": null
          }
        },
        "57975e11e93f4a4a8cfeb09f3f0db87c": {
          "model_module": "@jupyter-widgets/controls",
          "model_name": "FloatProgressModel",
          "state": {
            "_view_name": "ProgressView",
            "style": "IPY_MODEL_66f304423c074ed0ae049b9d9cf7019e",
            "_dom_classes": [],
            "description": "Downloading: 100%",
            "_model_name": "FloatProgressModel",
            "bar_style": "success",
            "max": 461,
            "_view_module": "@jupyter-widgets/controls",
            "_model_module_version": "1.5.0",
            "value": 461,
            "_view_count": null,
            "_view_module_version": "1.5.0",
            "orientation": "horizontal",
            "min": 0,
            "description_tooltip": null,
            "_model_module": "@jupyter-widgets/controls",
            "layout": "IPY_MODEL_91c9b7eab2dc49ca90648bcce30fc5cd"
          }
        },
        "0241bafcd02f4163a5585a0d7a30f1f3": {
          "model_module": "@jupyter-widgets/controls",
          "model_name": "HTMLModel",
          "state": {
            "_view_name": "HTMLView",
            "style": "IPY_MODEL_3f6982d337874c66b66c9459fac94528",
            "_dom_classes": [],
            "description": "",
            "_model_name": "HTMLModel",
            "placeholder": "​",
            "_view_module": "@jupyter-widgets/controls",
            "_model_module_version": "1.5.0",
            "value": " 461/461 [00:00&lt;00:00, 555B/s]",
            "_view_count": null,
            "_view_module_version": "1.5.0",
            "description_tooltip": null,
            "_model_module": "@jupyter-widgets/controls",
            "layout": "IPY_MODEL_8e806c30e31742dab21d055282a6812e"
          }
        },
        "66f304423c074ed0ae049b9d9cf7019e": {
          "model_module": "@jupyter-widgets/controls",
          "model_name": "ProgressStyleModel",
          "state": {
            "_view_name": "StyleView",
            "_model_name": "ProgressStyleModel",
            "description_width": "initial",
            "_view_module": "@jupyter-widgets/base",
            "_model_module_version": "1.5.0",
            "_view_count": null,
            "_view_module_version": "1.2.0",
            "bar_color": null,
            "_model_module": "@jupyter-widgets/controls"
          }
        },
        "91c9b7eab2dc49ca90648bcce30fc5cd": {
          "model_module": "@jupyter-widgets/base",
          "model_name": "LayoutModel",
          "state": {
            "_view_name": "LayoutView",
            "grid_template_rows": null,
            "right": null,
            "justify_content": null,
            "_view_module": "@jupyter-widgets/base",
            "overflow": null,
            "_model_module_version": "1.2.0",
            "_view_count": null,
            "flex_flow": null,
            "width": null,
            "min_width": null,
            "border": null,
            "align_items": null,
            "bottom": null,
            "_model_module": "@jupyter-widgets/base",
            "top": null,
            "grid_column": null,
            "overflow_y": null,
            "overflow_x": null,
            "grid_auto_flow": null,
            "grid_area": null,
            "grid_template_columns": null,
            "flex": null,
            "_model_name": "LayoutModel",
            "justify_items": null,
            "grid_row": null,
            "max_height": null,
            "align_content": null,
            "visibility": null,
            "align_self": null,
            "height": null,
            "min_height": null,
            "padding": null,
            "grid_auto_rows": null,
            "grid_gap": null,
            "max_width": null,
            "order": null,
            "_view_module_version": "1.2.0",
            "grid_template_areas": null,
            "object_position": null,
            "object_fit": null,
            "grid_auto_columns": null,
            "margin": null,
            "display": null,
            "left": null
          }
        },
        "3f6982d337874c66b66c9459fac94528": {
          "model_module": "@jupyter-widgets/controls",
          "model_name": "DescriptionStyleModel",
          "state": {
            "_view_name": "StyleView",
            "_model_name": "DescriptionStyleModel",
            "description_width": "",
            "_view_module": "@jupyter-widgets/base",
            "_model_module_version": "1.5.0",
            "_view_count": null,
            "_view_module_version": "1.2.0",
            "_model_module": "@jupyter-widgets/controls"
          }
        },
        "8e806c30e31742dab21d055282a6812e": {
          "model_module": "@jupyter-widgets/base",
          "model_name": "LayoutModel",
          "state": {
            "_view_name": "LayoutView",
            "grid_template_rows": null,
            "right": null,
            "justify_content": null,
            "_view_module": "@jupyter-widgets/base",
            "overflow": null,
            "_model_module_version": "1.2.0",
            "_view_count": null,
            "flex_flow": null,
            "width": null,
            "min_width": null,
            "border": null,
            "align_items": null,
            "bottom": null,
            "_model_module": "@jupyter-widgets/base",
            "top": null,
            "grid_column": null,
            "overflow_y": null,
            "overflow_x": null,
            "grid_auto_flow": null,
            "grid_area": null,
            "grid_template_columns": null,
            "flex": null,
            "_model_name": "LayoutModel",
            "justify_items": null,
            "grid_row": null,
            "max_height": null,
            "align_content": null,
            "visibility": null,
            "align_self": null,
            "height": null,
            "min_height": null,
            "padding": null,
            "grid_auto_rows": null,
            "grid_gap": null,
            "max_width": null,
            "order": null,
            "_view_module_version": "1.2.0",
            "grid_template_areas": null,
            "object_position": null,
            "object_fit": null,
            "grid_auto_columns": null,
            "margin": null,
            "display": null,
            "left": null
          }
        },
        "295229d657794dbcbd3d485fa8e4a306": {
          "model_module": "@jupyter-widgets/controls",
          "model_name": "HBoxModel",
          "state": {
            "_view_name": "HBoxView",
            "_dom_classes": [],
            "_model_name": "HBoxModel",
            "_view_module": "@jupyter-widgets/controls",
            "_model_module_version": "1.5.0",
            "_view_count": null,
            "_view_module_version": "1.5.0",
            "box_style": "",
            "layout": "IPY_MODEL_0b707820e64e40b29fda7925ca4d63e9",
            "_model_module": "@jupyter-widgets/controls",
            "children": [
              "IPY_MODEL_8063210d7a82424d9fffff4571fee90c",
              "IPY_MODEL_74b2f2f8073943cdb375d51ab902f2e9"
            ]
          }
        },
        "0b707820e64e40b29fda7925ca4d63e9": {
          "model_module": "@jupyter-widgets/base",
          "model_name": "LayoutModel",
          "state": {
            "_view_name": "LayoutView",
            "grid_template_rows": null,
            "right": null,
            "justify_content": null,
            "_view_module": "@jupyter-widgets/base",
            "overflow": null,
            "_model_module_version": "1.2.0",
            "_view_count": null,
            "flex_flow": null,
            "width": null,
            "min_width": null,
            "border": null,
            "align_items": null,
            "bottom": null,
            "_model_module": "@jupyter-widgets/base",
            "top": null,
            "grid_column": null,
            "overflow_y": null,
            "overflow_x": null,
            "grid_auto_flow": null,
            "grid_area": null,
            "grid_template_columns": null,
            "flex": null,
            "_model_name": "LayoutModel",
            "justify_items": null,
            "grid_row": null,
            "max_height": null,
            "align_content": null,
            "visibility": null,
            "align_self": null,
            "height": null,
            "min_height": null,
            "padding": null,
            "grid_auto_rows": null,
            "grid_gap": null,
            "max_width": null,
            "order": null,
            "_view_module_version": "1.2.0",
            "grid_template_areas": null,
            "object_position": null,
            "object_fit": null,
            "grid_auto_columns": null,
            "margin": null,
            "display": null,
            "left": null
          }
        },
        "8063210d7a82424d9fffff4571fee90c": {
          "model_module": "@jupyter-widgets/controls",
          "model_name": "FloatProgressModel",
          "state": {
            "_view_name": "ProgressView",
            "style": "IPY_MODEL_435d2b8a168f443790f197f404119040",
            "_dom_classes": [],
            "description": "Downloading: 100%",
            "_model_name": "FloatProgressModel",
            "bar_style": "success",
            "max": 231508,
            "_view_module": "@jupyter-widgets/controls",
            "_model_module_version": "1.5.0",
            "value": 231508,
            "_view_count": null,
            "_view_module_version": "1.5.0",
            "orientation": "horizontal",
            "min": 0,
            "description_tooltip": null,
            "_model_module": "@jupyter-widgets/controls",
            "layout": "IPY_MODEL_fb9000e4e5fc403ab31214f28fff3d90"
          }
        },
        "74b2f2f8073943cdb375d51ab902f2e9": {
          "model_module": "@jupyter-widgets/controls",
          "model_name": "HTMLModel",
          "state": {
            "_view_name": "HTMLView",
            "style": "IPY_MODEL_1e649f0c134f435f99053d4911ac2bb5",
            "_dom_classes": [],
            "description": "",
            "_model_name": "HTMLModel",
            "placeholder": "​",
            "_view_module": "@jupyter-widgets/controls",
            "_model_module_version": "1.5.0",
            "value": " 232k/232k [00:01&lt;00:00, 120kB/s]",
            "_view_count": null,
            "_view_module_version": "1.5.0",
            "description_tooltip": null,
            "_model_module": "@jupyter-widgets/controls",
            "layout": "IPY_MODEL_2d68c2b8146a488bb7685f38e3aa8698"
          }
        },
        "435d2b8a168f443790f197f404119040": {
          "model_module": "@jupyter-widgets/controls",
          "model_name": "ProgressStyleModel",
          "state": {
            "_view_name": "StyleView",
            "_model_name": "ProgressStyleModel",
            "description_width": "initial",
            "_view_module": "@jupyter-widgets/base",
            "_model_module_version": "1.5.0",
            "_view_count": null,
            "_view_module_version": "1.2.0",
            "bar_color": null,
            "_model_module": "@jupyter-widgets/controls"
          }
        },
        "fb9000e4e5fc403ab31214f28fff3d90": {
          "model_module": "@jupyter-widgets/base",
          "model_name": "LayoutModel",
          "state": {
            "_view_name": "LayoutView",
            "grid_template_rows": null,
            "right": null,
            "justify_content": null,
            "_view_module": "@jupyter-widgets/base",
            "overflow": null,
            "_model_module_version": "1.2.0",
            "_view_count": null,
            "flex_flow": null,
            "width": null,
            "min_width": null,
            "border": null,
            "align_items": null,
            "bottom": null,
            "_model_module": "@jupyter-widgets/base",
            "top": null,
            "grid_column": null,
            "overflow_y": null,
            "overflow_x": null,
            "grid_auto_flow": null,
            "grid_area": null,
            "grid_template_columns": null,
            "flex": null,
            "_model_name": "LayoutModel",
            "justify_items": null,
            "grid_row": null,
            "max_height": null,
            "align_content": null,
            "visibility": null,
            "align_self": null,
            "height": null,
            "min_height": null,
            "padding": null,
            "grid_auto_rows": null,
            "grid_gap": null,
            "max_width": null,
            "order": null,
            "_view_module_version": "1.2.0",
            "grid_template_areas": null,
            "object_position": null,
            "object_fit": null,
            "grid_auto_columns": null,
            "margin": null,
            "display": null,
            "left": null
          }
        },
        "1e649f0c134f435f99053d4911ac2bb5": {
          "model_module": "@jupyter-widgets/controls",
          "model_name": "DescriptionStyleModel",
          "state": {
            "_view_name": "StyleView",
            "_model_name": "DescriptionStyleModel",
            "description_width": "",
            "_view_module": "@jupyter-widgets/base",
            "_model_module_version": "1.5.0",
            "_view_count": null,
            "_view_module_version": "1.2.0",
            "_model_module": "@jupyter-widgets/controls"
          }
        },
        "2d68c2b8146a488bb7685f38e3aa8698": {
          "model_module": "@jupyter-widgets/base",
          "model_name": "LayoutModel",
          "state": {
            "_view_name": "LayoutView",
            "grid_template_rows": null,
            "right": null,
            "justify_content": null,
            "_view_module": "@jupyter-widgets/base",
            "overflow": null,
            "_model_module_version": "1.2.0",
            "_view_count": null,
            "flex_flow": null,
            "width": null,
            "min_width": null,
            "border": null,
            "align_items": null,
            "bottom": null,
            "_model_module": "@jupyter-widgets/base",
            "top": null,
            "grid_column": null,
            "overflow_y": null,
            "overflow_x": null,
            "grid_auto_flow": null,
            "grid_area": null,
            "grid_template_columns": null,
            "flex": null,
            "_model_name": "LayoutModel",
            "justify_items": null,
            "grid_row": null,
            "max_height": null,
            "align_content": null,
            "visibility": null,
            "align_self": null,
            "height": null,
            "min_height": null,
            "padding": null,
            "grid_auto_rows": null,
            "grid_gap": null,
            "max_width": null,
            "order": null,
            "_view_module_version": "1.2.0",
            "grid_template_areas": null,
            "object_position": null,
            "object_fit": null,
            "grid_auto_columns": null,
            "margin": null,
            "display": null,
            "left": null
          }
        },
        "b6c1c0277dc043408c7056294622f894": {
          "model_module": "@jupyter-widgets/controls",
          "model_name": "HBoxModel",
          "state": {
            "_view_name": "HBoxView",
            "_dom_classes": [],
            "_model_name": "HBoxModel",
            "_view_module": "@jupyter-widgets/controls",
            "_model_module_version": "1.5.0",
            "_view_count": null,
            "_view_module_version": "1.5.0",
            "box_style": "",
            "layout": "IPY_MODEL_8713cfaf8f6e4b17a4738ba35687d590",
            "_model_module": "@jupyter-widgets/controls",
            "children": [
              "IPY_MODEL_355fa2f392d549e7b0820ac518d9a5e2",
              "IPY_MODEL_6692eeceb5ad4559b5e2b7c84bb68841"
            ]
          }
        },
        "8713cfaf8f6e4b17a4738ba35687d590": {
          "model_module": "@jupyter-widgets/base",
          "model_name": "LayoutModel",
          "state": {
            "_view_name": "LayoutView",
            "grid_template_rows": null,
            "right": null,
            "justify_content": null,
            "_view_module": "@jupyter-widgets/base",
            "overflow": null,
            "_model_module_version": "1.2.0",
            "_view_count": null,
            "flex_flow": null,
            "width": null,
            "min_width": null,
            "border": null,
            "align_items": null,
            "bottom": null,
            "_model_module": "@jupyter-widgets/base",
            "top": null,
            "grid_column": null,
            "overflow_y": null,
            "overflow_x": null,
            "grid_auto_flow": null,
            "grid_area": null,
            "grid_template_columns": null,
            "flex": null,
            "_model_name": "LayoutModel",
            "justify_items": null,
            "grid_row": null,
            "max_height": null,
            "align_content": null,
            "visibility": null,
            "align_self": null,
            "height": null,
            "min_height": null,
            "padding": null,
            "grid_auto_rows": null,
            "grid_gap": null,
            "max_width": null,
            "order": null,
            "_view_module_version": "1.2.0",
            "grid_template_areas": null,
            "object_position": null,
            "object_fit": null,
            "grid_auto_columns": null,
            "margin": null,
            "display": null,
            "left": null
          }
        },
        "355fa2f392d549e7b0820ac518d9a5e2": {
          "model_module": "@jupyter-widgets/controls",
          "model_name": "FloatProgressModel",
          "state": {
            "_view_name": "ProgressView",
            "style": "IPY_MODEL_494a76a3dfb4484db1f1619a35ec9c63",
            "_dom_classes": [],
            "description": "Downloading: 100%",
            "_model_name": "FloatProgressModel",
            "bar_style": "success",
            "max": 2,
            "_view_module": "@jupyter-widgets/controls",
            "_model_module_version": "1.5.0",
            "value": 2,
            "_view_count": null,
            "_view_module_version": "1.5.0",
            "orientation": "horizontal",
            "min": 0,
            "description_tooltip": null,
            "_model_module": "@jupyter-widgets/controls",
            "layout": "IPY_MODEL_f982cdc5bd41450086a0f674ed019f5c"
          }
        },
        "6692eeceb5ad4559b5e2b7c84bb68841": {
          "model_module": "@jupyter-widgets/controls",
          "model_name": "HTMLModel",
          "state": {
            "_view_name": "HTMLView",
            "style": "IPY_MODEL_bc95641ed61a4f3ca1acdd31236c7a2b",
            "_dom_classes": [],
            "description": "",
            "_model_name": "HTMLModel",
            "placeholder": "​",
            "_view_module": "@jupyter-widgets/controls",
            "_model_module_version": "1.5.0",
            "value": " 2.00/2.00 [00:01&lt;00:00, 1.74B/s]",
            "_view_count": null,
            "_view_module_version": "1.5.0",
            "description_tooltip": null,
            "_model_module": "@jupyter-widgets/controls",
            "layout": "IPY_MODEL_a19ae133b234431691af4220632d2879"
          }
        },
        "494a76a3dfb4484db1f1619a35ec9c63": {
          "model_module": "@jupyter-widgets/controls",
          "model_name": "ProgressStyleModel",
          "state": {
            "_view_name": "StyleView",
            "_model_name": "ProgressStyleModel",
            "description_width": "initial",
            "_view_module": "@jupyter-widgets/base",
            "_model_module_version": "1.5.0",
            "_view_count": null,
            "_view_module_version": "1.2.0",
            "bar_color": null,
            "_model_module": "@jupyter-widgets/controls"
          }
        },
        "f982cdc5bd41450086a0f674ed019f5c": {
          "model_module": "@jupyter-widgets/base",
          "model_name": "LayoutModel",
          "state": {
            "_view_name": "LayoutView",
            "grid_template_rows": null,
            "right": null,
            "justify_content": null,
            "_view_module": "@jupyter-widgets/base",
            "overflow": null,
            "_model_module_version": "1.2.0",
            "_view_count": null,
            "flex_flow": null,
            "width": null,
            "min_width": null,
            "border": null,
            "align_items": null,
            "bottom": null,
            "_model_module": "@jupyter-widgets/base",
            "top": null,
            "grid_column": null,
            "overflow_y": null,
            "overflow_x": null,
            "grid_auto_flow": null,
            "grid_area": null,
            "grid_template_columns": null,
            "flex": null,
            "_model_name": "LayoutModel",
            "justify_items": null,
            "grid_row": null,
            "max_height": null,
            "align_content": null,
            "visibility": null,
            "align_self": null,
            "height": null,
            "min_height": null,
            "padding": null,
            "grid_auto_rows": null,
            "grid_gap": null,
            "max_width": null,
            "order": null,
            "_view_module_version": "1.2.0",
            "grid_template_areas": null,
            "object_position": null,
            "object_fit": null,
            "grid_auto_columns": null,
            "margin": null,
            "display": null,
            "left": null
          }
        },
        "bc95641ed61a4f3ca1acdd31236c7a2b": {
          "model_module": "@jupyter-widgets/controls",
          "model_name": "DescriptionStyleModel",
          "state": {
            "_view_name": "StyleView",
            "_model_name": "DescriptionStyleModel",
            "description_width": "",
            "_view_module": "@jupyter-widgets/base",
            "_model_module_version": "1.5.0",
            "_view_count": null,
            "_view_module_version": "1.2.0",
            "_model_module": "@jupyter-widgets/controls"
          }
        },
        "a19ae133b234431691af4220632d2879": {
          "model_module": "@jupyter-widgets/base",
          "model_name": "LayoutModel",
          "state": {
            "_view_name": "LayoutView",
            "grid_template_rows": null,
            "right": null,
            "justify_content": null,
            "_view_module": "@jupyter-widgets/base",
            "overflow": null,
            "_model_module_version": "1.2.0",
            "_view_count": null,
            "flex_flow": null,
            "width": null,
            "min_width": null,
            "border": null,
            "align_items": null,
            "bottom": null,
            "_model_module": "@jupyter-widgets/base",
            "top": null,
            "grid_column": null,
            "overflow_y": null,
            "overflow_x": null,
            "grid_auto_flow": null,
            "grid_area": null,
            "grid_template_columns": null,
            "flex": null,
            "_model_name": "LayoutModel",
            "justify_items": null,
            "grid_row": null,
            "max_height": null,
            "align_content": null,
            "visibility": null,
            "align_self": null,
            "height": null,
            "min_height": null,
            "padding": null,
            "grid_auto_rows": null,
            "grid_gap": null,
            "max_width": null,
            "order": null,
            "_view_module_version": "1.2.0",
            "grid_template_areas": null,
            "object_position": null,
            "object_fit": null,
            "grid_auto_columns": null,
            "margin": null,
            "display": null,
            "left": null
          }
        },
        "32e178b662fb46db80a331349f67cadd": {
          "model_module": "@jupyter-widgets/controls",
          "model_name": "HBoxModel",
          "state": {
            "_view_name": "HBoxView",
            "_dom_classes": [],
            "_model_name": "HBoxModel",
            "_view_module": "@jupyter-widgets/controls",
            "_model_module_version": "1.5.0",
            "_view_count": null,
            "_view_module_version": "1.5.0",
            "box_style": "",
            "layout": "IPY_MODEL_1a13907fe43a4be6818887e576ee25e1",
            "_model_module": "@jupyter-widgets/controls",
            "children": [
              "IPY_MODEL_11167c8312394ec6852b418a3ebbc257",
              "IPY_MODEL_c46bd260121f4ffa8e171437ab248f49"
            ]
          }
        },
        "1a13907fe43a4be6818887e576ee25e1": {
          "model_module": "@jupyter-widgets/base",
          "model_name": "LayoutModel",
          "state": {
            "_view_name": "LayoutView",
            "grid_template_rows": null,
            "right": null,
            "justify_content": null,
            "_view_module": "@jupyter-widgets/base",
            "overflow": null,
            "_model_module_version": "1.2.0",
            "_view_count": null,
            "flex_flow": null,
            "width": null,
            "min_width": null,
            "border": null,
            "align_items": null,
            "bottom": null,
            "_model_module": "@jupyter-widgets/base",
            "top": null,
            "grid_column": null,
            "overflow_y": null,
            "overflow_x": null,
            "grid_auto_flow": null,
            "grid_area": null,
            "grid_template_columns": null,
            "flex": null,
            "_model_name": "LayoutModel",
            "justify_items": null,
            "grid_row": null,
            "max_height": null,
            "align_content": null,
            "visibility": null,
            "align_self": null,
            "height": null,
            "min_height": null,
            "padding": null,
            "grid_auto_rows": null,
            "grid_gap": null,
            "max_width": null,
            "order": null,
            "_view_module_version": "1.2.0",
            "grid_template_areas": null,
            "object_position": null,
            "object_fit": null,
            "grid_auto_columns": null,
            "margin": null,
            "display": null,
            "left": null
          }
        },
        "11167c8312394ec6852b418a3ebbc257": {
          "model_module": "@jupyter-widgets/controls",
          "model_name": "FloatProgressModel",
          "state": {
            "_view_name": "ProgressView",
            "style": "IPY_MODEL_0e35fb6dba0d47f1822a79128ea843cb",
            "_dom_classes": [],
            "description": "Downloading: 100%",
            "_model_name": "FloatProgressModel",
            "bar_style": "success",
            "max": 112,
            "_view_module": "@jupyter-widgets/controls",
            "_model_module_version": "1.5.0",
            "value": 112,
            "_view_count": null,
            "_view_module_version": "1.5.0",
            "orientation": "horizontal",
            "min": 0,
            "description_tooltip": null,
            "_model_module": "@jupyter-widgets/controls",
            "layout": "IPY_MODEL_de2313a82ee34aaeb5925aaa696976e6"
          }
        },
        "c46bd260121f4ffa8e171437ab248f49": {
          "model_module": "@jupyter-widgets/controls",
          "model_name": "HTMLModel",
          "state": {
            "_view_name": "HTMLView",
            "style": "IPY_MODEL_07e508e267a041b688e600a877b86701",
            "_dom_classes": [],
            "description": "",
            "_model_name": "HTMLModel",
            "placeholder": "​",
            "_view_module": "@jupyter-widgets/controls",
            "_model_module_version": "1.5.0",
            "value": " 112/112 [00:00&lt;00:00, 193B/s]",
            "_view_count": null,
            "_view_module_version": "1.5.0",
            "description_tooltip": null,
            "_model_module": "@jupyter-widgets/controls",
            "layout": "IPY_MODEL_c51c923bac0f490b8fa5b600dfe8ef99"
          }
        },
        "0e35fb6dba0d47f1822a79128ea843cb": {
          "model_module": "@jupyter-widgets/controls",
          "model_name": "ProgressStyleModel",
          "state": {
            "_view_name": "StyleView",
            "_model_name": "ProgressStyleModel",
            "description_width": "initial",
            "_view_module": "@jupyter-widgets/base",
            "_model_module_version": "1.5.0",
            "_view_count": null,
            "_view_module_version": "1.2.0",
            "bar_color": null,
            "_model_module": "@jupyter-widgets/controls"
          }
        },
        "de2313a82ee34aaeb5925aaa696976e6": {
          "model_module": "@jupyter-widgets/base",
          "model_name": "LayoutModel",
          "state": {
            "_view_name": "LayoutView",
            "grid_template_rows": null,
            "right": null,
            "justify_content": null,
            "_view_module": "@jupyter-widgets/base",
            "overflow": null,
            "_model_module_version": "1.2.0",
            "_view_count": null,
            "flex_flow": null,
            "width": null,
            "min_width": null,
            "border": null,
            "align_items": null,
            "bottom": null,
            "_model_module": "@jupyter-widgets/base",
            "top": null,
            "grid_column": null,
            "overflow_y": null,
            "overflow_x": null,
            "grid_auto_flow": null,
            "grid_area": null,
            "grid_template_columns": null,
            "flex": null,
            "_model_name": "LayoutModel",
            "justify_items": null,
            "grid_row": null,
            "max_height": null,
            "align_content": null,
            "visibility": null,
            "align_self": null,
            "height": null,
            "min_height": null,
            "padding": null,
            "grid_auto_rows": null,
            "grid_gap": null,
            "max_width": null,
            "order": null,
            "_view_module_version": "1.2.0",
            "grid_template_areas": null,
            "object_position": null,
            "object_fit": null,
            "grid_auto_columns": null,
            "margin": null,
            "display": null,
            "left": null
          }
        },
        "07e508e267a041b688e600a877b86701": {
          "model_module": "@jupyter-widgets/controls",
          "model_name": "DescriptionStyleModel",
          "state": {
            "_view_name": "StyleView",
            "_model_name": "DescriptionStyleModel",
            "description_width": "",
            "_view_module": "@jupyter-widgets/base",
            "_model_module_version": "1.5.0",
            "_view_count": null,
            "_view_module_version": "1.2.0",
            "_model_module": "@jupyter-widgets/controls"
          }
        },
        "c51c923bac0f490b8fa5b600dfe8ef99": {
          "model_module": "@jupyter-widgets/base",
          "model_name": "LayoutModel",
          "state": {
            "_view_name": "LayoutView",
            "grid_template_rows": null,
            "right": null,
            "justify_content": null,
            "_view_module": "@jupyter-widgets/base",
            "overflow": null,
            "_model_module_version": "1.2.0",
            "_view_count": null,
            "flex_flow": null,
            "width": null,
            "min_width": null,
            "border": null,
            "align_items": null,
            "bottom": null,
            "_model_module": "@jupyter-widgets/base",
            "top": null,
            "grid_column": null,
            "overflow_y": null,
            "overflow_x": null,
            "grid_auto_flow": null,
            "grid_area": null,
            "grid_template_columns": null,
            "flex": null,
            "_model_name": "LayoutModel",
            "justify_items": null,
            "grid_row": null,
            "max_height": null,
            "align_content": null,
            "visibility": null,
            "align_self": null,
            "height": null,
            "min_height": null,
            "padding": null,
            "grid_auto_rows": null,
            "grid_gap": null,
            "max_width": null,
            "order": null,
            "_view_module_version": "1.2.0",
            "grid_template_areas": null,
            "object_position": null,
            "object_fit": null,
            "grid_auto_columns": null,
            "margin": null,
            "display": null,
            "left": null
          }
        },
        "94700e72626b4da0a6d0d1076820844d": {
          "model_module": "@jupyter-widgets/controls",
          "model_name": "HBoxModel",
          "state": {
            "_view_name": "HBoxView",
            "_dom_classes": [],
            "_model_name": "HBoxModel",
            "_view_module": "@jupyter-widgets/controls",
            "_model_module_version": "1.5.0",
            "_view_count": null,
            "_view_module_version": "1.5.0",
            "box_style": "",
            "layout": "IPY_MODEL_eb99e9dae43c44d797e772ae8b75da00",
            "_model_module": "@jupyter-widgets/controls",
            "children": [
              "IPY_MODEL_37a3bf0757404f4d82c21ec2f5b925ae",
              "IPY_MODEL_4ec4f87001d142e7a2696a8157502776"
            ]
          }
        },
        "eb99e9dae43c44d797e772ae8b75da00": {
          "model_module": "@jupyter-widgets/base",
          "model_name": "LayoutModel",
          "state": {
            "_view_name": "LayoutView",
            "grid_template_rows": null,
            "right": null,
            "justify_content": null,
            "_view_module": "@jupyter-widgets/base",
            "overflow": null,
            "_model_module_version": "1.2.0",
            "_view_count": null,
            "flex_flow": null,
            "width": null,
            "min_width": null,
            "border": null,
            "align_items": null,
            "bottom": null,
            "_model_module": "@jupyter-widgets/base",
            "top": null,
            "grid_column": null,
            "overflow_y": null,
            "overflow_x": null,
            "grid_auto_flow": null,
            "grid_area": null,
            "grid_template_columns": null,
            "flex": null,
            "_model_name": "LayoutModel",
            "justify_items": null,
            "grid_row": null,
            "max_height": null,
            "align_content": null,
            "visibility": null,
            "align_self": null,
            "height": null,
            "min_height": null,
            "padding": null,
            "grid_auto_rows": null,
            "grid_gap": null,
            "max_width": null,
            "order": null,
            "_view_module_version": "1.2.0",
            "grid_template_areas": null,
            "object_position": null,
            "object_fit": null,
            "grid_auto_columns": null,
            "margin": null,
            "display": null,
            "left": null
          }
        },
        "37a3bf0757404f4d82c21ec2f5b925ae": {
          "model_module": "@jupyter-widgets/controls",
          "model_name": "FloatProgressModel",
          "state": {
            "_view_name": "ProgressView",
            "style": "IPY_MODEL_25c6e524367e4976868f3571c99c1a5b",
            "_dom_classes": [],
            "description": "Downloading: 100%",
            "_model_name": "FloatProgressModel",
            "bar_style": "success",
            "max": 438006864,
            "_view_module": "@jupyter-widgets/controls",
            "_model_module_version": "1.5.0",
            "value": 438006864,
            "_view_count": null,
            "_view_module_version": "1.5.0",
            "orientation": "horizontal",
            "min": 0,
            "description_tooltip": null,
            "_model_module": "@jupyter-widgets/controls",
            "layout": "IPY_MODEL_0537f2867c2546419a2e0bd5af1a8a8f"
          }
        },
        "4ec4f87001d142e7a2696a8157502776": {
          "model_module": "@jupyter-widgets/controls",
          "model_name": "HTMLModel",
          "state": {
            "_view_name": "HTMLView",
            "style": "IPY_MODEL_10518d76d26a4677b1e052962b7d43a9",
            "_dom_classes": [],
            "description": "",
            "_model_name": "HTMLModel",
            "placeholder": "​",
            "_view_module": "@jupyter-widgets/controls",
            "_model_module_version": "1.5.0",
            "value": " 438M/438M [00:06&lt;00:00, 64.7MB/s]",
            "_view_count": null,
            "_view_module_version": "1.5.0",
            "description_tooltip": null,
            "_model_module": "@jupyter-widgets/controls",
            "layout": "IPY_MODEL_180c56d670f3492e9a2e90b66de6dd14"
          }
        },
        "25c6e524367e4976868f3571c99c1a5b": {
          "model_module": "@jupyter-widgets/controls",
          "model_name": "ProgressStyleModel",
          "state": {
            "_view_name": "StyleView",
            "_model_name": "ProgressStyleModel",
            "description_width": "initial",
            "_view_module": "@jupyter-widgets/base",
            "_model_module_version": "1.5.0",
            "_view_count": null,
            "_view_module_version": "1.2.0",
            "bar_color": null,
            "_model_module": "@jupyter-widgets/controls"
          }
        },
        "0537f2867c2546419a2e0bd5af1a8a8f": {
          "model_module": "@jupyter-widgets/base",
          "model_name": "LayoutModel",
          "state": {
            "_view_name": "LayoutView",
            "grid_template_rows": null,
            "right": null,
            "justify_content": null,
            "_view_module": "@jupyter-widgets/base",
            "overflow": null,
            "_model_module_version": "1.2.0",
            "_view_count": null,
            "flex_flow": null,
            "width": null,
            "min_width": null,
            "border": null,
            "align_items": null,
            "bottom": null,
            "_model_module": "@jupyter-widgets/base",
            "top": null,
            "grid_column": null,
            "overflow_y": null,
            "overflow_x": null,
            "grid_auto_flow": null,
            "grid_area": null,
            "grid_template_columns": null,
            "flex": null,
            "_model_name": "LayoutModel",
            "justify_items": null,
            "grid_row": null,
            "max_height": null,
            "align_content": null,
            "visibility": null,
            "align_self": null,
            "height": null,
            "min_height": null,
            "padding": null,
            "grid_auto_rows": null,
            "grid_gap": null,
            "max_width": null,
            "order": null,
            "_view_module_version": "1.2.0",
            "grid_template_areas": null,
            "object_position": null,
            "object_fit": null,
            "grid_auto_columns": null,
            "margin": null,
            "display": null,
            "left": null
          }
        },
        "10518d76d26a4677b1e052962b7d43a9": {
          "model_module": "@jupyter-widgets/controls",
          "model_name": "DescriptionStyleModel",
          "state": {
            "_view_name": "StyleView",
            "_model_name": "DescriptionStyleModel",
            "description_width": "",
            "_view_module": "@jupyter-widgets/base",
            "_model_module_version": "1.5.0",
            "_view_count": null,
            "_view_module_version": "1.2.0",
            "_model_module": "@jupyter-widgets/controls"
          }
        },
        "180c56d670f3492e9a2e90b66de6dd14": {
          "model_module": "@jupyter-widgets/base",
          "model_name": "LayoutModel",
          "state": {
            "_view_name": "LayoutView",
            "grid_template_rows": null,
            "right": null,
            "justify_content": null,
            "_view_module": "@jupyter-widgets/base",
            "overflow": null,
            "_model_module_version": "1.2.0",
            "_view_count": null,
            "flex_flow": null,
            "width": null,
            "min_width": null,
            "border": null,
            "align_items": null,
            "bottom": null,
            "_model_module": "@jupyter-widgets/base",
            "top": null,
            "grid_column": null,
            "overflow_y": null,
            "overflow_x": null,
            "grid_auto_flow": null,
            "grid_area": null,
            "grid_template_columns": null,
            "flex": null,
            "_model_name": "LayoutModel",
            "justify_items": null,
            "grid_row": null,
            "max_height": null,
            "align_content": null,
            "visibility": null,
            "align_self": null,
            "height": null,
            "min_height": null,
            "padding": null,
            "grid_auto_rows": null,
            "grid_gap": null,
            "max_width": null,
            "order": null,
            "_view_module_version": "1.2.0",
            "grid_template_areas": null,
            "object_position": null,
            "object_fit": null,
            "grid_auto_columns": null,
            "margin": null,
            "display": null,
            "left": null
          }
        },
        "d8c4a7e50a174087bc8322522eb40bb5": {
          "model_module": "@jupyter-widgets/controls",
          "model_name": "HBoxModel",
          "state": {
            "_view_name": "HBoxView",
            "_dom_classes": [],
            "_model_name": "HBoxModel",
            "_view_module": "@jupyter-widgets/controls",
            "_model_module_version": "1.5.0",
            "_view_count": null,
            "_view_module_version": "1.5.0",
            "box_style": "",
            "layout": "IPY_MODEL_580dff46f92b4d658e73ee62d2a4f511",
            "_model_module": "@jupyter-widgets/controls",
            "children": [
              "IPY_MODEL_0393240567074ebfa4dae5595bd0899d",
              "IPY_MODEL_8f17f0f9df214bb5bbd271fe3d29c1fb"
            ]
          }
        },
        "580dff46f92b4d658e73ee62d2a4f511": {
          "model_module": "@jupyter-widgets/base",
          "model_name": "LayoutModel",
          "state": {
            "_view_name": "LayoutView",
            "grid_template_rows": null,
            "right": null,
            "justify_content": null,
            "_view_module": "@jupyter-widgets/base",
            "overflow": null,
            "_model_module_version": "1.2.0",
            "_view_count": null,
            "flex_flow": null,
            "width": null,
            "min_width": null,
            "border": null,
            "align_items": null,
            "bottom": null,
            "_model_module": "@jupyter-widgets/base",
            "top": null,
            "grid_column": null,
            "overflow_y": null,
            "overflow_x": null,
            "grid_auto_flow": null,
            "grid_area": null,
            "grid_template_columns": null,
            "flex": null,
            "_model_name": "LayoutModel",
            "justify_items": null,
            "grid_row": null,
            "max_height": null,
            "align_content": null,
            "visibility": null,
            "align_self": null,
            "height": null,
            "min_height": null,
            "padding": null,
            "grid_auto_rows": null,
            "grid_gap": null,
            "max_width": null,
            "order": null,
            "_view_module_version": "1.2.0",
            "grid_template_areas": null,
            "object_position": null,
            "object_fit": null,
            "grid_auto_columns": null,
            "margin": null,
            "display": null,
            "left": null
          }
        },
        "0393240567074ebfa4dae5595bd0899d": {
          "model_module": "@jupyter-widgets/controls",
          "model_name": "FloatProgressModel",
          "state": {
            "_view_name": "ProgressView",
            "style": "IPY_MODEL_06a59357b5224cc292100325bd8af45c",
            "_dom_classes": [],
            "description": "Downloading: 100%",
            "_model_name": "FloatProgressModel",
            "bar_style": "success",
            "max": 213450,
            "_view_module": "@jupyter-widgets/controls",
            "_model_module_version": "1.5.0",
            "value": 213450,
            "_view_count": null,
            "_view_module_version": "1.5.0",
            "orientation": "horizontal",
            "min": 0,
            "description_tooltip": null,
            "_model_module": "@jupyter-widgets/controls",
            "layout": "IPY_MODEL_5569da12528247a5841e2a868888e240"
          }
        },
        "8f17f0f9df214bb5bbd271fe3d29c1fb": {
          "model_module": "@jupyter-widgets/controls",
          "model_name": "HTMLModel",
          "state": {
            "_view_name": "HTMLView",
            "style": "IPY_MODEL_01433507ceaa4a699172fe4b1b02de7b",
            "_dom_classes": [],
            "description": "",
            "_model_name": "HTMLModel",
            "placeholder": "​",
            "_view_module": "@jupyter-widgets/controls",
            "_model_module_version": "1.5.0",
            "value": " 213k/213k [00:00&lt;00:00, 745kB/s]",
            "_view_count": null,
            "_view_module_version": "1.5.0",
            "description_tooltip": null,
            "_model_module": "@jupyter-widgets/controls",
            "layout": "IPY_MODEL_3c48b6ea27a143a5a63504f3d94890c7"
          }
        },
        "06a59357b5224cc292100325bd8af45c": {
          "model_module": "@jupyter-widgets/controls",
          "model_name": "ProgressStyleModel",
          "state": {
            "_view_name": "StyleView",
            "_model_name": "ProgressStyleModel",
            "description_width": "initial",
            "_view_module": "@jupyter-widgets/base",
            "_model_module_version": "1.5.0",
            "_view_count": null,
            "_view_module_version": "1.2.0",
            "bar_color": null,
            "_model_module": "@jupyter-widgets/controls"
          }
        },
        "5569da12528247a5841e2a868888e240": {
          "model_module": "@jupyter-widgets/base",
          "model_name": "LayoutModel",
          "state": {
            "_view_name": "LayoutView",
            "grid_template_rows": null,
            "right": null,
            "justify_content": null,
            "_view_module": "@jupyter-widgets/base",
            "overflow": null,
            "_model_module_version": "1.2.0",
            "_view_count": null,
            "flex_flow": null,
            "width": null,
            "min_width": null,
            "border": null,
            "align_items": null,
            "bottom": null,
            "_model_module": "@jupyter-widgets/base",
            "top": null,
            "grid_column": null,
            "overflow_y": null,
            "overflow_x": null,
            "grid_auto_flow": null,
            "grid_area": null,
            "grid_template_columns": null,
            "flex": null,
            "_model_name": "LayoutModel",
            "justify_items": null,
            "grid_row": null,
            "max_height": null,
            "align_content": null,
            "visibility": null,
            "align_self": null,
            "height": null,
            "min_height": null,
            "padding": null,
            "grid_auto_rows": null,
            "grid_gap": null,
            "max_width": null,
            "order": null,
            "_view_module_version": "1.2.0",
            "grid_template_areas": null,
            "object_position": null,
            "object_fit": null,
            "grid_auto_columns": null,
            "margin": null,
            "display": null,
            "left": null
          }
        },
        "01433507ceaa4a699172fe4b1b02de7b": {
          "model_module": "@jupyter-widgets/controls",
          "model_name": "DescriptionStyleModel",
          "state": {
            "_view_name": "StyleView",
            "_model_name": "DescriptionStyleModel",
            "description_width": "",
            "_view_module": "@jupyter-widgets/base",
            "_model_module_version": "1.5.0",
            "_view_count": null,
            "_view_module_version": "1.2.0",
            "_model_module": "@jupyter-widgets/controls"
          }
        },
        "3c48b6ea27a143a5a63504f3d94890c7": {
          "model_module": "@jupyter-widgets/base",
          "model_name": "LayoutModel",
          "state": {
            "_view_name": "LayoutView",
            "grid_template_rows": null,
            "right": null,
            "justify_content": null,
            "_view_module": "@jupyter-widgets/base",
            "overflow": null,
            "_model_module_version": "1.2.0",
            "_view_count": null,
            "flex_flow": null,
            "width": null,
            "min_width": null,
            "border": null,
            "align_items": null,
            "bottom": null,
            "_model_module": "@jupyter-widgets/base",
            "top": null,
            "grid_column": null,
            "overflow_y": null,
            "overflow_x": null,
            "grid_auto_flow": null,
            "grid_area": null,
            "grid_template_columns": null,
            "flex": null,
            "_model_name": "LayoutModel",
            "justify_items": null,
            "grid_row": null,
            "max_height": null,
            "align_content": null,
            "visibility": null,
            "align_self": null,
            "height": null,
            "min_height": null,
            "padding": null,
            "grid_auto_rows": null,
            "grid_gap": null,
            "max_width": null,
            "order": null,
            "_view_module_version": "1.2.0",
            "grid_template_areas": null,
            "object_position": null,
            "object_fit": null,
            "grid_auto_columns": null,
            "margin": null,
            "display": null,
            "left": null
          }
        },
        "ce2bbe55fb3c413c93d270fc5495cb34": {
          "model_module": "@jupyter-widgets/controls",
          "model_name": "HBoxModel",
          "state": {
            "_view_name": "HBoxView",
            "_dom_classes": [],
            "_model_name": "HBoxModel",
            "_view_module": "@jupyter-widgets/controls",
            "_model_module_version": "1.5.0",
            "_view_count": null,
            "_view_module_version": "1.5.0",
            "box_style": "",
            "layout": "IPY_MODEL_969ba0b473ff4cbcb08eb14c75b88265",
            "_model_module": "@jupyter-widgets/controls",
            "children": [
              "IPY_MODEL_07b886b43b4d4571aee7c19067f23f0d",
              "IPY_MODEL_2e202263a86746e2b5f86c1c3c807717"
            ]
          }
        },
        "969ba0b473ff4cbcb08eb14c75b88265": {
          "model_module": "@jupyter-widgets/base",
          "model_name": "LayoutModel",
          "state": {
            "_view_name": "LayoutView",
            "grid_template_rows": null,
            "right": null,
            "justify_content": null,
            "_view_module": "@jupyter-widgets/base",
            "overflow": null,
            "_model_module_version": "1.2.0",
            "_view_count": null,
            "flex_flow": null,
            "width": null,
            "min_width": null,
            "border": null,
            "align_items": null,
            "bottom": null,
            "_model_module": "@jupyter-widgets/base",
            "top": null,
            "grid_column": null,
            "overflow_y": null,
            "overflow_x": null,
            "grid_auto_flow": null,
            "grid_area": null,
            "grid_template_columns": null,
            "flex": null,
            "_model_name": "LayoutModel",
            "justify_items": null,
            "grid_row": null,
            "max_height": null,
            "align_content": null,
            "visibility": null,
            "align_self": null,
            "height": null,
            "min_height": null,
            "padding": null,
            "grid_auto_rows": null,
            "grid_gap": null,
            "max_width": null,
            "order": null,
            "_view_module_version": "1.2.0",
            "grid_template_areas": null,
            "object_position": null,
            "object_fit": null,
            "grid_auto_columns": null,
            "margin": null,
            "display": null,
            "left": null
          }
        },
        "07b886b43b4d4571aee7c19067f23f0d": {
          "model_module": "@jupyter-widgets/controls",
          "model_name": "FloatProgressModel",
          "state": {
            "_view_name": "ProgressView",
            "style": "IPY_MODEL_eca7078b013547668b7332f8f9d819e7",
            "_dom_classes": [],
            "description": "Downloading: 100%",
            "_model_name": "FloatProgressModel",
            "bar_style": "success",
            "max": 433,
            "_view_module": "@jupyter-widgets/controls",
            "_model_module_version": "1.5.0",
            "value": 433,
            "_view_count": null,
            "_view_module_version": "1.5.0",
            "orientation": "horizontal",
            "min": 0,
            "description_tooltip": null,
            "_model_module": "@jupyter-widgets/controls",
            "layout": "IPY_MODEL_8430eb269ae248cca93ca4589edd2b36"
          }
        },
        "2e202263a86746e2b5f86c1c3c807717": {
          "model_module": "@jupyter-widgets/controls",
          "model_name": "HTMLModel",
          "state": {
            "_view_name": "HTMLView",
            "style": "IPY_MODEL_c6be3037b0044d598899a2218505a571",
            "_dom_classes": [],
            "description": "",
            "_model_name": "HTMLModel",
            "placeholder": "​",
            "_view_module": "@jupyter-widgets/controls",
            "_model_module_version": "1.5.0",
            "value": " 433/433 [00:34&lt;00:00, 12.7B/s]",
            "_view_count": null,
            "_view_module_version": "1.5.0",
            "description_tooltip": null,
            "_model_module": "@jupyter-widgets/controls",
            "layout": "IPY_MODEL_0285252ab826413fbb481e41c974cdfb"
          }
        },
        "eca7078b013547668b7332f8f9d819e7": {
          "model_module": "@jupyter-widgets/controls",
          "model_name": "ProgressStyleModel",
          "state": {
            "_view_name": "StyleView",
            "_model_name": "ProgressStyleModel",
            "description_width": "initial",
            "_view_module": "@jupyter-widgets/base",
            "_model_module_version": "1.5.0",
            "_view_count": null,
            "_view_module_version": "1.2.0",
            "bar_color": null,
            "_model_module": "@jupyter-widgets/controls"
          }
        },
        "8430eb269ae248cca93ca4589edd2b36": {
          "model_module": "@jupyter-widgets/base",
          "model_name": "LayoutModel",
          "state": {
            "_view_name": "LayoutView",
            "grid_template_rows": null,
            "right": null,
            "justify_content": null,
            "_view_module": "@jupyter-widgets/base",
            "overflow": null,
            "_model_module_version": "1.2.0",
            "_view_count": null,
            "flex_flow": null,
            "width": null,
            "min_width": null,
            "border": null,
            "align_items": null,
            "bottom": null,
            "_model_module": "@jupyter-widgets/base",
            "top": null,
            "grid_column": null,
            "overflow_y": null,
            "overflow_x": null,
            "grid_auto_flow": null,
            "grid_area": null,
            "grid_template_columns": null,
            "flex": null,
            "_model_name": "LayoutModel",
            "justify_items": null,
            "grid_row": null,
            "max_height": null,
            "align_content": null,
            "visibility": null,
            "align_self": null,
            "height": null,
            "min_height": null,
            "padding": null,
            "grid_auto_rows": null,
            "grid_gap": null,
            "max_width": null,
            "order": null,
            "_view_module_version": "1.2.0",
            "grid_template_areas": null,
            "object_position": null,
            "object_fit": null,
            "grid_auto_columns": null,
            "margin": null,
            "display": null,
            "left": null
          }
        },
        "c6be3037b0044d598899a2218505a571": {
          "model_module": "@jupyter-widgets/controls",
          "model_name": "DescriptionStyleModel",
          "state": {
            "_view_name": "StyleView",
            "_model_name": "DescriptionStyleModel",
            "description_width": "",
            "_view_module": "@jupyter-widgets/base",
            "_model_module_version": "1.5.0",
            "_view_count": null,
            "_view_module_version": "1.2.0",
            "_model_module": "@jupyter-widgets/controls"
          }
        },
        "0285252ab826413fbb481e41c974cdfb": {
          "model_module": "@jupyter-widgets/base",
          "model_name": "LayoutModel",
          "state": {
            "_view_name": "LayoutView",
            "grid_template_rows": null,
            "right": null,
            "justify_content": null,
            "_view_module": "@jupyter-widgets/base",
            "overflow": null,
            "_model_module_version": "1.2.0",
            "_view_count": null,
            "flex_flow": null,
            "width": null,
            "min_width": null,
            "border": null,
            "align_items": null,
            "bottom": null,
            "_model_module": "@jupyter-widgets/base",
            "top": null,
            "grid_column": null,
            "overflow_y": null,
            "overflow_x": null,
            "grid_auto_flow": null,
            "grid_area": null,
            "grid_template_columns": null,
            "flex": null,
            "_model_name": "LayoutModel",
            "justify_items": null,
            "grid_row": null,
            "max_height": null,
            "align_content": null,
            "visibility": null,
            "align_self": null,
            "height": null,
            "min_height": null,
            "padding": null,
            "grid_auto_rows": null,
            "grid_gap": null,
            "max_width": null,
            "order": null,
            "_view_module_version": "1.2.0",
            "grid_template_areas": null,
            "object_position": null,
            "object_fit": null,
            "grid_auto_columns": null,
            "margin": null,
            "display": null,
            "left": null
          }
        },
        "aa1516abcbc14305b031243efecdaacf": {
          "model_module": "@jupyter-widgets/controls",
          "model_name": "HBoxModel",
          "state": {
            "_view_name": "HBoxView",
            "_dom_classes": [],
            "_model_name": "HBoxModel",
            "_view_module": "@jupyter-widgets/controls",
            "_model_module_version": "1.5.0",
            "_view_count": null,
            "_view_module_version": "1.5.0",
            "box_style": "",
            "layout": "IPY_MODEL_963402e573d7473b9bae32089d67ba66",
            "_model_module": "@jupyter-widgets/controls",
            "children": [
              "IPY_MODEL_a1946938894b43c19bb17bbdaf7a5682",
              "IPY_MODEL_f5a22e0c480e4b42ae25d3bb9a71e002"
            ]
          }
        },
        "963402e573d7473b9bae32089d67ba66": {
          "model_module": "@jupyter-widgets/base",
          "model_name": "LayoutModel",
          "state": {
            "_view_name": "LayoutView",
            "grid_template_rows": null,
            "right": null,
            "justify_content": null,
            "_view_module": "@jupyter-widgets/base",
            "overflow": null,
            "_model_module_version": "1.2.0",
            "_view_count": null,
            "flex_flow": null,
            "width": null,
            "min_width": null,
            "border": null,
            "align_items": null,
            "bottom": null,
            "_model_module": "@jupyter-widgets/base",
            "top": null,
            "grid_column": null,
            "overflow_y": null,
            "overflow_x": null,
            "grid_auto_flow": null,
            "grid_area": null,
            "grid_template_columns": null,
            "flex": null,
            "_model_name": "LayoutModel",
            "justify_items": null,
            "grid_row": null,
            "max_height": null,
            "align_content": null,
            "visibility": null,
            "align_self": null,
            "height": null,
            "min_height": null,
            "padding": null,
            "grid_auto_rows": null,
            "grid_gap": null,
            "max_width": null,
            "order": null,
            "_view_module_version": "1.2.0",
            "grid_template_areas": null,
            "object_position": null,
            "object_fit": null,
            "grid_auto_columns": null,
            "margin": null,
            "display": null,
            "left": null
          }
        },
        "a1946938894b43c19bb17bbdaf7a5682": {
          "model_module": "@jupyter-widgets/controls",
          "model_name": "FloatProgressModel",
          "state": {
            "_view_name": "ProgressView",
            "style": "IPY_MODEL_92c9887ee11e4ccba0e87e0aa65b989b",
            "_dom_classes": [],
            "description": "Downloading: 100%",
            "_model_name": "FloatProgressModel",
            "bar_style": "success",
            "max": 435779157,
            "_view_module": "@jupyter-widgets/controls",
            "_model_module_version": "1.5.0",
            "value": 435779157,
            "_view_count": null,
            "_view_module_version": "1.5.0",
            "orientation": "horizontal",
            "min": 0,
            "description_tooltip": null,
            "_model_module": "@jupyter-widgets/controls",
            "layout": "IPY_MODEL_92dfb095869e478f9afc65d4d5cca8fd"
          }
        },
        "f5a22e0c480e4b42ae25d3bb9a71e002": {
          "model_module": "@jupyter-widgets/controls",
          "model_name": "HTMLModel",
          "state": {
            "_view_name": "HTMLView",
            "style": "IPY_MODEL_de54c7704bcc45d1853ffe9649b86e0a",
            "_dom_classes": [],
            "description": "",
            "_model_name": "HTMLModel",
            "placeholder": "​",
            "_view_module": "@jupyter-widgets/controls",
            "_model_module_version": "1.5.0",
            "value": " 436M/436M [00:33&lt;00:00, 12.9MB/s]",
            "_view_count": null,
            "_view_module_version": "1.5.0",
            "description_tooltip": null,
            "_model_module": "@jupyter-widgets/controls",
            "layout": "IPY_MODEL_8c59deea799e4b4a80287e8cc2f0b8b2"
          }
        },
        "92c9887ee11e4ccba0e87e0aa65b989b": {
          "model_module": "@jupyter-widgets/controls",
          "model_name": "ProgressStyleModel",
          "state": {
            "_view_name": "StyleView",
            "_model_name": "ProgressStyleModel",
            "description_width": "initial",
            "_view_module": "@jupyter-widgets/base",
            "_model_module_version": "1.5.0",
            "_view_count": null,
            "_view_module_version": "1.2.0",
            "bar_color": null,
            "_model_module": "@jupyter-widgets/controls"
          }
        },
        "92dfb095869e478f9afc65d4d5cca8fd": {
          "model_module": "@jupyter-widgets/base",
          "model_name": "LayoutModel",
          "state": {
            "_view_name": "LayoutView",
            "grid_template_rows": null,
            "right": null,
            "justify_content": null,
            "_view_module": "@jupyter-widgets/base",
            "overflow": null,
            "_model_module_version": "1.2.0",
            "_view_count": null,
            "flex_flow": null,
            "width": null,
            "min_width": null,
            "border": null,
            "align_items": null,
            "bottom": null,
            "_model_module": "@jupyter-widgets/base",
            "top": null,
            "grid_column": null,
            "overflow_y": null,
            "overflow_x": null,
            "grid_auto_flow": null,
            "grid_area": null,
            "grid_template_columns": null,
            "flex": null,
            "_model_name": "LayoutModel",
            "justify_items": null,
            "grid_row": null,
            "max_height": null,
            "align_content": null,
            "visibility": null,
            "align_self": null,
            "height": null,
            "min_height": null,
            "padding": null,
            "grid_auto_rows": null,
            "grid_gap": null,
            "max_width": null,
            "order": null,
            "_view_module_version": "1.2.0",
            "grid_template_areas": null,
            "object_position": null,
            "object_fit": null,
            "grid_auto_columns": null,
            "margin": null,
            "display": null,
            "left": null
          }
        },
        "de54c7704bcc45d1853ffe9649b86e0a": {
          "model_module": "@jupyter-widgets/controls",
          "model_name": "DescriptionStyleModel",
          "state": {
            "_view_name": "StyleView",
            "_model_name": "DescriptionStyleModel",
            "description_width": "",
            "_view_module": "@jupyter-widgets/base",
            "_model_module_version": "1.5.0",
            "_view_count": null,
            "_view_module_version": "1.2.0",
            "_model_module": "@jupyter-widgets/controls"
          }
        },
        "8c59deea799e4b4a80287e8cc2f0b8b2": {
          "model_module": "@jupyter-widgets/base",
          "model_name": "LayoutModel",
          "state": {
            "_view_name": "LayoutView",
            "grid_template_rows": null,
            "right": null,
            "justify_content": null,
            "_view_module": "@jupyter-widgets/base",
            "overflow": null,
            "_model_module_version": "1.2.0",
            "_view_count": null,
            "flex_flow": null,
            "width": null,
            "min_width": null,
            "border": null,
            "align_items": null,
            "bottom": null,
            "_model_module": "@jupyter-widgets/base",
            "top": null,
            "grid_column": null,
            "overflow_y": null,
            "overflow_x": null,
            "grid_auto_flow": null,
            "grid_area": null,
            "grid_template_columns": null,
            "flex": null,
            "_model_name": "LayoutModel",
            "justify_items": null,
            "grid_row": null,
            "max_height": null,
            "align_content": null,
            "visibility": null,
            "align_self": null,
            "height": null,
            "min_height": null,
            "padding": null,
            "grid_auto_rows": null,
            "grid_gap": null,
            "max_width": null,
            "order": null,
            "_view_module_version": "1.2.0",
            "grid_template_areas": null,
            "object_position": null,
            "object_fit": null,
            "grid_auto_columns": null,
            "margin": null,
            "display": null,
            "left": null
          }
        }
      }
    }
  },
  "cells": [
    {
      "cell_type": "markdown",
      "metadata": {
        "id": "view-in-github",
        "colab_type": "text"
      },
      "source": [
        "<a href=\"https://colab.research.google.com/github/devangi2000/Natural_Language_Processing/blob/master/sentence_transformer_rough.ipynb\" target=\"_parent\"><img src=\"https://colab.research.google.com/assets/colab-badge.svg\" alt=\"Open In Colab\"/></a>"
      ]
    },
    {
      "cell_type": "code",
      "metadata": {
        "colab": {
          "base_uri": "https://localhost:8080/"
        },
        "id": "Hd-jTIhP9_rD",
        "outputId": "7ac5c75a-051a-41aa-98d6-6d9aa8c97368"
      },
      "source": [
        "!pip install -U sentence-transformers"
      ],
      "execution_count": null,
      "outputs": [
        {
          "output_type": "stream",
          "text": [
            "Collecting sentence-transformers\n",
            "\u001b[?25l  Downloading https://files.pythonhosted.org/packages/f5/5a/6e41e8383913dd2ba923cdcd02be2e03911595f4d2f9de559ecbed80d2d3/sentence-transformers-0.3.9.tar.gz (64kB)\n",
            "\u001b[K     |████████████████████████████████| 71kB 5.1MB/s \n",
            "\u001b[?25hCollecting transformers<3.6.0,>=3.1.0\n",
            "\u001b[?25l  Downloading https://files.pythonhosted.org/packages/3a/83/e74092e7f24a08d751aa59b37a9fc572b2e4af3918cb66f7766c3affb1b4/transformers-3.5.1-py3-none-any.whl (1.3MB)\n",
            "\u001b[K     |████████████████████████████████| 1.3MB 15.3MB/s \n",
            "\u001b[?25hRequirement already satisfied, skipping upgrade: tqdm in /usr/local/lib/python3.6/dist-packages (from sentence-transformers) (4.41.1)\n",
            "Requirement already satisfied, skipping upgrade: torch>=1.6.0 in /usr/local/lib/python3.6/dist-packages (from sentence-transformers) (1.7.0+cu101)\n",
            "Requirement already satisfied, skipping upgrade: numpy in /usr/local/lib/python3.6/dist-packages (from sentence-transformers) (1.18.5)\n",
            "Requirement already satisfied, skipping upgrade: scikit-learn in /usr/local/lib/python3.6/dist-packages (from sentence-transformers) (0.22.2.post1)\n",
            "Requirement already satisfied, skipping upgrade: scipy in /usr/local/lib/python3.6/dist-packages (from sentence-transformers) (1.4.1)\n",
            "Requirement already satisfied, skipping upgrade: nltk in /usr/local/lib/python3.6/dist-packages (from sentence-transformers) (3.2.5)\n",
            "Requirement already satisfied, skipping upgrade: packaging in /usr/local/lib/python3.6/dist-packages (from transformers<3.6.0,>=3.1.0->sentence-transformers) (20.4)\n",
            "Collecting tokenizers==0.9.3\n",
            "\u001b[?25l  Downloading https://files.pythonhosted.org/packages/4c/34/b39eb9994bc3c999270b69c9eea40ecc6f0e97991dba28282b9fd32d44ee/tokenizers-0.9.3-cp36-cp36m-manylinux1_x86_64.whl (2.9MB)\n",
            "\u001b[K     |████████████████████████████████| 2.9MB 44.7MB/s \n",
            "\u001b[?25hRequirement already satisfied, skipping upgrade: regex!=2019.12.17 in /usr/local/lib/python3.6/dist-packages (from transformers<3.6.0,>=3.1.0->sentence-transformers) (2019.12.20)\n",
            "Requirement already satisfied, skipping upgrade: dataclasses; python_version < \"3.7\" in /usr/local/lib/python3.6/dist-packages (from transformers<3.6.0,>=3.1.0->sentence-transformers) (0.8)\n",
            "Collecting sentencepiece==0.1.91\n",
            "\u001b[?25l  Downloading https://files.pythonhosted.org/packages/d4/a4/d0a884c4300004a78cca907a6ff9a5e9fe4f090f5d95ab341c53d28cbc58/sentencepiece-0.1.91-cp36-cp36m-manylinux1_x86_64.whl (1.1MB)\n",
            "\u001b[K     |████████████████████████████████| 1.1MB 50.2MB/s \n",
            "\u001b[?25hRequirement already satisfied, skipping upgrade: requests in /usr/local/lib/python3.6/dist-packages (from transformers<3.6.0,>=3.1.0->sentence-transformers) (2.23.0)\n",
            "Requirement already satisfied, skipping upgrade: filelock in /usr/local/lib/python3.6/dist-packages (from transformers<3.6.0,>=3.1.0->sentence-transformers) (3.0.12)\n",
            "Requirement already satisfied, skipping upgrade: protobuf in /usr/local/lib/python3.6/dist-packages (from transformers<3.6.0,>=3.1.0->sentence-transformers) (3.12.4)\n",
            "Collecting sacremoses\n",
            "\u001b[?25l  Downloading https://files.pythonhosted.org/packages/7d/34/09d19aff26edcc8eb2a01bed8e98f13a1537005d31e95233fd48216eed10/sacremoses-0.0.43.tar.gz (883kB)\n",
            "\u001b[K     |████████████████████████████████| 890kB 35.8MB/s \n",
            "\u001b[?25hRequirement already satisfied, skipping upgrade: typing-extensions in /usr/local/lib/python3.6/dist-packages (from torch>=1.6.0->sentence-transformers) (3.7.4.3)\n",
            "Requirement already satisfied, skipping upgrade: future in /usr/local/lib/python3.6/dist-packages (from torch>=1.6.0->sentence-transformers) (0.16.0)\n",
            "Requirement already satisfied, skipping upgrade: joblib>=0.11 in /usr/local/lib/python3.6/dist-packages (from scikit-learn->sentence-transformers) (0.17.0)\n",
            "Requirement already satisfied, skipping upgrade: six in /usr/local/lib/python3.6/dist-packages (from nltk->sentence-transformers) (1.15.0)\n",
            "Requirement already satisfied, skipping upgrade: pyparsing>=2.0.2 in /usr/local/lib/python3.6/dist-packages (from packaging->transformers<3.6.0,>=3.1.0->sentence-transformers) (2.4.7)\n",
            "Requirement already satisfied, skipping upgrade: urllib3!=1.25.0,!=1.25.1,<1.26,>=1.21.1 in /usr/local/lib/python3.6/dist-packages (from requests->transformers<3.6.0,>=3.1.0->sentence-transformers) (1.24.3)\n",
            "Requirement already satisfied, skipping upgrade: idna<3,>=2.5 in /usr/local/lib/python3.6/dist-packages (from requests->transformers<3.6.0,>=3.1.0->sentence-transformers) (2.10)\n",
            "Requirement already satisfied, skipping upgrade: chardet<4,>=3.0.2 in /usr/local/lib/python3.6/dist-packages (from requests->transformers<3.6.0,>=3.1.0->sentence-transformers) (3.0.4)\n",
            "Requirement already satisfied, skipping upgrade: certifi>=2017.4.17 in /usr/local/lib/python3.6/dist-packages (from requests->transformers<3.6.0,>=3.1.0->sentence-transformers) (2020.11.8)\n",
            "Requirement already satisfied, skipping upgrade: setuptools in /usr/local/lib/python3.6/dist-packages (from protobuf->transformers<3.6.0,>=3.1.0->sentence-transformers) (50.3.2)\n",
            "Requirement already satisfied, skipping upgrade: click in /usr/local/lib/python3.6/dist-packages (from sacremoses->transformers<3.6.0,>=3.1.0->sentence-transformers) (7.1.2)\n",
            "Building wheels for collected packages: sentence-transformers, sacremoses\n",
            "  Building wheel for sentence-transformers (setup.py) ... \u001b[?25l\u001b[?25hdone\n",
            "  Created wheel for sentence-transformers: filename=sentence_transformers-0.3.9-cp36-none-any.whl size=101036 sha256=4eec2f7096a5ddd63863e2fff1bad75e127367122b27ca88e18c788a15d5701b\n",
            "  Stored in directory: /root/.cache/pip/wheels/fc/89/43/f2f5bc00b03ef9724b0f6254a97eaf159a4c4ddc024b33e07a\n",
            "  Building wheel for sacremoses (setup.py) ... \u001b[?25l\u001b[?25hdone\n",
            "  Created wheel for sacremoses: filename=sacremoses-0.0.43-cp36-none-any.whl size=893257 sha256=ce9bc162dca9ba6b6d9327826357e9ef85ab5fbd1069df2da1bf08c88d5e53ee\n",
            "  Stored in directory: /root/.cache/pip/wheels/29/3c/fd/7ce5c3f0666dab31a50123635e6fb5e19ceb42ce38d4e58f45\n",
            "Successfully built sentence-transformers sacremoses\n",
            "Installing collected packages: tokenizers, sentencepiece, sacremoses, transformers, sentence-transformers\n",
            "Successfully installed sacremoses-0.0.43 sentence-transformers-0.3.9 sentencepiece-0.1.91 tokenizers-0.9.3 transformers-3.5.1\n"
          ],
          "name": "stdout"
        }
      ]
    },
    {
      "cell_type": "code",
      "metadata": {
        "colab": {
          "base_uri": "https://localhost:8080/"
        },
        "id": "B83fAyih-azU",
        "outputId": "dc655831-1b17-44ba-900d-bdb2a82fef3d"
      },
      "source": [
        "from sentence_transformers import SentenceTransformer\n",
        "model = SentenceTransformer('distilbert-base-nli-stsb-mean-tokens')\n",
        "\n",
        "#Our sentences we like to encode\n",
        "sentences = ['This framework generates embeddings for each input sentence',\n",
        "    'Sentences are passed as a list of string.',\n",
        "    'The quick brown fox jumps over the lazy dog.']\n",
        "\n",
        "#Sentences are encoded by calling model.encode()\n",
        "embeddings = model.encode(sentences)\n",
        "\n",
        "#Print the embeddings\n",
        "for sentence, embedding in zip(sentences, embeddings):\n",
        "    print(\"Sentence:\", sentence)\n",
        "    print(\"Embedding:\", embedding)\n",
        "    print(\"\")"
      ],
      "execution_count": null,
      "outputs": [
        {
          "output_type": "stream",
          "text": [
            "100%|██████████| 245M/245M [00:16<00:00, 15.0MB/s]\n"
          ],
          "name": "stderr"
        },
        {
          "output_type": "stream",
          "text": [
            "Sentence: This framework generates embeddings for each input sentence\n",
            "Embedding: [-2.14861557e-01  3.95722866e-01  4.69086975e-01  1.36177510e-01\n",
            "  6.91125030e-03  4.29976434e-01  1.03049481e+00 -8.20223987e-02\n",
            "  2.20890373e-01 -8.78799796e-01 -1.11538038e-01 -1.70815438e-01\n",
            " -4.95070100e-01 -3.25745225e-01 -1.68513194e-01 -7.61576951e-01\n",
            " -3.08237225e-01  1.28200531e-01  2.28901073e-01 -8.63927424e-01\n",
            "  8.01118255e-01 -5.13606906e-01 -8.88547897e-02  8.67860138e-01\n",
            "  8.12777877e-01 -2.80298948e-01  1.01604247e+00  5.12089968e-01\n",
            "  5.16793966e-01 -1.59422144e-01  8.63560960e-02 -7.04056859e-01\n",
            " -4.15287852e-01 -1.02642411e-02  1.39428273e-01 -7.40857981e-03\n",
            " -2.75416560e-02 -1.06805277e+00 -1.14779401e+00 -4.22716439e-01\n",
            "  2.93512374e-01 -3.92946303e-01  3.17559838e-01 -1.97931938e-02\n",
            " -5.53470373e-01  4.99445898e-03 -5.46882525e-02  5.82733989e-01\n",
            " -1.38893008e+00 -4.44052249e-01 -8.77214432e-01 -1.82058543e-01\n",
            "  4.69049186e-01 -6.04762912e-01 -3.85194987e-01 -1.42895374e-02\n",
            " -4.25226748e-01 -1.15834147e-01  9.40649927e-01 -1.18830994e-01\n",
            " -8.38251710e-01 -1.86480865e-01  1.80723727e-01 -5.74890018e-01\n",
            "  1.09698497e-01 -8.01009387e-02  2.35777482e-01  3.24258208e-01\n",
            " -2.56726801e-01 -1.03238916e+00 -3.13236833e-01 -7.26499498e-01\n",
            " -1.05913305e+00 -7.37701416e-01 -6.37596428e-01 -7.13502467e-02\n",
            " -9.52577591e-02  2.07689360e-01  5.54521322e-01  5.02925634e-01\n",
            " -1.71785784e+00 -2.97019511e-01 -3.22999917e-02  5.47168970e-01\n",
            "  8.03761423e-01 -4.23405588e-01  3.23710471e-01 -1.60900488e-01\n",
            " -6.40347838e-01  9.59191978e-01  4.04997766e-01 -7.39458680e-01\n",
            "  3.10162697e-02  3.12072337e-01 -1.36234388e-01 -4.47537124e-01\n",
            "  2.17739031e-01 -3.04858536e-01 -5.95456511e-02  6.49897218e-01\n",
            " -8.15243959e-01 -5.28618753e-01  8.22357893e-01  6.20349228e-01\n",
            "  1.24999747e-01  1.10237002e+00  1.66929573e-01 -8.03726494e-01\n",
            " -3.41515392e-01 -3.34514976e-01 -2.91581333e-01 -1.45557570e+00\n",
            " -4.90796387e-01  1.26138717e-01  3.22210580e-01 -2.49506235e-01\n",
            " -2.41237074e-01  4.74305712e-02 -6.96381271e-01 -2.26158634e-01\n",
            " -1.38959420e+00  1.45546043e+00  1.18826792e-01  3.26671451e-01\n",
            "  4.06462640e-01 -6.91176176e-01 -1.68643728e-01  1.18514931e+00\n",
            "  7.01422021e-02 -6.17584109e-01 -5.57675622e-02 -3.14199895e-01\n",
            " -3.26135755e-03 -7.64269829e-01  3.26423019e-01 -8.40867698e-01\n",
            " -6.80994034e-01  4.96409476e-01 -5.42568147e-01  2.35480860e-01\n",
            " -1.07771359e-01  5.03978968e-01  3.81110996e-01 -5.52189648e-01\n",
            "  1.02989113e+00 -2.70375788e-01  7.87821531e-01 -4.43495452e-01\n",
            " -2.73341000e-01 -2.84596771e-01 -7.65576124e-01  1.85731679e-01\n",
            "  6.52227104e-02 -2.59277701e-01  2.01147005e-01 -9.51704457e-02\n",
            " -2.80552864e-01 -1.91267237e-01 -2.96028912e-01 -8.89364034e-02\n",
            " -6.67773038e-02  9.02512893e-02  4.53255594e-01  2.35963404e-01\n",
            " -1.02095926e+00  1.10106349e+00 -3.85880172e-01  3.05351503e-02\n",
            " -3.15052480e-01  5.43550134e-01  7.09786832e-01  1.81037918e-01\n",
            "  1.53461814e-01 -9.47926790e-02 -1.23032284e+00 -5.97304761e-01\n",
            "  6.59966469e-01 -7.63570189e-01 -1.17271952e-01  1.92771684e-02\n",
            "  2.58249808e-02 -4.45587099e-01  1.00884154e-01 -1.32846624e-01\n",
            "  4.12282884e-01  5.06297708e-01  6.48799479e-01  2.31071547e-01\n",
            "  4.65693325e-01 -1.84467942e-01  1.74038276e-01  6.62421584e-01\n",
            " -1.05501570e-01  8.82796943e-02  9.01203275e-01  1.77086771e-01\n",
            " -9.68292594e-01  8.09801042e-01  7.22857594e-01  2.31930003e-01\n",
            "  5.56458235e-01 -1.98872954e-01 -1.70700714e-01 -2.57590264e-01\n",
            "  3.78198981e-01 -6.28217012e-02  5.00692353e-02  5.90931654e-01\n",
            " -7.46897638e-01 -2.43003979e-01  7.83923194e-02 -2.54882038e-01\n",
            " -1.68796450e-01 -8.83960187e-01 -4.51895654e-01  3.60423148e-01\n",
            "  1.04601830e-01  5.05949676e-01  6.97647452e-01 -4.89396572e-01\n",
            "  1.80793583e+00 -8.84189487e-01  4.40686494e-01 -7.89011717e-01\n",
            " -1.58614874e+00 -7.57928193e-02  4.97111529e-01  5.33538759e-01\n",
            "  1.66082776e+00  6.55649826e-02  2.62311995e-01  2.71409843e-02\n",
            " -2.17011526e-01 -4.86779846e-02 -1.83057204e-01 -7.71515220e-02\n",
            " -6.92982674e-02  4.21108529e-02 -2.45435461e-01 -4.55564946e-01\n",
            "  7.94220984e-01  7.10082114e-01 -7.66061842e-01 -6.63943946e-01\n",
            "  2.02442944e-01 -5.29779606e-02 -6.51861548e-01  4.20901090e-01\n",
            "  8.00045133e-01 -1.99938223e-01  7.74166822e-01 -1.05542827e+00\n",
            " -7.72870302e-01 -1.24074511e-01  3.96244496e-01  2.05331258e-02\n",
            " -4.59689111e-01 -4.60713565e-01 -2.73006149e-02  1.04890358e+00\n",
            " -3.72773498e-01 -6.71275079e-01  1.92536771e-01  9.12054181e-01\n",
            "  2.45730653e-01 -1.05865312e+00 -1.19349718e-01 -1.65290341e-01\n",
            " -2.20314818e-04  2.24490941e-01  9.26604927e-01  1.38912857e-01\n",
            "  3.15128475e-01  3.49045396e-02  2.80817240e-01 -5.85851818e-02\n",
            "  3.64543557e-01 -1.19163953e-01 -2.78651685e-01 -2.61051863e-01\n",
            " -8.20971847e-01 -5.31148851e-01  6.50792956e-01 -1.80739224e-01\n",
            "  9.74658966e-01 -7.19640434e-01  7.93510005e-02 -1.62516713e+00\n",
            " -2.39554383e-02 -7.93495849e-02  8.92077506e-01  7.92281687e-01\n",
            " -2.70498574e-01  4.28890735e-01  6.16606772e-01  2.35150158e-02\n",
            "  3.75258297e-01  6.23110116e-01 -5.88211119e-01 -4.53590341e-02\n",
            "  1.75673351e-01 -3.91463824e-02 -7.61111796e-01  5.07026792e-01\n",
            " -5.65473497e-01  7.81477869e-01  5.30628897e-02 -3.91099185e-01\n",
            " -1.07537258e+00  1.96340054e-01  2.39877045e-01  1.94732413e-01\n",
            "  2.11872607e-01 -2.56307870e-01  6.04999065e-02  5.69239855e-02\n",
            "  6.13818288e-01 -7.52121270e-01 -8.74090254e-01 -6.55297577e-01\n",
            " -3.64039242e-01  8.27898264e-01 -4.21353221e-01  4.42051962e-02\n",
            " -1.91348124e+00  2.02102754e-02  6.40182853e-01  6.45967722e-01\n",
            "  2.77147926e-02 -1.15632260e+00  2.42442161e-01  1.75996289e-01\n",
            "  1.25014201e-01 -1.09560156e+00 -8.04940581e-01  6.76403105e-01\n",
            " -6.30171061e-01 -2.56113827e-01 -5.53488791e-01 -9.26134229e-01\n",
            "  4.25731987e-02  2.14995533e-01  7.44046494e-02  2.15907320e-02\n",
            "  7.48094499e-01 -5.37216902e-01 -6.78460062e-01 -1.66759670e+00\n",
            "  5.32293320e-01  1.66086972e-01 -1.03965431e-01 -7.35412657e-01\n",
            " -1.00405581e-01 -1.72140524e-02  3.41768801e-01 -6.44865036e-01\n",
            " -7.36180646e-03 -2.29583848e-02  6.52527511e-02  9.39297676e-01\n",
            "  3.39741439e-01  7.10197091e-01  5.60058169e-02 -1.57409087e-01\n",
            "  3.81532311e-01 -4.59956467e-01 -7.61767328e-01  4.13135380e-01\n",
            "  8.20451617e-01 -7.27131248e-01  4.91590351e-01 -6.41027331e-01\n",
            "  2.73791654e-03  4.60027065e-03 -9.97587740e-01  1.39735684e-01\n",
            " -6.73142135e-01  8.12663198e-01  5.35585463e-01  2.01656923e-01\n",
            " -1.27372846e-01 -3.75034124e-01  5.53800523e-01 -5.78014314e-01\n",
            "  8.20998251e-01 -4.47678745e-01  6.85085297e-01 -7.58787274e-01\n",
            " -3.03430676e-01 -2.60477334e-01  4.73108254e-02  3.20054829e-01\n",
            "  1.26069009e+00 -2.70864338e-01 -3.56529117e-01 -3.50517929e-01\n",
            " -1.05006528e+00 -2.73963988e-01 -2.20991209e-01 -6.39562964e-01\n",
            " -2.05288410e-01  3.47976536e-01 -2.83570230e-01  2.52523124e-01\n",
            "  4.74942565e-01 -2.39980996e-01 -2.59468317e-01 -3.73993993e-01\n",
            "  1.11897993e+00 -5.97781129e-02 -3.17755401e-01  2.83935759e-02\n",
            "  6.12017334e-01  2.88132936e-01 -7.36221313e-01 -4.83369082e-01\n",
            "  9.62792635e-01  4.25665200e-01 -8.37563574e-01  6.20009542e-01\n",
            " -3.51198733e-01  5.40453158e-02 -5.17962396e-01  3.51877362e-01\n",
            " -7.45414197e-01 -1.91230010e-02 -6.88773215e-01 -1.65344402e-02\n",
            "  3.91551614e-01  1.26307622e-01  5.43735921e-01 -1.12192682e-03\n",
            " -1.32171893e+00 -3.79308432e-01  9.44518924e-01 -5.17166674e-01\n",
            "  3.94988656e-01 -5.72173834e-01 -7.56195068e-01 -4.94099110e-01\n",
            " -9.59618568e-01 -3.56306612e-01  3.47858161e-01  1.92039460e-01\n",
            " -7.59967685e-01  9.11783814e-01 -2.66923249e-01 -6.59034848e-02\n",
            "  1.34563649e+00  2.53031224e-01  6.06151640e-01 -6.44797027e-01\n",
            "  1.46288455e-01 -7.33341649e-02 -1.09505013e-01  4.42774981e-01\n",
            " -1.14623082e+00  2.09505454e-01 -3.31450403e-01  6.83462560e-01\n",
            " -5.90674818e-01 -5.59607923e-01 -3.34143192e-01 -4.14539129e-02\n",
            " -6.25860512e-01  1.34002551e-01  8.23194087e-01  9.74458903e-02\n",
            "  6.53405488e-01  3.33940655e-01  5.15486002e-01  3.01084995e-01\n",
            "  2.75441349e-01  4.59566563e-01 -2.64265656e-01  7.68748641e-01\n",
            " -5.22121966e-01  3.07117015e-01  3.39837909e-01 -1.72995642e-01\n",
            " -2.31123701e-01 -2.11407810e-01 -3.21941048e-01 -5.59845030e-01\n",
            "  5.35828650e-01  1.27443373e-01  6.54728115e-02  3.07592422e-01\n",
            "  5.78120947e-01 -3.99433076e-01  3.41288060e-01  3.32933068e-01\n",
            " -5.27723253e-01  1.40525103e+00  2.02650633e-02  6.89634919e-01\n",
            "  2.37005383e-01 -4.19819862e-01 -5.62872291e-01  2.67244935e-01\n",
            "  3.95165622e-01 -8.38230550e-01 -1.02827382e+00 -6.18217766e-01\n",
            "  3.33494812e-01  1.11911058e-01 -4.35440212e-01 -6.61202490e-01\n",
            " -5.05945027e-01 -2.89843827e-01 -6.94819838e-02 -3.26595634e-01\n",
            "  3.70959699e-01 -8.73411894e-01  6.57922745e-01 -3.56096774e-01\n",
            "  3.55288029e-01  9.53736752e-02  9.21535850e-01 -4.35437739e-01\n",
            " -3.31038177e-01  7.16769814e-01  3.48410398e-01  2.68657863e-01\n",
            "  2.09747821e-01  2.30887488e-01  1.24244004e-01 -2.58268088e-01\n",
            " -1.26489148e-01 -5.04595160e-01  1.12179971e+00  1.57293484e-01\n",
            " -5.76922834e-01  8.48136663e-01  5.13889670e-01  2.97580600e-01\n",
            " -5.28442264e-01 -5.61794974e-02  1.31085336e+00  3.40419739e-01\n",
            "  5.28906919e-02  1.80995941e-01 -7.56171465e-01 -3.30779627e-02\n",
            " -1.11227846e+00 -1.49555802e+00 -4.25673306e-01  5.29351830e-01\n",
            " -7.37268865e-01  7.72297308e-02 -4.31842357e-01 -3.81445467e-01\n",
            " -1.00274873e+00  9.82391164e-02 -3.35935265e-01  2.86341846e-01\n",
            " -3.95706624e-01 -3.59958202e-01 -1.28868937e-01 -1.02426514e-01\n",
            " -8.03232133e-01  7.17405200e-01  5.53769827e-01  1.42497873e+00\n",
            " -3.76634183e-03 -5.81878901e-01  1.74958363e-01 -8.15998793e-01\n",
            "  5.34404635e-01 -1.05510622e-01 -1.11391477e-01  4.20671254e-01\n",
            "  1.76867083e-01  2.44068772e-01 -4.96632993e-01  3.20558518e-01\n",
            "  3.70843232e-01 -4.57167834e-01 -2.89158285e-01 -3.65322195e-02\n",
            " -4.99849439e-01  1.52022302e-01  8.43059942e-02 -6.10917926e-01\n",
            "  2.54775554e-01  5.97720504e-01  4.87280786e-01 -6.25879839e-02\n",
            " -5.28183579e-01  6.35390580e-02  5.78199811e-02 -1.75121382e-01\n",
            "  4.67425026e-02  6.24961853e-01 -1.32456511e-01 -5.35473108e-01\n",
            "  7.86534667e-01  9.04671326e-02 -4.74243313e-01  3.34745049e-01\n",
            " -3.04574728e-01 -4.77599740e-01 -6.86327279e-01  2.25269154e-01\n",
            "  1.92438766e-01 -8.47835183e-01  9.28517342e-01  3.99917483e-01\n",
            "  5.00401616e-01  1.11668324e+00  2.81863391e-01 -6.58473432e-01\n",
            "  1.61275089e-01  5.24361730e-01  7.12566257e-01 -1.59863576e-01\n",
            " -3.81525069e-01 -5.28493263e-02  1.56984255e-01 -2.92216927e-01\n",
            " -1.45679817e-01 -3.67437094e-01 -1.71809494e-01 -3.31042767e-01\n",
            "  7.17509508e-01 -7.96705186e-01  1.74565166e-01  1.57078907e-01\n",
            " -2.65925616e-01  9.69792426e-01  2.61141300e-01 -5.69139421e-01\n",
            " -3.86578530e-01  1.67456460e+00 -8.78100455e-01 -9.50442314e-01\n",
            " -3.61159384e-01 -2.44712844e-01 -2.85400689e-01 -6.60277665e-01\n",
            "  3.31614345e-01 -5.31171262e-01  2.66040355e-01 -1.36696804e+00\n",
            " -4.40184087e-01 -1.35702252e-01 -4.98269588e-01  2.83413142e-01\n",
            "  2.46833429e-01  3.88351649e-01 -3.97594243e-01 -1.08555749e-01\n",
            "  1.63776025e-01 -5.25440760e-02 -9.34023201e-01  2.02774361e-01\n",
            "  8.68576169e-01  1.19385958e+00  1.02536082e+00  3.35175961e-01\n",
            "  1.85766354e-01  5.57820678e-01 -7.93146193e-01 -7.11507142e-01\n",
            "  5.68578124e-01  7.87334979e-01  2.44153440e-01  6.92314267e-01\n",
            " -3.56337428e-01  7.36616015e-01  3.43624651e-01  4.37910378e-01\n",
            " -5.80578506e-01  1.35115653e-01  1.68259785e-01  1.03812575e+00\n",
            "  8.60627294e-01  2.64945030e-01  5.12471274e-02  5.78465223e-01\n",
            "  3.83684263e-02  4.76748317e-01 -3.58210027e-01 -2.83857971e-01\n",
            " -5.94629228e-01 -2.94512898e-01 -2.85188138e-01 -3.81574184e-01\n",
            "  4.68356796e-02 -3.29065442e-01 -3.85556161e-01  6.10779166e-01\n",
            "  4.31492388e-01 -5.74178874e-01 -2.88198054e-01  2.54073262e-01\n",
            "  6.39703035e-01  6.01765990e-01 -5.93520284e-01  4.01052624e-01\n",
            "  3.55871558e-01 -3.15500915e-01  4.17918503e-01 -7.73398459e-01\n",
            " -7.86552012e-01  5.09269297e-01  3.42435576e-02  6.58748507e-01\n",
            "  4.10032064e-01 -5.67275405e-01  7.57191360e-01  2.20869362e-01\n",
            " -1.43134326e-01  3.98438752e-01 -7.75017291e-02  7.12158307e-02\n",
            " -3.44099179e-02  5.10026455e-01  9.36940610e-01  2.42051989e-01\n",
            " -6.09049559e-01 -4.19722199e-01  6.51434183e-01  5.78778148e-01\n",
            "  7.11940601e-02  6.12331569e-01 -1.62586838e-01  7.39989150e-03\n",
            "  4.54713136e-01  4.47467387e-01 -2.30808392e-01  1.35016665e-01\n",
            "  3.34865063e-01  4.02489245e-01  6.04867995e-01 -3.47295731e-01\n",
            " -5.64017951e-01  3.36212486e-01  8.68791461e-01  7.28187203e-01\n",
            "  1.91784278e-01  8.06428492e-01 -1.38425857e-01  1.06466484e+00\n",
            " -4.57161963e-01 -3.15823883e-01 -4.53250438e-01 -2.00414598e-01\n",
            " -4.46755946e-01 -3.75529937e-02 -3.77895802e-01 -1.24473520e-01\n",
            " -2.96884716e-01 -1.94232296e-02 -1.51052335e-02  2.08454818e-01\n",
            " -1.20482147e+00 -6.48239672e-01 -2.59301662e-01 -8.11940432e-02\n",
            "  1.30037099e-01  3.42436790e-01 -6.97176993e-01  8.72301534e-02\n",
            "  5.00145555e-01 -2.31190130e-01 -4.95791107e-01  4.23663467e-01]\n",
            "\n",
            "Sentence: Sentences are passed as a list of string.\n",
            "Embedding: [-4.40016747e-01 -2.84884930e-01  2.33638421e-01  5.53783357e-01\n",
            "  2.07572609e-01 -7.39504173e-02  1.70518503e-01 -7.60900080e-01\n",
            " -1.07309151e+00  4.83318150e-01 -3.14345866e-01  4.28550541e-01\n",
            " -5.69231689e-01 -1.82863951e-01  5.44868410e-03 -4.08723921e-01\n",
            "  4.65505213e-01 -1.20832227e-01  3.29284817e-01 -5.02808809e-01\n",
            "  1.10677671e+00  5.52272379e-01 -4.90783691e-01  3.51586521e-01\n",
            "  1.71076972e-02  4.03088480e-02  1.53280661e-01  2.30490223e-01\n",
            "  1.53232053e-01  2.53775299e-01  4.44305599e-01  2.06441388e-01\n",
            "  1.20945305e-01  2.65265048e-01 -4.61455375e-01 -1.20260328e-01\n",
            "  4.32184577e-01 -4.82548118e-01  9.69821334e-01 -1.40900791e+00\n",
            "  3.85373712e-01  5.75201631e-01 -3.25320177e-02 -3.44613582e-01\n",
            "  1.27496421e-01  1.03654854e-01 -1.52405277e-01 -5.66335469e-02\n",
            " -3.13613713e-01 -4.68689092e-02 -1.11476099e+00 -5.41424304e-02\n",
            "  6.68747485e-01 -1.05076337e+00 -1.47516578e-01 -6.93011105e-01\n",
            "  3.11113864e-01 -1.44577965e-01  8.92945647e-01 -2.32680127e-01\n",
            " -5.26882350e-01  5.13304770e-01  6.90059245e-01  8.23274791e-01\n",
            " -1.13103688e+00 -7.42039502e-01 -2.62375563e-01  5.92755616e-01\n",
            " -2.24428356e-01 -1.09858155e-01  6.15413666e-01 -2.76203398e-02\n",
            " -4.43948060e-01 -8.30335617e-01  1.09716427e+00 -4.85061914e-01\n",
            " -7.65186846e-01 -3.75072956e-01  1.52688786e-01 -2.22706065e-01\n",
            "  1.09239705e-01 -1.10420115e-01  1.44566774e-01 -2.04712525e-01\n",
            " -2.01698259e-01 -2.15952080e-02  1.29964441e-01  8.81038047e-03\n",
            " -2.19200626e-01  1.06773674e+00  8.35934207e-02  2.70220727e-01\n",
            " -7.81135738e-01 -4.44701463e-01 -3.96697223e-01 -2.74475753e-01\n",
            " -1.30059585e-01 -4.44923490e-01 -1.22892305e-01  1.38204113e-01\n",
            " -4.23903495e-01 -5.01869798e-01  3.26197743e-02 -1.42148328e+00\n",
            " -6.77388251e-01  2.28037879e-01 -9.74989951e-01  5.36884546e-01\n",
            " -1.80362701e-01 -3.05750847e-01 -7.88949907e-01 -6.02814317e-01\n",
            " -1.53122187e-01  7.60672987e-01  1.31929234e-01 -9.15829122e-01\n",
            "  5.80601357e-02 -1.23834163e-01  9.81527641e-02 -5.77724516e-01\n",
            " -4.74468678e-01  5.84090233e-01  9.41554487e-01 -8.12918425e-01\n",
            " -2.31585652e-01  1.41616315e-01 -1.23332314e-01  6.40414774e-01\n",
            "  7.26718843e-01  4.46607471e-01  1.28211692e-01  1.29415616e-01\n",
            " -3.12790155e-01 -4.45507705e-01 -5.85905671e-01  4.47842151e-01\n",
            "  2.03334108e-01 -1.54536143e-01 -5.85366711e-02 -5.34547746e-01\n",
            "  1.19478486e-01  6.37012482e-01  1.06430328e+00  1.04601435e-01\n",
            "  4.45207953e-01  3.43263119e-01 -7.05614686e-01  1.65451273e-01\n",
            " -7.81166255e-01  5.23604751e-02 -5.09805262e-01  2.24250570e-01\n",
            " -7.88429677e-01 -2.93873549e-02  2.53932863e-01 -1.63439140e-01\n",
            "  7.72963166e-01 -2.30505094e-01  3.60254884e-01  6.12941742e-01\n",
            " -1.45346984e-01 -1.05369166e-01  4.20217872e-01 -9.49987411e-01\n",
            " -8.99414271e-02  3.19953114e-01 -5.22348166e-01 -5.70940077e-01\n",
            " -8.09693694e-01  3.45271945e-01  3.25270176e-01  6.22943163e-01\n",
            " -5.64313494e-02 -6.00424826e-01 -3.25378887e-02 -2.93749660e-01\n",
            " -2.00259626e-01 -6.06869757e-01 -2.20918745e-01 -1.58136979e-01\n",
            "  2.54188068e-02  1.29873872e-01  1.78833351e-01  6.87420070e-01\n",
            " -4.12931919e-01 -3.67395505e-02  2.13502705e-01  3.87533367e-01\n",
            " -2.21346796e-01  3.81752625e-02 -6.22371659e-02  6.01428866e-01\n",
            " -3.17372322e-01  1.29105821e-01  6.95839047e-01  9.02814806e-01\n",
            "  4.00428742e-01  5.23003161e-01 -2.61605948e-01 -5.10836542e-01\n",
            "  3.01280499e-01  3.19185346e-01 -2.90968642e-02 -3.16983342e-01\n",
            " -1.19804211e-01  6.11035109e-01  6.00695252e-01  3.95939052e-01\n",
            " -1.16418600e+00  2.70280331e-01  1.06449938e+00  2.87109166e-01\n",
            " -5.84385931e-01  2.37016678e-01  1.75099120e-01  9.25504863e-01\n",
            " -3.81284989e-02 -1.45975843e-01  8.03710878e-01  1.45440996e-02\n",
            "  5.01940489e-01 -4.71675098e-01 -1.64042767e-02 -9.18503582e-01\n",
            " -5.23944616e-01  5.26829064e-01  8.52760553e-01  3.28268141e-01\n",
            " -3.23199518e-02  1.95678517e-01 -6.08473539e-01 -4.14968133e-01\n",
            " -6.93103015e-01  1.19079781e+00  5.27309179e-02  6.11897111e-01\n",
            " -2.47889295e-01  1.12810776e-01 -2.61842996e-01 -1.05515933e+00\n",
            "  8.22751224e-01  3.12641531e-01 -6.21825397e-01  1.46478072e-01\n",
            " -5.95024645e-01 -5.64850904e-02  1.87146291e-01  9.11460666e-04\n",
            " -5.26550353e-01 -4.85001743e-01 -3.96768361e-01 -2.37109378e-01\n",
            "  2.00679556e-01  8.32856953e-01  7.89025664e-01  5.91363758e-02\n",
            " -1.11143208e+00  2.52464741e-01  5.10859907e-01  1.80582032e-01\n",
            "  5.75816035e-01 -3.58632296e-01  5.28064013e-01 -3.23501289e-01\n",
            "  2.35279471e-01 -6.04160130e-01 -3.95276755e-01 -5.20813406e-01\n",
            "  7.00173616e-01  2.05439702e-01 -7.43569791e-01 -7.59639800e-01\n",
            "  1.06317568e+00 -1.63728483e-02 -1.24163938e+00 -7.58121386e-02\n",
            "  6.22728288e-01  4.82201576e-01 -5.49639165e-01 -6.29955888e-01\n",
            " -4.37202811e-01  6.84671924e-02  5.79669714e-01 -5.30378520e-01\n",
            " -4.70890440e-02  3.67447823e-01  6.52119040e-01  1.25723211e-02\n",
            " -4.72899467e-01 -1.53779924e-01  4.50964808e-01  5.57306230e-01\n",
            "  3.47304851e-01  4.73300844e-01 -1.53923973e-01  1.01995516e+00\n",
            "  2.46373743e-01  1.25905538e+00  4.75635916e-01 -4.48533058e-01\n",
            " -4.30902466e-02  2.29951158e-01 -1.08892648e-02  2.60588415e-02\n",
            " -5.77153206e-01  3.38367581e-01 -1.38469096e-02 -5.44776162e-03\n",
            " -2.65946293e+00  2.76123397e-02 -4.00862902e-01 -1.34992227e-01\n",
            "  8.10796469e-02 -3.52397934e-02  3.14212978e-01  1.40533268e-01\n",
            "  7.71944821e-02  6.06404543e-01  3.01883012e-01  7.98987523e-02\n",
            " -9.19120431e-01  1.01726420e-01 -3.51240039e-01  4.10551846e-01\n",
            " -1.38207042e+00  1.11113238e+00  1.52423754e-01 -1.87046621e-02\n",
            "  2.23530754e-02  5.53125143e-01  7.45245516e-01 -5.71291327e-01\n",
            " -8.08896840e-01  2.17041150e-01 -3.37358296e-01  5.08549392e-01\n",
            " -6.67074025e-01  3.08221787e-01 -5.63719690e-01 -3.75239670e-01\n",
            "  1.11730385e+00 -2.76232958e-01 -5.18301576e-02  4.52836603e-03\n",
            "  4.95214432e-01  2.17252164e-05 -3.72286052e-01  6.67187154e-01\n",
            " -1.35214180e-01  2.89043069e-01 -7.78487980e-01 -2.73780465e-01\n",
            " -3.00374985e-01  2.12187156e-01  6.47209108e-01 -3.80577222e-02\n",
            "  6.55286089e-02 -2.62587100e-01 -5.48950016e-01 -1.33400351e-01\n",
            "  4.76610661e-01  5.99128567e-02  5.79679251e-01 -2.79747158e-01\n",
            " -9.20379817e-01  6.27771378e-01 -3.39028567e-01  3.54434520e-01\n",
            "  2.07702637e-01 -4.15103316e-01  5.75526416e-01  2.76495636e-01\n",
            "  1.02350667e-01 -3.88683714e-02 -1.23643763e-01  1.25053775e+00\n",
            "  6.55772865e-01  4.92051005e-01  4.96730298e-01 -1.64913192e-01\n",
            "  4.01901692e-01 -9.01941240e-01  7.51317799e-01 -9.72825944e-01\n",
            " -1.58396468e-01 -1.25369000e+00  5.61255038e-01 -3.63966197e-01\n",
            " -1.13970116e-01 -4.49824154e-01 -2.76769042e-01  5.17000437e-01\n",
            "  7.38126934e-01 -2.63726830e-01 -3.83594215e-01 -7.10320175e-01\n",
            " -5.58563948e-01 -9.51528728e-01 -3.52463126e-01 -1.38925540e+00\n",
            " -2.85450786e-01  3.91953558e-01  1.58334302e-03  4.38421339e-01\n",
            " -2.86319740e-02 -3.84159721e-02 -4.76921238e-02  2.28311971e-01\n",
            "  8.75046551e-01  2.55445957e-01 -2.66781211e-01 -2.03528315e-01\n",
            " -5.29955804e-01  6.28330410e-01 -9.16983843e-01  7.18333244e-01\n",
            "  2.54868209e-01 -4.76503879e-01 -2.66316772e-01  2.33554587e-01\n",
            " -1.95304304e-01 -4.79752272e-01 -1.10132478e-01 -1.96765378e-01\n",
            " -6.45911992e-01 -8.03692997e-01 -3.73636276e-01 -4.09304738e-01\n",
            "  2.07308289e-02  5.14455020e-01  3.10879827e-01 -5.58766603e-01\n",
            " -1.47257495e+00 -6.63470030e-02  7.99691398e-03 -5.36755621e-01\n",
            "  5.60536325e-01 -8.53897274e-01 -6.34944022e-01 -1.04687922e-01\n",
            " -4.35424805e-01 -2.88165182e-01 -7.39032149e-01  4.68728334e-01\n",
            " -6.47536337e-01  9.58026826e-01  6.89823091e-01 -6.67972684e-01\n",
            " -4.08221513e-01 -3.64771962e-01 -1.69010311e-01  2.59147614e-01\n",
            "  1.72882542e-01  8.99742767e-02  4.81658340e-01 -3.78807932e-02\n",
            " -1.04160833e+00  9.64837298e-02  1.77643746e-01 -6.16745725e-02\n",
            "  3.39037552e-02 -6.96582735e-01 -3.28319848e-01 -9.47256029e-01\n",
            " -2.02866979e-02  4.28760618e-01  3.50636452e-01  4.81447913e-02\n",
            "  4.10232455e-01 -1.97212040e-01 -4.17469472e-01 -3.62728268e-01\n",
            "  5.68773329e-01 -2.78062910e-01 -7.12668002e-01  2.97149599e-01\n",
            " -4.24918950e-01 -5.85203230e-01 -5.55693805e-01 -4.89564121e-01\n",
            "  1.29525021e-01  1.49548426e-01  3.12135071e-01 -3.95024270e-01\n",
            "  4.41022038e-01 -3.99735957e-01 -3.95860851e-01  6.97120130e-01\n",
            "  9.79849994e-02  7.38331452e-02 -4.34459031e-01  4.98544350e-02\n",
            "  5.04527390e-01  7.74308264e-01  3.71799856e-01  6.87006593e-01\n",
            " -5.73139787e-01  2.83806831e-01  4.48777288e-01 -5.81046462e-01\n",
            "  4.79530364e-01  1.79407105e-01 -1.07184462e-01 -3.20085019e-01\n",
            " -1.21255063e-01 -5.49037218e-01 -6.64655194e-02 -2.82175422e-01\n",
            "  8.01550090e-01  1.96934834e-01 -2.91563004e-01  6.00292236e-02\n",
            "  5.03856316e-02  4.99180049e-01 -8.64054263e-02 -7.93622375e-01\n",
            "  7.36667395e-01 -4.78626639e-01  8.52814674e-01 -9.48741376e-01\n",
            "  4.24509346e-01  7.11933494e-01  8.64870965e-01 -4.20697391e-01\n",
            " -1.55480251e-01 -1.56966463e-01  3.06146499e-02 -3.59066784e-01\n",
            "  2.96715587e-01 -2.81565487e-01 -9.81650315e-03 -3.35093468e-01\n",
            " -2.37925589e-01  4.69260007e-01 -6.93621695e-01 -5.24262249e-01\n",
            "  8.86023164e-01  2.16426000e-01  4.99443442e-01 -2.08746970e-01\n",
            "  4.18607742e-01  5.50143480e-01 -9.89393830e-01  1.06479771e-01\n",
            " -5.15580297e-01 -2.13082969e-01 -1.86488569e-01 -2.40663961e-01\n",
            " -4.22476172e-01  8.04680645e-01 -6.70399606e-01 -3.26336712e-01\n",
            " -1.09265018e+00  2.38120094e-01 -4.56477672e-01  1.52825728e-01\n",
            "  3.02347153e-01 -3.37798476e-01  4.88633811e-01  9.69139457e-01\n",
            "  2.99837589e-02  8.53575468e-01  8.65573362e-02  1.25522208e+00\n",
            "  3.46681118e-01 -7.20542967e-01  4.79428560e-01 -1.17434144e-01\n",
            "  7.89934218e-01  1.12460887e+00  4.80011374e-01  1.66807905e-01\n",
            "  1.54324740e-01  9.80944991e-01 -5.36561072e-01 -2.14820474e-01\n",
            "  8.49563599e-01  5.32827318e-01 -1.16748893e+00 -9.40780640e-02\n",
            "  2.89867550e-01  5.91095388e-01  1.54401228e-01  7.35265762e-02\n",
            " -7.74749219e-01  6.82723105e-01 -5.57256818e-01  5.54339945e-01\n",
            " -1.24259353e-01 -9.88854691e-02 -9.50529277e-01  1.53206691e-01\n",
            " -1.51520982e-01  8.96034315e-02 -8.46988931e-02  2.15601921e-03\n",
            "  3.89236420e-01  6.83529139e-01 -3.73608887e-01 -4.47207093e-02\n",
            " -1.12119667e-01 -3.30056429e-01  2.99814254e-01 -5.72184801e-01\n",
            " -8.44941378e-01 -2.58192658e-01  3.99944127e-01  4.71565217e-01\n",
            " -2.43612844e-02 -2.35345550e-02  1.01297550e-01 -6.19897127e-01\n",
            "  2.07541194e-02 -1.75917387e-01  2.80879229e-01 -3.69535238e-01\n",
            "  2.36966461e-01  6.32968366e-01  6.09983623e-01  6.25208914e-01\n",
            " -1.48860402e-02 -4.44871396e-01 -2.82222144e-02 -4.93530393e-01\n",
            "  2.50871450e-01  3.98867995e-01 -2.96253294e-01  1.07541227e+00\n",
            " -3.21017057e-02  5.20452261e-02 -4.81423698e-02 -1.41969353e-01\n",
            " -1.00596094e+00  1.00166023e+00  8.82847160e-02 -8.92295897e-01\n",
            " -2.20024437e-01  3.80993158e-01  2.68496335e-01  7.80826733e-02\n",
            " -2.40453202e-02 -6.09101057e-01  2.18366519e-01 -4.32377696e-01\n",
            "  7.49808073e-01  1.37371346e-01  4.17295963e-01 -8.30022097e-02\n",
            "  6.15673006e-01 -2.36463979e-01 -3.78117859e-01  8.06380250e-03\n",
            " -1.44690692e+00 -1.15392482e+00 -2.93127060e-01  2.42077976e-01\n",
            "  2.46310532e-01  1.91406012e-01  6.10854626e-01  3.83834839e-01\n",
            "  9.08988714e-02  2.50379574e-02 -2.23882854e-01 -1.35085061e-01\n",
            "  8.22251081e-01 -1.92420393e-01 -6.12409949e-01 -4.38486934e-01\n",
            "  5.43268979e-01  3.37916464e-01 -1.58882001e-03  7.65429497e-01\n",
            "  6.36404157e-01 -2.08643183e-01  3.68577480e-01  6.22269094e-01\n",
            "  5.60129024e-02  5.40592134e-01 -5.13921976e-01  3.59057076e-02\n",
            "  2.02022731e-01  8.27890813e-01 -1.99202493e-01  4.84479398e-01\n",
            " -3.62360299e-01  6.35801554e-02  3.05199455e-02  5.13027191e-01\n",
            "  2.42138818e-01 -3.06489378e-01  3.38959545e-01 -4.26248521e-01\n",
            " -2.11788397e-02  3.37313026e-01 -1.09215491e-01  2.59222627e-01\n",
            "  1.25092909e-01 -2.24619374e-01 -6.56369567e-01  3.16835999e-01\n",
            " -9.18566287e-02 -3.39479409e-02 -1.08259745e-01 -8.43420088e-01\n",
            "  2.23728985e-01  1.40167832e+00 -4.03364211e-01  9.60665941e-01\n",
            " -6.62590444e-01 -3.20946909e-02  1.42535865e-01  3.07920665e-01\n",
            " -6.18174970e-01  4.04296488e-01 -3.63852531e-01  1.02347612e-01\n",
            " -1.20922498e-01  3.18050474e-01  3.55131090e-01 -1.92813829e-01\n",
            "  1.60111472e-01 -3.62052858e-01  3.80323499e-01 -8.99687260e-02\n",
            " -3.28808464e-02 -2.91946918e-01 -1.02342516e-01 -2.15266924e-02\n",
            " -2.79609561e-01  4.03045565e-01 -3.45460415e-01 -3.12103361e-01\n",
            "  2.13277731e-02  5.64227760e-01 -8.76291633e-01  3.36275011e-01\n",
            " -6.11465991e-01 -4.88990426e-01  5.14010012e-01 -6.86257124e-01\n",
            " -3.56986403e-01 -1.30945697e-01 -3.03228348e-01  3.82269770e-01\n",
            " -2.45480403e-01 -2.16496274e-01 -3.60788345e-01  2.10056826e-01\n",
            " -4.08747762e-01  3.13906163e-01  3.43504876e-01 -4.26855743e-01\n",
            " -5.97640932e-01 -3.53916913e-01 -3.25843953e-02  1.03349037e-01\n",
            " -5.79411328e-01 -8.75781298e-01 -8.31382930e-01 -7.05233991e-01\n",
            "  4.08002973e-01  8.36047947e-01  5.49910486e-01 -7.75864348e-02\n",
            "  1.11258304e+00  1.19561441e-01 -1.65303051e-01 -8.62512887e-02]\n",
            "\n",
            "Sentence: The quick brown fox jumps over the lazy dog.\n",
            "Embedding: [-0.29504806 -0.24928899 -0.02407095 -0.07039093 -0.29811606  0.7069692\n",
            " -0.74239284 -0.7840707   0.34614053  0.16320165  0.44130766  0.17854317\n",
            "  0.7044557  -0.32664105 -0.06338908 -1.5088505   0.97705084 -0.4435397\n",
            " -0.06490206 -0.5104956  -0.62215    -0.23174822 -0.7027071   0.11203256\n",
            " -1.0565065   0.39780822 -0.3286169   0.6080841  -0.24571955 -0.23469329\n",
            "  0.10762864 -0.37076584 -0.10497584  0.22151224 -0.3009911   0.5301927\n",
            "  0.18546452 -0.4248956   0.16138601 -0.11732484 -0.01459113  0.16344257\n",
            "  0.67555875 -0.10893979 -0.5598628  -0.13556316 -0.32525656  0.15245856\n",
            "  0.831486   -0.21577989  0.26040462 -0.32265994 -0.31342357 -0.35402432\n",
            " -0.31731483  0.10011444  0.20965393 -0.15452245  0.27400312  0.86641806\n",
            "  0.27700457 -0.92049795  0.67404884  0.3638461  -1.4256967  -0.10490537\n",
            " -0.6037212   0.9062154   0.26761162  0.2326185   0.17301376 -0.98498225\n",
            "  0.5050392   0.86580753 -0.55125856 -0.07355983 -0.29351518  0.54627544\n",
            " -0.28894043  0.08116293  0.45722452  0.24111025  0.01339283  0.01332044\n",
            " -0.3412671   0.73993474  0.13049315 -0.5966055  -1.1802906  -0.552551\n",
            " -0.43480363 -0.6011386  -0.17777945  0.29826638  0.22368729 -0.0172048\n",
            " -0.13821344 -0.7140131   0.39468718 -0.420619   -0.23356289  1.1361216\n",
            " -0.4044616   0.2576725  -0.20678057 -0.527386   -0.59089184 -1.0604786\n",
            " -0.5501889  -0.53787786  0.27958182  0.37908414  0.3938614   0.05499622\n",
            " -1.1983272  -0.638274    0.2774603   0.4288033  -0.02487355  0.16069096\n",
            " -0.1297155  -0.7353142   0.18810463  0.2142332  -0.3805629  -0.96906894\n",
            " -0.46432325 -0.1767862   1.2227837   0.26847917  0.77085084  1.1772891\n",
            " -0.32336017 -1.0285027   1.3187656   0.90463763  0.04127374 -0.23759568\n",
            " -0.43307725 -0.09457141 -0.3548839  -0.37837496 -0.70056725 -0.95255023\n",
            " -0.41183937  0.07510398 -0.24765344  0.12819612 -0.39978135 -0.03361505\n",
            " -0.5250223   0.41771367  0.24121855 -0.21282206 -0.09242713 -0.06434426\n",
            " -0.24293317 -0.39298773  0.18717761 -0.24792098  0.5082302   0.08582554\n",
            " -0.06178435 -0.7278523  -0.19314022 -0.37551156  0.5645973  -0.45926368\n",
            " -1.2088903   0.53971773 -0.09189427  0.18234986  0.17915231  0.10827393\n",
            "  0.24968523  0.42642155  0.65918136 -1.4397154   0.22103052 -0.10491586\n",
            " -0.7281293  -0.7793966   0.5351958  -0.19566232 -0.28173006 -0.16930349\n",
            "  0.28938589  0.23645882  0.32397762  0.15126713  0.3255015  -0.48286247\n",
            " -0.8546327  -0.7096568   0.34621838 -0.35563788 -0.74387866 -0.55536574\n",
            "  0.9786248  -0.05753447 -0.8907194  -1.3980128   0.00865559 -0.05987205\n",
            "  0.21584623 -0.22459488 -0.31866857  0.3170969   0.22313541 -0.6181491\n",
            "  0.84016687 -0.11141747  0.18636459  0.52440816 -0.92834353 -0.1099838\n",
            " -0.5072048  -0.39576378  0.02102561  0.31876457 -0.58236176  0.80121726\n",
            " -0.13942756  0.791409    0.6650207   0.56553173  0.45561063 -1.7672106\n",
            "  0.42538467 -0.6448704  -0.04998571 -0.10018279 -0.15981959  0.8828121\n",
            "  0.082312   -0.28332308 -0.10496583  0.11331996  0.848025    0.3034648\n",
            " -0.07900655 -0.3527222   0.6811855  -0.33781388  0.23424995 -0.51116323\n",
            "  0.29190958  0.22061533 -0.70146173 -0.9339574  -0.38025844  0.06421025\n",
            "  0.88021755 -0.815054    0.89409095 -0.279568   -0.52322775  0.00815156\n",
            "  0.10105815 -0.22178358  0.17672314 -0.44436407  0.95745057 -0.5753281\n",
            "  0.05374274  0.54805905 -0.56619054 -0.06628741 -0.2448932  -0.28566295\n",
            "  0.19311754 -0.4832972  -0.03926612 -0.25660965  0.2693752  -0.11622787\n",
            "  0.31608403  0.33936778  0.01813743 -0.8023638  -0.04707755  0.78076047\n",
            " -0.15943938 -0.93117887 -0.5206113   0.1050602   0.23645854 -0.84167594\n",
            " -0.42988443  0.26685     0.0968869   0.08448946  0.2284085   0.17480887\n",
            " -0.05814693  0.4661952   0.39566222 -0.36072218  0.6241329   0.46795174\n",
            " -0.3390789  -1.058755   -0.1163431  -0.81307906  0.10006227 -0.21486323\n",
            "  0.14546825  0.28032705 -1.1845855  -0.54179424 -0.03238867 -0.81458974\n",
            " -0.45473194 -0.12876998 -0.47351846  0.26073328 -0.5298442   0.08050857\n",
            " -0.7219737  -1.9170642   1.0178502   0.02739568 -0.1976039  -0.5560303\n",
            "  0.31861386 -0.18285215 -0.8437877   0.4449905  -0.07462957  1.479908\n",
            " -0.30588537  0.8552274   0.5038144  -0.97984546 -0.52269393  0.1982861\n",
            "  0.18011375 -0.04704957 -0.70629793  0.77385855  0.7464343  -0.12369338\n",
            "  1.3343959   0.07319335  0.52951455  0.17404228  0.13214695  0.2014036\n",
            "  0.960308   -0.15788573 -0.35888445 -0.44871044  0.56051975 -0.16564228\n",
            " -0.05350352 -0.34440318  0.5548411  -0.15947562  0.13032721  0.49269366\n",
            " -0.7597375   0.60873854  0.09435403 -0.53450114  0.08226535  0.33576134\n",
            "  0.0028771  -0.3563353   0.06594869  0.6304724   0.15225957  0.07160144\n",
            "  0.5386686   0.84232116 -0.0387467   0.07968571  0.6175687   0.131099\n",
            "  0.28217116 -0.42084488 -0.37468013 -0.7328432   0.51400334 -0.5247602\n",
            " -0.4036088  -0.35283884 -0.7362979   0.06346615  0.60064405  0.28381523\n",
            "  0.26397744 -0.8403682  -0.4249076  -0.3751785  -0.6971685   0.17636353\n",
            "  0.72782373 -0.48440754  0.7227733  -0.83335084 -1.2145152   0.00566091\n",
            " -0.29923058  0.9932373  -0.4460033  -0.77053684 -0.16503847  0.5795056\n",
            "  0.75013417  0.15441932 -0.5403457   0.36663017  0.3597288   0.13203017\n",
            " -0.06501736 -0.7562087   0.05972094 -0.05343248 -0.8717947  -0.65073854\n",
            "  0.20121364  0.26946414  0.4619726  -0.03474323 -0.27133325 -0.8555732\n",
            " -1.0319229   1.5421515   0.0317984  -0.01259882  1.0165514   0.23240449\n",
            "  0.61442745  0.24847867 -0.5638409   1.0902944   1.2404318  -0.3361019\n",
            " -0.15447421  0.31746295  0.16620947  0.6643604   0.3251641   0.75718135\n",
            "  0.4369305   0.02617346  0.5835282  -0.44972506 -0.42067078  1.271721\n",
            "  0.6198182   0.09513757  0.999537    0.16964264  0.57333946  0.03279928\n",
            " -0.5231284   0.31459528  0.31922337 -0.15563335 -0.19858514 -0.4016222\n",
            " -0.6532671  -0.02513328  0.19594866  0.22884643 -0.18777783  0.43887937\n",
            "  0.07788309 -0.02009039 -0.49797055  0.48348522  0.12745236 -0.61608666\n",
            " -0.08124936 -0.50656784 -0.62386453  0.28166863 -0.27924094 -0.6982608\n",
            " -0.19035232 -0.03756551  0.36926565 -0.520953    0.40065584  0.42559728\n",
            " -1.0909191   0.7374072  -0.57860494 -0.16973275 -0.5046074   0.536705\n",
            "  0.9232518  -0.11388377  0.7705326  -0.4756626   0.00394895  0.6246836\n",
            "  0.44725332  0.66974753  0.5900598   1.4067311   0.01771373 -0.23772718\n",
            "  0.53370285  0.73438424  0.34041366 -0.37047946 -0.31411466  0.43266794\n",
            " -0.21224624 -0.27238432  0.9107669  -0.40003887 -0.33146897 -0.07111754\n",
            "  1.0325638   0.13733959  0.80957365 -0.40879104 -0.8406095  -0.04757311\n",
            "  0.2696806   0.66213584  0.06746116  0.78130406 -0.40080205 -0.08789516\n",
            "  0.2724341   0.13973986 -0.9014995  -0.7874367  -0.53800154 -0.5783107\n",
            " -0.7879663   0.3733476   0.29370406 -0.5564715   0.5750764  -0.47396052\n",
            " -0.3078015  -0.16893792 -0.18534167 -0.34943452 -0.38916373 -0.08740159\n",
            "  0.6245336  -0.27022055  0.76970774  1.3697735   0.6435348  -0.16518901\n",
            "  0.12508045 -0.01604701 -0.14783587  0.12581511 -0.36538604  0.85302776\n",
            " -0.03830791  0.83079076  0.61032987  0.2370839  -0.16622432  0.08115818\n",
            "  0.5943273   0.11284255 -0.12878516 -0.04780852 -0.14178532 -0.37859252\n",
            " -1.5032068   0.11368117  0.24221389 -0.01273908 -0.8036625  -0.619118\n",
            "  0.02401469 -0.9321386  -0.7497542   0.10275799 -0.33314398 -0.19555269\n",
            "  0.42991987  0.80477905  0.12432182  0.40388826 -0.44613978 -0.40964428\n",
            "  0.22137684  0.30230466  0.22739546  0.4756024  -0.5811799  -0.8954236\n",
            " -0.04245965 -0.42711088  0.0653859   0.3475602  -0.05656269  0.9013777\n",
            " -0.1655598   0.40316042  0.629446   -0.02373515 -0.21070695  0.90990597\n",
            "  0.11251754 -0.2693458   0.43006107  0.13308938  0.01266051  1.1084347\n",
            " -0.6444149  -0.2697722   0.49808946  0.55584437 -0.58433515  0.04481985\n",
            " -0.5153869   0.14022224 -0.81839806  0.7469571   0.035604    0.00817261\n",
            "  0.16553108 -0.06610007  0.02152537  0.33753863  0.07368051 -0.62380314\n",
            " -0.2159779  -0.9305598  -0.8118978   0.25342706 -1.4357344   1.415712\n",
            "  0.13320082 -0.17643313  0.13542609  0.33899665 -0.06463581 -0.5165544\n",
            "  0.28371775 -0.6124949   0.10158022  0.9428999   0.36293682 -0.5771525\n",
            "  0.73517877  0.05387958 -0.01228937  1.0745615  -0.2979186   0.22596236\n",
            " -0.7895593   0.07621197 -0.8676872   0.05503465 -0.4220241  -0.24722333\n",
            "  0.7179518  -0.48599648  0.09425106  0.13130116  0.0379135   0.53765815\n",
            " -0.02484878 -0.54776126  0.5781703  -0.02234881 -0.43399218  0.07913748\n",
            " -0.20445879 -0.8490339   0.34940672  0.07521533  0.01585929 -0.03700625\n",
            " -0.5393517   0.9967473  -0.52919376  0.07660512 -0.6298862   0.37694594\n",
            "  0.646548   -0.6805193  -0.2327417   0.13296969 -0.32255527  0.03900534\n",
            " -0.21039598  0.15832031 -0.04002956  0.32424217 -0.36680412 -0.44330326\n",
            "  0.12302183 -0.623096   -0.32114658 -0.44064724 -0.4412937   0.04315593\n",
            "  0.7388204  -0.11662681 -0.21535008 -0.48798704 -0.55430895  0.28348905\n",
            " -0.1510397  -0.11733942  0.279272    0.11508203  0.54876226 -0.222843\n",
            "  0.2200712   0.04879275  0.48193923 -0.3605683  -0.6677828  -0.10734085\n",
            "  0.8990573   0.33693358  0.37071455  1.199844    0.1824894   0.20661198\n",
            " -0.6036928   0.29834744  0.13383657 -0.07413004 -0.10890242 -0.3676766\n",
            "  0.2891654   0.05724242 -0.5893341  -0.22025697 -0.49511778  0.8943538\n",
            " -1.0165036   0.20144714  0.09521288 -0.03948695  0.22474651 -0.57879704\n",
            "  0.1508937   0.8045905   0.30101505  0.33656952 -0.6245526   0.34750745\n",
            "  0.26642272  0.96951216  0.32540718 -0.2135951   0.4891276   0.29226887\n",
            " -0.5339506  -0.38122556 -0.23013008  0.38195428 -0.473053   -0.22562344\n",
            " -0.12222698 -0.16269304 -0.0659427   0.11944587  0.00626649  1.040069  ]\n",
            "\n"
          ],
          "name": "stdout"
        }
      ]
    },
    {
      "cell_type": "code",
      "metadata": {
        "colab": {
          "base_uri": "https://localhost:8080/"
        },
        "id": "15Uobn53_aE7",
        "outputId": "361f11c2-16a6-4877-def2-1400b382cea9"
      },
      "source": [
        "!pip install e"
      ],
      "execution_count": null,
      "outputs": [
        {
          "output_type": "stream",
          "text": [
            "Collecting e\n",
            "  Downloading https://files.pythonhosted.org/packages/79/19/8bdbb33a50c0a76eac690ecad9add56e1de1b08c657ac0faa862b7662be6/e-1.4.5.tar.gz\n",
            "Building wheels for collected packages: e\n",
            "  Building wheel for e (setup.py) ... \u001b[?25l\u001b[?25hdone\n",
            "  Created wheel for e: filename=e-1.4.5-cp36-none-any.whl size=2832 sha256=d2d818505315bfbe7e712969caa06afcd2084d02f2f57d021f5eea6bd26a7dab\n",
            "  Stored in directory: /root/.cache/pip/wheels/cb/db/09/e4af9f74b90354a841a09ea851687727f64ceeac6e554355d9\n",
            "Successfully built e\n",
            "Installing collected packages: e\n",
            "Successfully installed e-1.4.5\n"
          ],
          "name": "stdout"
        }
      ]
    },
    {
      "cell_type": "code",
      "metadata": {
        "colab": {
          "base_uri": "https://localhost:8080/",
          "height": 265,
          "referenced_widgets": [
            "81693088e2e84a899533beedc3a4b53d",
            "fb88569eea4741cbb7f0f88319cf63be",
            "57975e11e93f4a4a8cfeb09f3f0db87c",
            "0241bafcd02f4163a5585a0d7a30f1f3",
            "66f304423c074ed0ae049b9d9cf7019e",
            "91c9b7eab2dc49ca90648bcce30fc5cd",
            "3f6982d337874c66b66c9459fac94528",
            "8e806c30e31742dab21d055282a6812e",
            "295229d657794dbcbd3d485fa8e4a306",
            "0b707820e64e40b29fda7925ca4d63e9",
            "8063210d7a82424d9fffff4571fee90c",
            "74b2f2f8073943cdb375d51ab902f2e9",
            "435d2b8a168f443790f197f404119040",
            "fb9000e4e5fc403ab31214f28fff3d90",
            "1e649f0c134f435f99053d4911ac2bb5",
            "2d68c2b8146a488bb7685f38e3aa8698",
            "b6c1c0277dc043408c7056294622f894",
            "8713cfaf8f6e4b17a4738ba35687d590",
            "355fa2f392d549e7b0820ac518d9a5e2",
            "6692eeceb5ad4559b5e2b7c84bb68841",
            "494a76a3dfb4484db1f1619a35ec9c63",
            "f982cdc5bd41450086a0f674ed019f5c",
            "bc95641ed61a4f3ca1acdd31236c7a2b",
            "a19ae133b234431691af4220632d2879",
            "32e178b662fb46db80a331349f67cadd",
            "1a13907fe43a4be6818887e576ee25e1",
            "11167c8312394ec6852b418a3ebbc257",
            "c46bd260121f4ffa8e171437ab248f49",
            "0e35fb6dba0d47f1822a79128ea843cb",
            "de2313a82ee34aaeb5925aaa696976e6",
            "07e508e267a041b688e600a877b86701",
            "c51c923bac0f490b8fa5b600dfe8ef99",
            "94700e72626b4da0a6d0d1076820844d",
            "eb99e9dae43c44d797e772ae8b75da00",
            "37a3bf0757404f4d82c21ec2f5b925ae",
            "4ec4f87001d142e7a2696a8157502776",
            "25c6e524367e4976868f3571c99c1a5b",
            "0537f2867c2546419a2e0bd5af1a8a8f",
            "10518d76d26a4677b1e052962b7d43a9",
            "180c56d670f3492e9a2e90b66de6dd14"
          ]
        },
        "id": "Off-FVhG_VvS",
        "outputId": "8bbcfd14-59db-4ea1-e184-5dc23e0908a5"
      },
      "source": [
        "from transformers import AutoTokenizer, AutoModel\n",
        "import torch\n",
        "\n",
        "\n",
        "#Mean Pooling - Take attention mask into account for correct averaging\n",
        "def mean_pooling(model_output, attention_mask):\n",
        "    token_embeddings = model_output[0] #First element of model_output contains all token embeddings\n",
        "    input_mask_expanded = attention_mask.unsqueeze(-1).expand(token_embeddings.size()).float()\n",
        "    sum_embeddings = torch.sum(token_embeddings * input_mask_expanded, 1)\n",
        "    sum_mask = torch.clamp(input_mask_expanded.sum(1), min=1e-9)\n",
        "    return sum_embeddings / sum_mask\n",
        "\n",
        "\n",
        "\n",
        "#Sentences we want sentence embeddings for\n",
        "sentences = ['This framework generates embeddings for each input sentence',\n",
        "             'Sentences are passed as a list of string.',\n",
        "             'The quick brown fox jumps over the lazy dog.']\n",
        "\n",
        "#Load AutoModel from huggingface model repository\n",
        "tokenizer = AutoTokenizer.from_pretrained(\"sentence-transformers/bert-base-nli-mean-tokens\")\n",
        "model = AutoModel.from_pretrained(\"sentence-transformers/bert-base-nli-mean-tokens\")\n",
        "\n",
        "#Tokenize sentences\n",
        "encoded_input = tokenizer(sentences, padding=True, truncation=True, max_length=128, return_tensors='pt')\n",
        "\n",
        "#Compute token embeddings\n",
        "with torch.no_grad():\n",
        "    model_output = model(**encoded_input)\n",
        "\n",
        "#Perform pooling. In this case, mean pooling\n",
        "sentence_embeddings = mean_pooling(model_output, encoded_input['attention_mask'])"
      ],
      "execution_count": null,
      "outputs": [
        {
          "output_type": "display_data",
          "data": {
            "application/vnd.jupyter.widget-view+json": {
              "model_id": "81693088e2e84a899533beedc3a4b53d",
              "version_minor": 0,
              "version_major": 2
            },
            "text/plain": [
              "HBox(children=(FloatProgress(value=0.0, description='Downloading', max=461.0, style=ProgressStyle(description_…"
            ]
          },
          "metadata": {
            "tags": []
          }
        },
        {
          "output_type": "stream",
          "text": [
            "\n"
          ],
          "name": "stdout"
        },
        {
          "output_type": "display_data",
          "data": {
            "application/vnd.jupyter.widget-view+json": {
              "model_id": "295229d657794dbcbd3d485fa8e4a306",
              "version_minor": 0,
              "version_major": 2
            },
            "text/plain": [
              "HBox(children=(FloatProgress(value=0.0, description='Downloading', max=231508.0, style=ProgressStyle(descripti…"
            ]
          },
          "metadata": {
            "tags": []
          }
        },
        {
          "output_type": "stream",
          "text": [
            "\n"
          ],
          "name": "stdout"
        },
        {
          "output_type": "display_data",
          "data": {
            "application/vnd.jupyter.widget-view+json": {
              "model_id": "b6c1c0277dc043408c7056294622f894",
              "version_minor": 0,
              "version_major": 2
            },
            "text/plain": [
              "HBox(children=(FloatProgress(value=0.0, description='Downloading', max=2.0, style=ProgressStyle(description_wi…"
            ]
          },
          "metadata": {
            "tags": []
          }
        },
        {
          "output_type": "stream",
          "text": [
            "\n"
          ],
          "name": "stdout"
        },
        {
          "output_type": "display_data",
          "data": {
            "application/vnd.jupyter.widget-view+json": {
              "model_id": "32e178b662fb46db80a331349f67cadd",
              "version_minor": 0,
              "version_major": 2
            },
            "text/plain": [
              "HBox(children=(FloatProgress(value=0.0, description='Downloading', max=112.0, style=ProgressStyle(description_…"
            ]
          },
          "metadata": {
            "tags": []
          }
        },
        {
          "output_type": "stream",
          "text": [
            "\n"
          ],
          "name": "stdout"
        },
        {
          "output_type": "display_data",
          "data": {
            "application/vnd.jupyter.widget-view+json": {
              "model_id": "94700e72626b4da0a6d0d1076820844d",
              "version_minor": 0,
              "version_major": 2
            },
            "text/plain": [
              "HBox(children=(FloatProgress(value=0.0, description='Downloading', max=438006864.0, style=ProgressStyle(descri…"
            ]
          },
          "metadata": {
            "tags": []
          }
        },
        {
          "output_type": "stream",
          "text": [
            "\n"
          ],
          "name": "stdout"
        }
      ]
    },
    {
      "cell_type": "code",
      "metadata": {
        "colab": {
          "base_uri": "https://localhost:8080/"
        },
        "id": "lr749FTkAStZ",
        "outputId": "345330f0-89cd-474c-bcca-7196bc2e4f73"
      },
      "source": [
        "from sentence_transformers import SentenceTransformer, util\n",
        "model = SentenceTransformer('distilbert-base-nli-stsb-mean-tokens')\n",
        "\n",
        "# Two lists of sentences\n",
        "sentences1 = ['The cat sits outside',\n",
        "             'A man is playing guitar',\n",
        "             'The new movie is awesome']\n",
        "\n",
        "sentences2 = ['The dog plays in the garden',\n",
        "              'A woman watches TV',\n",
        "              'The new movie is so great']\n",
        "\n",
        "#Compute embedding for both lists\n",
        "embeddings1 = model.encode(sentences1, convert_to_tensor=True)\n",
        "embeddings2 = model.encode(sentences2, convert_to_tensor=True)\n",
        "\n",
        "#Compute cosine-similarits\n",
        "cosine_scores = util.pytorch_cos_sim(embeddings1, embeddings2)\n",
        "\n",
        "#Output the pairs with their score\n",
        "for i in range(len(sentences1)):\n",
        "    print(\"{} \\t\\t {} \\t\\t Score: {:.4f}\".format(sentences1[i], sentences2[i], cosine_scores[i][i]))"
      ],
      "execution_count": null,
      "outputs": [
        {
          "output_type": "stream",
          "text": [
            "The cat sits outside \t\t The dog plays in the garden \t\t Score: 0.2166\n",
            "A man is playing guitar \t\t A woman watches TV \t\t Score: -0.0146\n",
            "The new movie is awesome \t\t The new movie is so great \t\t Score: 0.9816\n"
          ],
          "name": "stdout"
        }
      ]
    },
    {
      "cell_type": "markdown",
      "metadata": {
        "id": "uCtdtem6A18y"
      },
      "source": [
        "# PART 2"
      ]
    },
    {
      "cell_type": "code",
      "metadata": {
        "id": "0914cjihAlQv"
      },
      "source": [
        "!pip install -qq transformers"
      ],
      "execution_count": null,
      "outputs": []
    },
    {
      "cell_type": "markdown",
      "metadata": {
        "id": "CqcWFj9ABzVD"
      },
      "source": [
        "%reload_ext watermark\n",
        "\n",
        "%watermark -v -p numpy,pandas,torch,transformers\n",
        "\n",
        "CPython 3.6.9\n",
        "\n",
        "IPython 5.5.0\n",
        "\n",
        "numpy 1.18.2\n",
        "\n",
        "pandas 1.0.3\n",
        "\n",
        "torch 1.4.0\n",
        "\n",
        "transformers 2.8.0"
      ]
    },
    {
      "cell_type": "code",
      "metadata": {
        "id": "iHjuRYiEByse"
      },
      "source": [
        "import transformers\n",
        "from transformers import BertModel, BertTokenizer, AdamW, get_linear_schedule_with_warmup\n",
        "import torch\n",
        "import numpy as np\n",
        "import pandas as pd\n",
        "import seaborn as sns\n",
        "from pylab import rcParams\n",
        "import matplotlib.pyplot as plt\n",
        "from matplotlib import rc\n",
        "from sklearn.model_selection import train_test_split\n",
        "from sklearn.metrics import confusion_matrix, classification_report\n",
        "from collections import defaultdict\n",
        "from textwrap import wrap\n",
        "from torch import nn, optim\n",
        "from torch.utils.data import Dataset, DataLoader\n",
        "%matplotlib inline\n",
        "%config InlineBackend.figure_format='retina'\n",
        "sns.set(style='whitegrid', palette='muted', font_scale=1.2)\n",
        "HAPPY_COLORS_PALETTE = [\"#01BEFE\", \"#FFDD00\", \"#FF7D00\", \"#FF006D\", \"#ADFF02\", \"#8F00FF\"]\n",
        "sns.set_palette(sns.color_palette(HAPPY_COLORS_PALETTE))\n",
        "rcParams['figure.figsize'] = 12, 8\n",
        "RANDOM_SEED = 42\n",
        "np.random.seed(RANDOM_SEED)\n",
        "torch.manual_seed(RANDOM_SEED)\n",
        "device = torch.device(\"cuda:0\" if torch.cuda.is_available() else \"cpu\")"
      ],
      "execution_count": null,
      "outputs": []
    },
    {
      "cell_type": "code",
      "metadata": {
        "colab": {
          "base_uri": "https://localhost:8080/"
        },
        "id": "NiZL8dJKB5PF",
        "outputId": "dc7e7d4b-5632-4fa8-8deb-5229003f50f2"
      },
      "source": [
        "!gdown --id 1S6qMioqPJjyBLpLVz4gmRTnJHnjitnuV\n",
        "!gdown --id 1zdmewp7ayS4js4VtrJEHzAheSW-5NBZv"
      ],
      "execution_count": null,
      "outputs": [
        {
          "output_type": "stream",
          "text": [
            "Downloading...\n",
            "From: https://drive.google.com/uc?id=1S6qMioqPJjyBLpLVz4gmRTnJHnjitnuV\n",
            "To: /content/apps.csv\n",
            "100% 134k/134k [00:00<00:00, 50.7MB/s]\n",
            "Downloading...\n",
            "From: https://drive.google.com/uc?id=1zdmewp7ayS4js4VtrJEHzAheSW-5NBZv\n",
            "To: /content/reviews.csv\n",
            "7.17MB [00:00, 43.8MB/s]\n"
          ],
          "name": "stdout"
        }
      ]
    },
    {
      "cell_type": "code",
      "metadata": {
        "colab": {
          "base_uri": "https://localhost:8080/",
          "height": 364
        },
        "id": "l6RTkngZCFGI",
        "outputId": "2ea6e9b9-5d0d-4508-f7be-66933dbebc02"
      },
      "source": [
        "df = pd.read_csv(\"/content/reviews.csv\")\n",
        "df.head()"
      ],
      "execution_count": null,
      "outputs": [
        {
          "output_type": "execute_result",
          "data": {
            "text/html": [
              "<div>\n",
              "<style scoped>\n",
              "    .dataframe tbody tr th:only-of-type {\n",
              "        vertical-align: middle;\n",
              "    }\n",
              "\n",
              "    .dataframe tbody tr th {\n",
              "        vertical-align: top;\n",
              "    }\n",
              "\n",
              "    .dataframe thead th {\n",
              "        text-align: right;\n",
              "    }\n",
              "</style>\n",
              "<table border=\"1\" class=\"dataframe\">\n",
              "  <thead>\n",
              "    <tr style=\"text-align: right;\">\n",
              "      <th></th>\n",
              "      <th>userName</th>\n",
              "      <th>userImage</th>\n",
              "      <th>content</th>\n",
              "      <th>score</th>\n",
              "      <th>thumbsUpCount</th>\n",
              "      <th>reviewCreatedVersion</th>\n",
              "      <th>at</th>\n",
              "      <th>replyContent</th>\n",
              "      <th>repliedAt</th>\n",
              "      <th>sortOrder</th>\n",
              "      <th>appId</th>\n",
              "    </tr>\n",
              "  </thead>\n",
              "  <tbody>\n",
              "    <tr>\n",
              "      <th>0</th>\n",
              "      <td>Andrew Thomas</td>\n",
              "      <td>https://lh3.googleusercontent.com/a-/AOh14GiHd...</td>\n",
              "      <td>Update: After getting a response from the deve...</td>\n",
              "      <td>1</td>\n",
              "      <td>21</td>\n",
              "      <td>4.17.0.3</td>\n",
              "      <td>2020-04-05 22:25:57</td>\n",
              "      <td>According to our TOS, and the term you have ag...</td>\n",
              "      <td>2020-04-05 15:10:24</td>\n",
              "      <td>most_relevant</td>\n",
              "      <td>com.anydo</td>\n",
              "    </tr>\n",
              "    <tr>\n",
              "      <th>1</th>\n",
              "      <td>Craig Haines</td>\n",
              "      <td>https://lh3.googleusercontent.com/-hoe0kwSJgPQ...</td>\n",
              "      <td>Used it for a fair amount of time without any ...</td>\n",
              "      <td>1</td>\n",
              "      <td>11</td>\n",
              "      <td>4.17.0.3</td>\n",
              "      <td>2020-04-04 13:40:01</td>\n",
              "      <td>It sounds like you logged in with a different ...</td>\n",
              "      <td>2020-04-05 15:11:35</td>\n",
              "      <td>most_relevant</td>\n",
              "      <td>com.anydo</td>\n",
              "    </tr>\n",
              "    <tr>\n",
              "      <th>2</th>\n",
              "      <td>steven adkins</td>\n",
              "      <td>https://lh3.googleusercontent.com/a-/AOh14GiXw...</td>\n",
              "      <td>Your app sucks now!!!!! Used to be good but no...</td>\n",
              "      <td>1</td>\n",
              "      <td>17</td>\n",
              "      <td>4.17.0.3</td>\n",
              "      <td>2020-04-01 16:18:13</td>\n",
              "      <td>This sounds odd! We are not aware of any issue...</td>\n",
              "      <td>2020-04-02 16:05:56</td>\n",
              "      <td>most_relevant</td>\n",
              "      <td>com.anydo</td>\n",
              "    </tr>\n",
              "    <tr>\n",
              "      <th>3</th>\n",
              "      <td>Lars Panzerbjørn</td>\n",
              "      <td>https://lh3.googleusercontent.com/a-/AOh14Gg-h...</td>\n",
              "      <td>It seems OK, but very basic. Recurring tasks n...</td>\n",
              "      <td>1</td>\n",
              "      <td>192</td>\n",
              "      <td>4.17.0.2</td>\n",
              "      <td>2020-03-12 08:17:34</td>\n",
              "      <td>We do offer this option as part of the Advance...</td>\n",
              "      <td>2020-03-15 06:20:13</td>\n",
              "      <td>most_relevant</td>\n",
              "      <td>com.anydo</td>\n",
              "    </tr>\n",
              "    <tr>\n",
              "      <th>4</th>\n",
              "      <td>Scott Prewitt</td>\n",
              "      <td>https://lh3.googleusercontent.com/-K-X1-YsVd6U...</td>\n",
              "      <td>Absolutely worthless. This app runs a prohibit...</td>\n",
              "      <td>1</td>\n",
              "      <td>42</td>\n",
              "      <td>4.17.0.2</td>\n",
              "      <td>2020-03-14 17:41:01</td>\n",
              "      <td>We're sorry you feel this way! 90% of the app ...</td>\n",
              "      <td>2020-03-15 23:45:51</td>\n",
              "      <td>most_relevant</td>\n",
              "      <td>com.anydo</td>\n",
              "    </tr>\n",
              "  </tbody>\n",
              "</table>\n",
              "</div>"
            ],
            "text/plain": [
              "           userName  ...      appId\n",
              "0     Andrew Thomas  ...  com.anydo\n",
              "1      Craig Haines  ...  com.anydo\n",
              "2     steven adkins  ...  com.anydo\n",
              "3  Lars Panzerbjørn  ...  com.anydo\n",
              "4     Scott Prewitt  ...  com.anydo\n",
              "\n",
              "[5 rows x 11 columns]"
            ]
          },
          "metadata": {
            "tags": []
          },
          "execution_count": 15
        }
      ]
    },
    {
      "cell_type": "code",
      "metadata": {
        "colab": {
          "base_uri": "https://localhost:8080/"
        },
        "id": "a8vhJpNzCN3Y",
        "outputId": "c82446bd-9fc3-422c-dd6e-fdb3b8d03a9b"
      },
      "source": [
        "df.shape"
      ],
      "execution_count": null,
      "outputs": [
        {
          "output_type": "execute_result",
          "data": {
            "text/plain": [
              "(15746, 11)"
            ]
          },
          "metadata": {
            "tags": []
          },
          "execution_count": 17
        }
      ]
    },
    {
      "cell_type": "code",
      "metadata": {
        "colab": {
          "base_uri": "https://localhost:8080/"
        },
        "id": "_E41dPFlCgFr",
        "outputId": "38c432c6-b9bc-4134-8afd-aa70ef0a699b"
      },
      "source": [
        "df.info()\n"
      ],
      "execution_count": null,
      "outputs": [
        {
          "output_type": "stream",
          "text": [
            "<class 'pandas.core.frame.DataFrame'>\n",
            "RangeIndex: 15746 entries, 0 to 15745\n",
            "Data columns (total 11 columns):\n",
            " #   Column                Non-Null Count  Dtype \n",
            "---  ------                --------------  ----- \n",
            " 0   userName              15746 non-null  object\n",
            " 1   userImage             15746 non-null  object\n",
            " 2   content               15746 non-null  object\n",
            " 3   score                 15746 non-null  int64 \n",
            " 4   thumbsUpCount         15746 non-null  int64 \n",
            " 5   reviewCreatedVersion  13533 non-null  object\n",
            " 6   at                    15746 non-null  object\n",
            " 7   replyContent          7367 non-null   object\n",
            " 8   repliedAt             7367 non-null   object\n",
            " 9   sortOrder             15746 non-null  object\n",
            " 10  appId                 15746 non-null  object\n",
            "dtypes: int64(2), object(9)\n",
            "memory usage: 1.3+ MB\n"
          ],
          "name": "stdout"
        }
      ]
    },
    {
      "cell_type": "code",
      "metadata": {
        "colab": {
          "base_uri": "https://localhost:8080/",
          "height": 561
        },
        "id": "K32wLnSMCkB4",
        "outputId": "ea23df18-0e99-45a1-82db-d3712bf0ebdc"
      },
      "source": [
        "sns.countplot(df.score)\n",
        "plt.xlabel('review score');"
      ],
      "execution_count": null,
      "outputs": [
        {
          "output_type": "stream",
          "text": [
            "/usr/local/lib/python3.6/dist-packages/seaborn/_decorators.py:43: FutureWarning: Pass the following variable as a keyword arg: x. From version 0.12, the only valid positional argument will be `data`, and passing other arguments without an explicit keyword will result in an error or misinterpretation.\n",
            "  FutureWarning\n"
          ],
          "name": "stderr"
        },
        {
          "output_type": "display_data",
          "data": {
            "image/png": "[encoded data removed]",
            "text/plain": [
              "<Figure size 864x576 with 1 Axes>"
            ]
          },
          "metadata": {
            "tags": [],
            "image/png": {
              "width": 745,
              "height": 489
            }
          }
        }
      ]
    },
    {
      "cell_type": "code",
      "metadata": {
        "colab": {
          "base_uri": "https://localhost:8080/",
          "height": 561
        },
        "id": "AdcZnBlACm0m",
        "outputId": "8bbe770b-3ab8-4d51-c6b4-2260725d1d28"
      },
      "source": [
        "def to_sentiment(rating):\n",
        "  rating = int(rating)\n",
        "  if rating <= 2:\n",
        "    return 0\n",
        "  elif rating == 3:\n",
        "    return 1\n",
        "  else:\n",
        "    return 2\n",
        "df['sentiment'] = df.score.apply(to_sentiment)\n",
        "class_names = ['negative', 'neutral', 'positive']\n",
        "ax = sns.countplot(df.sentiment)\n",
        "plt.xlabel('review sentiment')\n",
        "ax.set_xticklabels(class_names);"
      ],
      "execution_count": null,
      "outputs": [
        {
          "output_type": "stream",
          "text": [
            "/usr/local/lib/python3.6/dist-packages/seaborn/_decorators.py:43: FutureWarning: Pass the following variable as a keyword arg: x. From version 0.12, the only valid positional argument will be `data`, and passing other arguments without an explicit keyword will result in an error or misinterpretation.\n",
            "  FutureWarning\n"
          ],
          "name": "stderr"
        },
        {
          "output_type": "display_data",
          "data": {
            "image/png": "[encoded data removed]",
            "text/plain": [
              "<Figure size 864x576 with 1 Axes>"
            ]
          },
          "metadata": {
            "tags": [],
            "image/png": {
              "width": 745,
              "height": 489
            }
          }
        }
      ]
    },
    {
      "cell_type": "code",
      "metadata": {
        "id": "0ICFSYsQDDSz"
      },
      "source": [
        "PRE_TRAINED_MODEL_NAME = 'bert-base-cased'"
      ],
      "execution_count": null,
      "outputs": []
    },
    {
      "cell_type": "code",
      "metadata": {
        "colab": {
          "base_uri": "https://localhost:8080/",
          "height": 66,
          "referenced_widgets": [
            "d8c4a7e50a174087bc8322522eb40bb5",
            "580dff46f92b4d658e73ee62d2a4f511",
            "0393240567074ebfa4dae5595bd0899d",
            "8f17f0f9df214bb5bbd271fe3d29c1fb",
            "06a59357b5224cc292100325bd8af45c",
            "5569da12528247a5841e2a868888e240",
            "01433507ceaa4a699172fe4b1b02de7b",
            "3c48b6ea27a143a5a63504f3d94890c7"
          ]
        },
        "id": "gI-o5LkXDVpG",
        "outputId": "f63fc58e-dc04-4313-d470-90cadab67289"
      },
      "source": [
        "tokenizer = BertTokenizer.from_pretrained(PRE_TRAINED_MODEL_NAME)"
      ],
      "execution_count": null,
      "outputs": [
        {
          "output_type": "display_data",
          "data": {
            "application/vnd.jupyter.widget-view+json": {
              "model_id": "d8c4a7e50a174087bc8322522eb40bb5",
              "version_minor": 0,
              "version_major": 2
            },
            "text/plain": [
              "HBox(children=(FloatProgress(value=0.0, description='Downloading', max=213450.0, style=ProgressStyle(descripti…"
            ]
          },
          "metadata": {
            "tags": []
          }
        },
        {
          "output_type": "stream",
          "text": [
            "\n"
          ],
          "name": "stdout"
        }
      ]
    },
    {
      "cell_type": "code",
      "metadata": {
        "id": "LNFPsjIpDb73"
      },
      "source": [
        "sample_txt = 'When was I last outside? I am stuck at home for 2 weeks.'"
      ],
      "execution_count": null,
      "outputs": []
    },
    {
      "cell_type": "code",
      "metadata": {
        "colab": {
          "base_uri": "https://localhost:8080/"
        },
        "id": "wvnc1vYjDfpX",
        "outputId": "d29a0c81-7bc0-4e78-aff0-64ec79b80b80"
      },
      "source": [
        "tokens = tokenizer.tokenize(sample_txt)\n",
        "token_ids = tokenizer.convert_tokens_to_ids(tokens)\n",
        "print(f' Sentence: {sample_txt}')\n",
        "print(f'   Tokens: {tokens}')\n",
        "print(f'Token IDs: {token_ids}')"
      ],
      "execution_count": null,
      "outputs": [
        {
          "output_type": "stream",
          "text": [
            " Sentence: When was I last outside? I am stuck at home for 2 weeks.\n",
            "   Tokens: ['When', 'was', 'I', 'last', 'outside', '?', 'I', 'am', 'stuck', 'at', 'home', 'for', '2', 'weeks', '.']\n",
            "Token IDs: [1332, 1108, 146, 1314, 1796, 136, 146, 1821, 5342, 1120, 1313, 1111, 123, 2277, 119]\n"
          ],
          "name": "stdout"
        }
      ]
    },
    {
      "cell_type": "code",
      "metadata": {
        "colab": {
          "base_uri": "https://localhost:8080/"
        },
        "id": "F5usWrf8DiSo",
        "outputId": "81a5bf97-af2e-4839-ea12-a5a4c6d2424b"
      },
      "source": [
        "tokenizer.sep_token, tokenizer.sep_token_id"
      ],
      "execution_count": null,
      "outputs": [
        {
          "output_type": "execute_result",
          "data": {
            "text/plain": [
              "('[SEP]', 102)"
            ]
          },
          "metadata": {
            "tags": []
          },
          "execution_count": 25
        }
      ]
    },
    {
      "cell_type": "code",
      "metadata": {
        "colab": {
          "base_uri": "https://localhost:8080/"
        },
        "id": "rmabY6gsDna7",
        "outputId": "c961fd14-53c2-4602-de6d-e7f6a2b75f03"
      },
      "source": [
        "tokenizer.cls_token, tokenizer.cls_token_id"
      ],
      "execution_count": null,
      "outputs": [
        {
          "output_type": "execute_result",
          "data": {
            "text/plain": [
              "('[CLS]', 101)"
            ]
          },
          "metadata": {
            "tags": []
          },
          "execution_count": 26
        }
      ]
    },
    {
      "cell_type": "code",
      "metadata": {
        "colab": {
          "base_uri": "https://localhost:8080/"
        },
        "id": "V3n2wW-0Dq3L",
        "outputId": "017e4441-64f4-4954-9074-b61a87ef3cde"
      },
      "source": [
        "tokenizer.pad_token, tokenizer.pad_token_id"
      ],
      "execution_count": null,
      "outputs": [
        {
          "output_type": "execute_result",
          "data": {
            "text/plain": [
              "('[PAD]', 0)"
            ]
          },
          "metadata": {
            "tags": []
          },
          "execution_count": 27
        }
      ]
    },
    {
      "cell_type": "code",
      "metadata": {
        "colab": {
          "base_uri": "https://localhost:8080/"
        },
        "id": "N8ES0-gbDtP6",
        "outputId": "f48c47aa-5a73-4709-a852-6fc16e4cf8cc"
      },
      "source": [
        "tokenizer.unk_token, tokenizer.unk_token_id"
      ],
      "execution_count": null,
      "outputs": [
        {
          "output_type": "execute_result",
          "data": {
            "text/plain": [
              "('[UNK]', 100)"
            ]
          },
          "metadata": {
            "tags": []
          },
          "execution_count": 28
        }
      ]
    },
    {
      "cell_type": "code",
      "metadata": {
        "colab": {
          "base_uri": "https://localhost:8080/"
        },
        "id": "gHEOg4aUDxYH",
        "outputId": "ee7c05ff-e9fb-421a-aaf5-357a4be3bf24"
      },
      "source": [
        "encoding = tokenizer.encode_plus(\n",
        "  sample_txt,\n",
        "  max_length=32,\n",
        "  add_special_tokens=True, # Add '[CLS]' and '[SEP]'\n",
        "  return_token_type_ids=False,\n",
        "  pad_to_max_length=True,\n",
        "  return_attention_mask=True,\n",
        "  return_tensors='pt',  # Return PyTorch tensors\n",
        ")\n",
        "encoding.keys()"
      ],
      "execution_count": null,
      "outputs": [
        {
          "output_type": "stream",
          "text": [
            "Truncation was not explicitly activated but `max_length` is provided a specific value, please use `truncation=True` to explicitly truncate examples to max length. Defaulting to 'longest_first' truncation strategy. If you encode pairs of sequences (GLUE-style) with the tokenizer you can select this strategy more precisely by providing a specific strategy to `truncation`.\n",
            "/usr/local/lib/python3.6/dist-packages/transformers/tokenization_utils_base.py:2022: FutureWarning: The `pad_to_max_length` argument is deprecated and will be removed in a future version, use `padding=True` or `padding='longest'` to pad to the longest sequence in the batch, or use `padding='max_length'` to pad to a max length. In this case, you can give a specific length with `max_length` (e.g. `max_length=45`) or leave max_length to None to pad to the maximal input size of the model (e.g. 512 for Bert).\n",
            "  FutureWarning,\n"
          ],
          "name": "stderr"
        },
        {
          "output_type": "execute_result",
          "data": {
            "text/plain": [
              "dict_keys(['input_ids', 'attention_mask'])"
            ]
          },
          "metadata": {
            "tags": []
          },
          "execution_count": 29
        }
      ]
    },
    {
      "cell_type": "code",
      "metadata": {
        "colab": {
          "base_uri": "https://localhost:8080/"
        },
        "id": "FU89F4aPD1Is",
        "outputId": "da26f07e-97d3-47c3-8a32-58067c272c63"
      },
      "source": [
        "print(len(encoding['input_ids'][0]))\n",
        "encoding['input_ids'][0]"
      ],
      "execution_count": null,
      "outputs": [
        {
          "output_type": "stream",
          "text": [
            "32\n"
          ],
          "name": "stdout"
        },
        {
          "output_type": "execute_result",
          "data": {
            "text/plain": [
              "tensor([ 101, 1332, 1108,  146, 1314, 1796,  136,  146, 1821, 5342, 1120, 1313,\n",
              "        1111,  123, 2277,  119,  102,    0,    0,    0,    0,    0,    0,    0,\n",
              "           0,    0,    0,    0,    0,    0,    0,    0])"
            ]
          },
          "metadata": {
            "tags": []
          },
          "execution_count": 30
        }
      ]
    },
    {
      "cell_type": "code",
      "metadata": {
        "colab": {
          "base_uri": "https://localhost:8080/"
        },
        "id": "yQral-UyEtYG",
        "outputId": "a16bffa5-7479-40d1-98f5-0ec22bac44c2"
      },
      "source": [
        "print(len(encoding['attention_mask'][0]))\n",
        "encoding['attention_mask']"
      ],
      "execution_count": null,
      "outputs": [
        {
          "output_type": "stream",
          "text": [
            "32\n"
          ],
          "name": "stdout"
        },
        {
          "output_type": "execute_result",
          "data": {
            "text/plain": [
              "tensor([[1, 1, 1, 1, 1, 1, 1, 1, 1, 1, 1, 1, 1, 1, 1, 1, 1, 0, 0, 0, 0, 0, 0, 0,\n",
              "         0, 0, 0, 0, 0, 0, 0, 0]])"
            ]
          },
          "metadata": {
            "tags": []
          },
          "execution_count": 31
        }
      ]
    },
    {
      "cell_type": "code",
      "metadata": {
        "colab": {
          "base_uri": "https://localhost:8080/"
        },
        "id": "4d-m-LRrE2KD",
        "outputId": "e78274d7-08ba-4d0c-cfa5-4e8153f581d4"
      },
      "source": [
        "tokenizer.convert_ids_to_tokens(encoding['input_ids'][0])"
      ],
      "execution_count": null,
      "outputs": [
        {
          "output_type": "execute_result",
          "data": {
            "text/plain": [
              "['[CLS]',\n",
              " 'When',\n",
              " 'was',\n",
              " 'I',\n",
              " 'last',\n",
              " 'outside',\n",
              " '?',\n",
              " 'I',\n",
              " 'am',\n",
              " 'stuck',\n",
              " 'at',\n",
              " 'home',\n",
              " 'for',\n",
              " '2',\n",
              " 'weeks',\n",
              " '.',\n",
              " '[SEP]',\n",
              " '[PAD]',\n",
              " '[PAD]',\n",
              " '[PAD]',\n",
              " '[PAD]',\n",
              " '[PAD]',\n",
              " '[PAD]',\n",
              " '[PAD]',\n",
              " '[PAD]',\n",
              " '[PAD]',\n",
              " '[PAD]',\n",
              " '[PAD]',\n",
              " '[PAD]',\n",
              " '[PAD]',\n",
              " '[PAD]',\n",
              " '[PAD]']"
            ]
          },
          "metadata": {
            "tags": []
          },
          "execution_count": 32
        }
      ]
    },
    {
      "cell_type": "code",
      "metadata": {
        "id": "2xpXU8eWE8Dg"
      },
      "source": [
        "token_lens = []\n",
        "for txt in df.content:\n",
        "  tokens = tokenizer.encode(txt, max_length=512)\n",
        "  token_lens.append(len(tokens))"
      ],
      "execution_count": null,
      "outputs": []
    },
    {
      "cell_type": "code",
      "metadata": {
        "colab": {
          "base_uri": "https://localhost:8080/",
          "height": 561
        },
        "id": "Jg7BL0rMFLKz",
        "outputId": "f6552e68-9dff-4e7a-dbc3-0493af84d107"
      },
      "source": [
        "sns.distplot(token_lens)\n",
        "plt.xlim([0, 256]);\n",
        "plt.xlabel('Token count');"
      ],
      "execution_count": null,
      "outputs": [
        {
          "output_type": "stream",
          "text": [
            "/usr/local/lib/python3.6/dist-packages/seaborn/distributions.py:2551: FutureWarning: `distplot` is a deprecated function and will be removed in a future version. Please adapt your code to use either `displot` (a figure-level function with similar flexibility) or `histplot` (an axes-level function for histograms).\n",
            "  warnings.warn(msg, FutureWarning)\n"
          ],
          "name": "stderr"
        },
        {
          "output_type": "display_data",
          "data": {
            "image/png": "[encoded data removed]",
            "text/plain": [
              "<Figure size 864x576 with 1 Axes>"
            ]
          },
          "metadata": {
            "tags": [],
            "image/png": {
              "width": 757,
              "height": 489
            }
          }
        }
      ]
    },
    {
      "cell_type": "code",
      "metadata": {
        "id": "s4SAUIB5FRlu"
      },
      "source": [
        "MAX_LEN = 160"
      ],
      "execution_count": null,
      "outputs": []
    },
    {
      "cell_type": "code",
      "metadata": {
        "id": "spI1ciNkFVGv"
      },
      "source": [
        "class GPReviewDataset(Dataset):\n",
        "  def __init__(self, reviews, targets, tokenizer, max_len):\n",
        "    self.reviews = reviews\n",
        "    self.targets = targets\n",
        "    self.tokenizer = tokenizer\n",
        "    self.max_len = max_len\n",
        "  def __len__(self):\n",
        "    return len(self.reviews)\n",
        "  def __getitem__(self, item):\n",
        "    review = str(self.reviews[item])\n",
        "    target = self.targets[item]\n",
        "    encoding = self.tokenizer.encode_plus(\n",
        "      review,\n",
        "      add_special_tokens=True,\n",
        "      max_length=self.max_len,\n",
        "      return_token_type_ids=False,\n",
        "      pad_to_max_length=True,\n",
        "      return_attention_mask=True,\n",
        "      return_tensors='pt',\n",
        "    )\n",
        "    return {\n",
        "      'review_text': review,\n",
        "      'input_ids': encoding['input_ids'].flatten(),\n",
        "      'attention_mask': encoding['attention_mask'].flatten(),\n",
        "      'targets': torch.tensor(target, dtype=torch.long)\n",
        "    }"
      ],
      "execution_count": null,
      "outputs": []
    },
    {
      "cell_type": "code",
      "metadata": {
        "colab": {
          "base_uri": "https://localhost:8080/"
        },
        "id": "Wth8Nwi6FcJU",
        "outputId": "f7c9f2d8-1f3e-4e29-b908-df22389027bc"
      },
      "source": [
        "df_train, df_test = train_test_split(\n",
        "  df,\n",
        "  test_size=0.1,\n",
        "  random_state=RANDOM_SEED\n",
        ")\n",
        "df_val, df_test = train_test_split(\n",
        "  df_test,\n",
        "  test_size=0.5,\n",
        "  random_state=RANDOM_SEED\n",
        ")\n",
        "df_train.shape, df_val.shape, df_test.shape"
      ],
      "execution_count": null,
      "outputs": [
        {
          "output_type": "execute_result",
          "data": {
            "text/plain": [
              "((14171, 12), (787, 12), (788, 12))"
            ]
          },
          "metadata": {
            "tags": []
          },
          "execution_count": 37
        }
      ]
    },
    {
      "cell_type": "code",
      "metadata": {
        "id": "Qnb4tTExFiMK"
      },
      "source": [
        "def create_data_loader(df, tokenizer, max_len, batch_size):\n",
        "  ds = GPReviewDataset(\n",
        "    reviews=df.content.to_numpy(),\n",
        "    targets=df.sentiment.to_numpy(),\n",
        "    tokenizer=tokenizer,\n",
        "    max_len=max_len\n",
        "  )\n",
        "  return DataLoader(\n",
        "    ds,\n",
        "    batch_size=batch_size,\n",
        "    num_workers=4\n",
        "  )\n",
        "BATCH_SIZE = 16\n",
        "train_data_loader = create_data_loader(df_train, tokenizer, MAX_LEN, BATCH_SIZE)\n",
        "val_data_loader = create_data_loader(df_val, tokenizer, MAX_LEN, BATCH_SIZE)\n",
        "test_data_loader = create_data_loader(df_test, tokenizer, MAX_LEN, BATCH_SIZE)"
      ],
      "execution_count": null,
      "outputs": []
    },
    {
      "cell_type": "code",
      "metadata": {
        "colab": {
          "base_uri": "https://localhost:8080/"
        },
        "id": "KFUucTkIFpQc",
        "outputId": "80e0924f-cfda-4df1-a2a4-53e9e7068ced"
      },
      "source": [
        "data = next(iter(train_data_loader))\n",
        "data.keys()"
      ],
      "execution_count": null,
      "outputs": [
        {
          "output_type": "stream",
          "text": [
            "/usr/local/lib/python3.6/dist-packages/transformers/tokenization_utils_base.py:2022: FutureWarning: The `pad_to_max_length` argument is deprecated and will be removed in a future version, use `padding=True` or `padding='longest'` to pad to the longest sequence in the batch, or use `padding='max_length'` to pad to a max length. In this case, you can give a specific length with `max_length` (e.g. `max_length=45`) or leave max_length to None to pad to the maximal input size of the model (e.g. 512 for Bert).\n",
            "  FutureWarning,\n",
            "/usr/local/lib/python3.6/dist-packages/transformers/tokenization_utils_base.py:2022: FutureWarning: The `pad_to_max_length` argument is deprecated and will be removed in a future version, use `padding=True` or `padding='longest'` to pad to the longest sequence in the batch, or use `padding='max_length'` to pad to a max length. In this case, you can give a specific length with `max_length` (e.g. `max_length=45`) or leave max_length to None to pad to the maximal input size of the model (e.g. 512 for Bert).\n",
            "  FutureWarning,\n",
            "/usr/local/lib/python3.6/dist-packages/transformers/tokenization_utils_base.py:2022: FutureWarning: The `pad_to_max_length` argument is deprecated and will be removed in a future version, use `padding=True` or `padding='longest'` to pad to the longest sequence in the batch, or use `padding='max_length'` to pad to a max length. In this case, you can give a specific length with `max_length` (e.g. `max_length=45`) or leave max_length to None to pad to the maximal input size of the model (e.g. 512 for Bert).\n",
            "  FutureWarning,\n",
            "/usr/local/lib/python3.6/dist-packages/transformers/tokenization_utils_base.py:2022: FutureWarning: The `pad_to_max_length` argument is deprecated and will be removed in a future version, use `padding=True` or `padding='longest'` to pad to the longest sequence in the batch, or use `padding='max_length'` to pad to a max length. In this case, you can give a specific length with `max_length` (e.g. `max_length=45`) or leave max_length to None to pad to the maximal input size of the model (e.g. 512 for Bert).\n",
            "  FutureWarning,\n"
          ],
          "name": "stderr"
        },
        {
          "output_type": "execute_result",
          "data": {
            "text/plain": [
              "dict_keys(['review_text', 'input_ids', 'attention_mask', 'targets'])"
            ]
          },
          "metadata": {
            "tags": []
          },
          "execution_count": 40
        }
      ]
    },
    {
      "cell_type": "code",
      "metadata": {
        "colab": {
          "base_uri": "https://localhost:8080/"
        },
        "id": "SO1Mch0RFxdP",
        "outputId": "3083ef5a-7164-4efa-a9c0-a4713aca489f"
      },
      "source": [
        "print(data['input_ids'].shape)\n",
        "print(data['attention_mask'].shape)\n",
        "print(data['targets'].shape)"
      ],
      "execution_count": null,
      "outputs": [
        {
          "output_type": "stream",
          "text": [
            "torch.Size([16, 160])\n",
            "torch.Size([16, 160])\n",
            "torch.Size([16])\n"
          ],
          "name": "stdout"
        }
      ]
    },
    {
      "cell_type": "code",
      "metadata": {
        "colab": {
          "base_uri": "https://localhost:8080/",
          "height": 116,
          "referenced_widgets": [
            "ce2bbe55fb3c413c93d270fc5495cb34",
            "969ba0b473ff4cbcb08eb14c75b88265",
            "07b886b43b4d4571aee7c19067f23f0d",
            "2e202263a86746e2b5f86c1c3c807717",
            "eca7078b013547668b7332f8f9d819e7",
            "8430eb269ae248cca93ca4589edd2b36",
            "c6be3037b0044d598899a2218505a571",
            "0285252ab826413fbb481e41c974cdfb",
            "aa1516abcbc14305b031243efecdaacf",
            "963402e573d7473b9bae32089d67ba66",
            "a1946938894b43c19bb17bbdaf7a5682",
            "f5a22e0c480e4b42ae25d3bb9a71e002",
            "92c9887ee11e4ccba0e87e0aa65b989b",
            "92dfb095869e478f9afc65d4d5cca8fd",
            "de54c7704bcc45d1853ffe9649b86e0a",
            "8c59deea799e4b4a80287e8cc2f0b8b2"
          ]
        },
        "id": "VpuilAZ1F3ai",
        "outputId": "b962b1a4-f048-4a66-d8c6-efc9c68d6b1d"
      },
      "source": [
        "bert_model = BertModel.from_pretrained(PRE_TRAINED_MODEL_NAME)"
      ],
      "execution_count": null,
      "outputs": [
        {
          "output_type": "display_data",
          "data": {
            "application/vnd.jupyter.widget-view+json": {
              "model_id": "ce2bbe55fb3c413c93d270fc5495cb34",
              "version_minor": 0,
              "version_major": 2
            },
            "text/plain": [
              "HBox(children=(FloatProgress(value=0.0, description='Downloading', max=433.0, style=ProgressStyle(description_…"
            ]
          },
          "metadata": {
            "tags": []
          }
        },
        {
          "output_type": "stream",
          "text": [
            "\n"
          ],
          "name": "stdout"
        },
        {
          "output_type": "display_data",
          "data": {
            "application/vnd.jupyter.widget-view+json": {
              "model_id": "aa1516abcbc14305b031243efecdaacf",
              "version_minor": 0,
              "version_major": 2
            },
            "text/plain": [
              "HBox(children=(FloatProgress(value=0.0, description='Downloading', max=435779157.0, style=ProgressStyle(descri…"
            ]
          },
          "metadata": {
            "tags": []
          }
        },
        {
          "output_type": "stream",
          "text": [
            "\n"
          ],
          "name": "stdout"
        }
      ]
    },
    {
      "cell_type": "code",
      "metadata": {
        "id": "6mdQrtrOF9vO"
      },
      "source": [
        "last_hidden_state, pooled_output = bert_model(\n",
        "  input_ids=encoding['input_ids'],\n",
        "  attention_mask=encoding['attention_mask']\n",
        ")"
      ],
      "execution_count": null,
      "outputs": []
    },
    {
      "cell_type": "code",
      "metadata": {
        "colab": {
          "base_uri": "https://localhost:8080/"
        },
        "id": "gySd_gwnGNFq",
        "outputId": "b5edab43-99d8-4805-bb52-c2002e847207"
      },
      "source": [
        "last_hidden_state.shape"
      ],
      "execution_count": null,
      "outputs": [
        {
          "output_type": "execute_result",
          "data": {
            "text/plain": [
              "torch.Size([1, 32, 768])"
            ]
          },
          "metadata": {
            "tags": []
          },
          "execution_count": 45
        }
      ]
    },
    {
      "cell_type": "code",
      "metadata": {
        "colab": {
          "base_uri": "https://localhost:8080/"
        },
        "id": "fEBHtqULGUpc",
        "outputId": "74407ba3-e5c4-4c61-a779-6fe60fb88cc1"
      },
      "source": [
        "bert_model.config.hidden_size"
      ],
      "execution_count": null,
      "outputs": [
        {
          "output_type": "execute_result",
          "data": {
            "text/plain": [
              "768"
            ]
          },
          "metadata": {
            "tags": []
          },
          "execution_count": 46
        }
      ]
    },
    {
      "cell_type": "code",
      "metadata": {
        "colab": {
          "base_uri": "https://localhost:8080/"
        },
        "id": "yIAqjl1HGXQ_",
        "outputId": "b034922e-7623-4e31-fe67-9e65f8192aea"
      },
      "source": [
        "pooled_output.shape"
      ],
      "execution_count": null,
      "outputs": [
        {
          "output_type": "execute_result",
          "data": {
            "text/plain": [
              "torch.Size([1, 768])"
            ]
          },
          "metadata": {
            "tags": []
          },
          "execution_count": 47
        }
      ]
    },
    {
      "cell_type": "code",
      "metadata": {
        "id": "_bGof5XZGsGN"
      },
      "source": [
        "class SentimentClassifier(nn.Module):\n",
        "  def __init__(self, n_classes):\n",
        "    super(SentimentClassifier, self).__init__()\n",
        "    self.bert = BertModel.from_pretrained(PRE_TRAINED_MODEL_NAME)\n",
        "    self.drop = nn.Dropout(p=0.3)\n",
        "    self.out = nn.Linear(self.bert.config.hidden_size, n_classes)\n",
        "  def forward(self, input_ids, attention_mask):\n",
        "    _, pooled_output = self.bert(\n",
        "      input_ids=input_ids,\n",
        "      attention_mask=attention_mask\n",
        "    )\n",
        "    output = self.drop(pooled_output)\n",
        "    return self.out(output)"
      ],
      "execution_count": null,
      "outputs": []
    },
    {
      "cell_type": "code",
      "metadata": {
        "id": "WUbR3zsQJKHA"
      },
      "source": [
        "model = SentimentClassifier(len(class_names))\n",
        "model = model.to(device)"
      ],
      "execution_count": null,
      "outputs": []
    },
    {
      "cell_type": "code",
      "metadata": {
        "colab": {
          "base_uri": "https://localhost:8080/"
        },
        "id": "BRE1jsfLJaAY",
        "outputId": "b8c54f0e-fb52-4579-dabb-2a163f5f6386"
      },
      "source": [
        "input_ids = data['input_ids'].to(device)\n",
        "attention_mask = data['attention_mask'].to(device)\n",
        "print(input_ids.shape) # batch size x seq length\n",
        "print(attention_mask.shape) # batch size x seq length"
      ],
      "execution_count": null,
      "outputs": [
        {
          "output_type": "stream",
          "text": [
            "torch.Size([16, 160])\n",
            "torch.Size([16, 160])\n"
          ],
          "name": "stdout"
        }
      ]
    },
    {
      "cell_type": "code",
      "metadata": {
        "colab": {
          "base_uri": "https://localhost:8080/"
        },
        "id": "ERlbCpC-JdVX",
        "outputId": "5d0d1588-af09-499d-c3a8-37af857456ca"
      },
      "source": [
        "import torch.nn.functional as F\n",
        "F.softmax(model(input_ids, attention_mask), dim=1)"
      ],
      "execution_count": null,
      "outputs": [
        {
          "output_type": "execute_result",
          "data": {
            "text/plain": [
              "tensor([[0.1209, 0.2370, 0.6421],\n",
              "        [0.1796, 0.3220, 0.4985],\n",
              "        [0.1311, 0.4988, 0.3701],\n",
              "        [0.1962, 0.2842, 0.5196],\n",
              "        [0.1836, 0.3959, 0.4205],\n",
              "        [0.1102, 0.3637, 0.5262],\n",
              "        [0.1850, 0.3714, 0.4436],\n",
              "        [0.1658, 0.3876, 0.4466],\n",
              "        [0.1855, 0.2786, 0.5359],\n",
              "        [0.1424, 0.4417, 0.4160],\n",
              "        [0.1150, 0.2308, 0.6542],\n",
              "        [0.1147, 0.4301, 0.4552],\n",
              "        [0.1572, 0.3286, 0.5142],\n",
              "        [0.1560, 0.2854, 0.5586],\n",
              "        [0.2323, 0.3513, 0.4165],\n",
              "        [0.1611, 0.4857, 0.3532]], device='cuda:0', grad_fn=<SoftmaxBackward>)"
            ]
          },
          "metadata": {
            "tags": []
          },
          "execution_count": 53
        }
      ]
    },
    {
      "cell_type": "code",
      "metadata": {
        "id": "3FHsxUZUJf75"
      },
      "source": [
        "EPOCHS = 10\n",
        "optimizer = AdamW(model.parameters(), lr=2e-5, correct_bias=False)\n",
        "total_steps = len(train_data_loader) * EPOCHS\n",
        "scheduler = get_linear_schedule_with_warmup(\n",
        "  optimizer,\n",
        "  num_warmup_steps=0,\n",
        "  num_training_steps=total_steps\n",
        ")\n",
        "loss_fn = nn.CrossEntropyLoss().to(device)"
      ],
      "execution_count": null,
      "outputs": []
    },
    {
      "cell_type": "markdown",
      "metadata": {
        "id": "THvqwSqaKB1o"
      },
      "source": [
        "How do we come up with all hyperparameters? The BERT authors have some recommendations for fine-tuning:\n",
        "\n",
        "Batch size: 16, 32\n",
        "Learning rate (Adam): 5e-5, 3e-5, 2e-5\n",
        "Number of epochs: 2, 3, 4\n",
        "We’re going to ignore the number of epochs recommendation but stick with the rest. Note that increasing the batch size reduces the training time significantly, but gives you lower accuracy.\n",
        "\n",
        "Let’s continue with writing a helper function for training our model for one epoch:"
      ]
    },
    {
      "cell_type": "code",
      "metadata": {
        "id": "88-Hb5DTJ0KJ"
      },
      "source": [
        "def train_epoch(\n",
        "  model,\n",
        "  data_loader,\n",
        "  loss_fn,\n",
        "  optimizer,\n",
        "  device,\n",
        "  scheduler,\n",
        "  n_examples\n",
        "):\n",
        "  model = model.train()\n",
        "  losses = []\n",
        "  correct_predictions = 0\n",
        "  for d in data_loader:\n",
        "    input_ids = d[\"input_ids\"].to(device)\n",
        "    attention_mask = d[\"attention_mask\"].to(device)\n",
        "    targets = d[\"targets\"].to(device)\n",
        "    outputs = model(\n",
        "      input_ids=input_ids,\n",
        "      attention_mask=attention_mask\n",
        "    )\n",
        "    _, preds = torch.max(outputs, dim=1)\n",
        "    loss = loss_fn(outputs, targets)\n",
        "    correct_predictions += torch.sum(preds == targets)\n",
        "    losses.append(loss.item())\n",
        "    loss.backward()\n",
        "    nn.utils.clip_grad_norm_(model.parameters(), max_norm=1.0)\n",
        "    optimizer.step()\n",
        "    scheduler.step()\n",
        "    optimizer.zero_grad()\n",
        "  return correct_predictions.double() / n_examples, np.mean(losses)"
      ],
      "execution_count": null,
      "outputs": []
    },
    {
      "cell_type": "markdown",
      "metadata": {
        "id": "vQBd6J4ZKSBu"
      },
      "source": [
        "Training the model should look familiar, except for two things. The scheduler gets called every time a batch is fed to the model. We’re avoiding exploding gradients by clipping the gradients of the model using clipgrad_norm.\n",
        "\n",
        "Let’s write another one that helps us evaluate the model on a given data loader:"
      ]
    },
    {
      "cell_type": "code",
      "metadata": {
        "id": "0eaH0lkOKMN5"
      },
      "source": [
        "def eval_model(model, data_loader, loss_fn, device, n_examples):\n",
        "  model = model.eval()\n",
        "  losses = []\n",
        "  correct_predictions = 0\n",
        "  with torch.no_grad():\n",
        "    for d in data_loader:\n",
        "      input_ids = d[\"input_ids\"].to(device)\n",
        "      attention_mask = d[\"attention_mask\"].to(device)\n",
        "      targets = d[\"targets\"].to(device)\n",
        "      outputs = model(\n",
        "        input_ids=input_ids,\n",
        "        attention_mask=attention_mask\n",
        "      )\n",
        "      _, preds = torch.max(outputs, dim=1)\n",
        "      loss = loss_fn(outputs, targets)\n",
        "      correct_predictions += torch.sum(preds == targets)\n",
        "      losses.append(loss.item())\n",
        "  return correct_predictions.double() / n_examples, np.mean(losses)"
      ],
      "execution_count": null,
      "outputs": []
    },
    {
      "cell_type": "code",
      "metadata": {
        "colab": {
          "base_uri": "https://localhost:8080/"
        },
        "id": "j3GgoUHTKXDh",
        "outputId": "31af488c-d685-4d0b-f054-4e11f6c5390f"
      },
      "source": [
        "%%time\n",
        "history = defaultdict(list)\n",
        "best_accuracy = 0\n",
        "for epoch in range(EPOCHS):\n",
        "  print(f'Epoch {epoch + 1}/{EPOCHS}')\n",
        "  print('-' * 10)\n",
        "  train_acc, train_loss = train_epoch(\n",
        "    model,\n",
        "    train_data_loader,\n",
        "    loss_fn,\n",
        "    optimizer,\n",
        "    device,\n",
        "    scheduler,\n",
        "    len(df_train)\n",
        "  )\n",
        "  print(f'Train loss {train_loss} accuracy {train_acc}')\n",
        "  val_acc, val_loss = eval_model(\n",
        "    model,\n",
        "    val_data_loader,\n",
        "    loss_fn,\n",
        "    device,\n",
        "    len(df_val)\n",
        "  )\n",
        "  print(f'Val   loss {val_loss} accuracy {val_acc}')\n",
        "  print()\n",
        "  history['train_acc'].append(train_acc)\n",
        "  history['train_loss'].append(train_loss)\n",
        "  history['val_acc'].append(val_acc)\n",
        "  history['val_loss'].append(val_loss)\n",
        "  if val_acc > best_accuracy:\n",
        "    torch.save(model.state_dict(), 'best_model_state.bin')\n",
        "    best_accuracy = val_acc"
      ],
      "execution_count": null,
      "outputs": [
        {
          "output_type": "stream",
          "text": [
            "Epoch 1/10\n",
            "----------\n"
          ],
          "name": "stdout"
        },
        {
          "output_type": "stream",
          "text": [
            "/usr/local/lib/python3.6/dist-packages/transformers/tokenization_utils_base.py:2022: FutureWarning: The `pad_to_max_length` argument is deprecated and will be removed in a future version, use `padding=True` or `padding='longest'` to pad to the longest sequence in the batch, or use `padding='max_length'` to pad to a max length. In this case, you can give a specific length with `max_length` (e.g. `max_length=45`) or leave max_length to None to pad to the maximal input size of the model (e.g. 512 for Bert).\n",
            "  FutureWarning,\n",
            "/usr/local/lib/python3.6/dist-packages/transformers/tokenization_utils_base.py:2022: FutureWarning: The `pad_to_max_length` argument is deprecated and will be removed in a future version, use `padding=True` or `padding='longest'` to pad to the longest sequence in the batch, or use `padding='max_length'` to pad to a max length. In this case, you can give a specific length with `max_length` (e.g. `max_length=45`) or leave max_length to None to pad to the maximal input size of the model (e.g. 512 for Bert).\n",
            "  FutureWarning,\n",
            "/usr/local/lib/python3.6/dist-packages/transformers/tokenization_utils_base.py:2022: FutureWarning: The `pad_to_max_length` argument is deprecated and will be removed in a future version, use `padding=True` or `padding='longest'` to pad to the longest sequence in the batch, or use `padding='max_length'` to pad to a max length. In this case, you can give a specific length with `max_length` (e.g. `max_length=45`) or leave max_length to None to pad to the maximal input size of the model (e.g. 512 for Bert).\n",
            "  FutureWarning,\n",
            "/usr/local/lib/python3.6/dist-packages/transformers/tokenization_utils_base.py:2022: FutureWarning: The `pad_to_max_length` argument is deprecated and will be removed in a future version, use `padding=True` or `padding='longest'` to pad to the longest sequence in the batch, or use `padding='max_length'` to pad to a max length. In this case, you can give a specific length with `max_length` (e.g. `max_length=45`) or leave max_length to None to pad to the maximal input size of the model (e.g. 512 for Bert).\n",
            "  FutureWarning,\n"
          ],
          "name": "stderr"
        },
        {
          "output_type": "stream",
          "text": [
            "Train loss 0.7377033101953987 accuracy 0.6689718439065698\n"
          ],
          "name": "stdout"
        },
        {
          "output_type": "stream",
          "text": [
            "/usr/local/lib/python3.6/dist-packages/transformers/tokenization_utils_base.py:2022: FutureWarning: The `pad_to_max_length` argument is deprecated and will be removed in a future version, use `padding=True` or `padding='longest'` to pad to the longest sequence in the batch, or use `padding='max_length'` to pad to a max length. In this case, you can give a specific length with `max_length` (e.g. `max_length=45`) or leave max_length to None to pad to the maximal input size of the model (e.g. 512 for Bert).\n",
            "  FutureWarning,\n",
            "/usr/local/lib/python3.6/dist-packages/transformers/tokenization_utils_base.py:2022: FutureWarning: The `pad_to_max_length` argument is deprecated and will be removed in a future version, use `padding=True` or `padding='longest'` to pad to the longest sequence in the batch, or use `padding='max_length'` to pad to a max length. In this case, you can give a specific length with `max_length` (e.g. `max_length=45`) or leave max_length to None to pad to the maximal input size of the model (e.g. 512 for Bert).\n",
            "  FutureWarning,\n",
            "/usr/local/lib/python3.6/dist-packages/transformers/tokenization_utils_base.py:2022: FutureWarning: The `pad_to_max_length` argument is deprecated and will be removed in a future version, use `padding=True` or `padding='longest'` to pad to the longest sequence in the batch, or use `padding='max_length'` to pad to a max length. In this case, you can give a specific length with `max_length` (e.g. `max_length=45`) or leave max_length to None to pad to the maximal input size of the model (e.g. 512 for Bert).\n",
            "  FutureWarning,\n",
            "/usr/local/lib/python3.6/dist-packages/transformers/tokenization_utils_base.py:2022: FutureWarning: The `pad_to_max_length` argument is deprecated and will be removed in a future version, use `padding=True` or `padding='longest'` to pad to the longest sequence in the batch, or use `padding='max_length'` to pad to a max length. In this case, you can give a specific length with `max_length` (e.g. `max_length=45`) or leave max_length to None to pad to the maximal input size of the model (e.g. 512 for Bert).\n",
            "  FutureWarning,\n"
          ],
          "name": "stderr"
        },
        {
          "output_type": "stream",
          "text": [
            "Val   loss 0.5974904644489288 accuracy 0.7623888182973316\n",
            "\n",
            "Epoch 2/10\n",
            "----------\n"
          ],
          "name": "stdout"
        },
        {
          "output_type": "stream",
          "text": [
            "/usr/local/lib/python3.6/dist-packages/transformers/tokenization_utils_base.py:2022: FutureWarning: The `pad_to_max_length` argument is deprecated and will be removed in a future version, use `padding=True` or `padding='longest'` to pad to the longest sequence in the batch, or use `padding='max_length'` to pad to a max length. In this case, you can give a specific length with `max_length` (e.g. `max_length=45`) or leave max_length to None to pad to the maximal input size of the model (e.g. 512 for Bert).\n",
            "  FutureWarning,\n",
            "/usr/local/lib/python3.6/dist-packages/transformers/tokenization_utils_base.py:2022: FutureWarning: The `pad_to_max_length` argument is deprecated and will be removed in a future version, use `padding=True` or `padding='longest'` to pad to the longest sequence in the batch, or use `padding='max_length'` to pad to a max length. In this case, you can give a specific length with `max_length` (e.g. `max_length=45`) or leave max_length to None to pad to the maximal input size of the model (e.g. 512 for Bert).\n",
            "  FutureWarning,\n",
            "/usr/local/lib/python3.6/dist-packages/transformers/tokenization_utils_base.py:2022: FutureWarning: The `pad_to_max_length` argument is deprecated and will be removed in a future version, use `padding=True` or `padding='longest'` to pad to the longest sequence in the batch, or use `padding='max_length'` to pad to a max length. In this case, you can give a specific length with `max_length` (e.g. `max_length=45`) or leave max_length to None to pad to the maximal input size of the model (e.g. 512 for Bert).\n",
            "  FutureWarning,\n",
            "/usr/local/lib/python3.6/dist-packages/transformers/tokenization_utils_base.py:2022: FutureWarning: The `pad_to_max_length` argument is deprecated and will be removed in a future version, use `padding=True` or `padding='longest'` to pad to the longest sequence in the batch, or use `padding='max_length'` to pad to a max length. In this case, you can give a specific length with `max_length` (e.g. `max_length=45`) or leave max_length to None to pad to the maximal input size of the model (e.g. 512 for Bert).\n",
            "  FutureWarning,\n"
          ],
          "name": "stderr"
        },
        {
          "output_type": "stream",
          "text": [
            "Train loss 0.41891904240873545 accuracy 0.8387552042904524\n"
          ],
          "name": "stdout"
        },
        {
          "output_type": "stream",
          "text": [
            "/usr/local/lib/python3.6/dist-packages/transformers/tokenization_utils_base.py:2022: FutureWarning: The `pad_to_max_length` argument is deprecated and will be removed in a future version, use `padding=True` or `padding='longest'` to pad to the longest sequence in the batch, or use `padding='max_length'` to pad to a max length. In this case, you can give a specific length with `max_length` (e.g. `max_length=45`) or leave max_length to None to pad to the maximal input size of the model (e.g. 512 for Bert).\n",
            "  FutureWarning,\n",
            "/usr/local/lib/python3.6/dist-packages/transformers/tokenization_utils_base.py:2022: FutureWarning: The `pad_to_max_length` argument is deprecated and will be removed in a future version, use `padding=True` or `padding='longest'` to pad to the longest sequence in the batch, or use `padding='max_length'` to pad to a max length. In this case, you can give a specific length with `max_length` (e.g. `max_length=45`) or leave max_length to None to pad to the maximal input size of the model (e.g. 512 for Bert).\n",
            "  FutureWarning,\n",
            "/usr/local/lib/python3.6/dist-packages/transformers/tokenization_utils_base.py:2022: FutureWarning: The `pad_to_max_length` argument is deprecated and will be removed in a future version, use `padding=True` or `padding='longest'` to pad to the longest sequence in the batch, or use `padding='max_length'` to pad to a max length. In this case, you can give a specific length with `max_length` (e.g. `max_length=45`) or leave max_length to None to pad to the maximal input size of the model (e.g. 512 for Bert).\n",
            "  FutureWarning,\n",
            "/usr/local/lib/python3.6/dist-packages/transformers/tokenization_utils_base.py:2022: FutureWarning: The `pad_to_max_length` argument is deprecated and will be removed in a future version, use `padding=True` or `padding='longest'` to pad to the longest sequence in the batch, or use `padding='max_length'` to pad to a max length. In this case, you can give a specific length with `max_length` (e.g. `max_length=45`) or leave max_length to None to pad to the maximal input size of the model (e.g. 512 for Bert).\n",
            "  FutureWarning,\n"
          ],
          "name": "stderr"
        },
        {
          "output_type": "stream",
          "text": [
            "Val   loss 0.524997350126505 accuracy 0.841168996188056\n",
            "\n",
            "Epoch 3/10\n",
            "----------\n"
          ],
          "name": "stdout"
        },
        {
          "output_type": "stream",
          "text": [
            "/usr/local/lib/python3.6/dist-packages/transformers/tokenization_utils_base.py:2022: FutureWarning: The `pad_to_max_length` argument is deprecated and will be removed in a future version, use `padding=True` or `padding='longest'` to pad to the longest sequence in the batch, or use `padding='max_length'` to pad to a max length. In this case, you can give a specific length with `max_length` (e.g. `max_length=45`) or leave max_length to None to pad to the maximal input size of the model (e.g. 512 for Bert).\n",
            "  FutureWarning,\n",
            "/usr/local/lib/python3.6/dist-packages/transformers/tokenization_utils_base.py:2022: FutureWarning: The `pad_to_max_length` argument is deprecated and will be removed in a future version, use `padding=True` or `padding='longest'` to pad to the longest sequence in the batch, or use `padding='max_length'` to pad to a max length. In this case, you can give a specific length with `max_length` (e.g. `max_length=45`) or leave max_length to None to pad to the maximal input size of the model (e.g. 512 for Bert).\n",
            "  FutureWarning,\n",
            "/usr/local/lib/python3.6/dist-packages/transformers/tokenization_utils_base.py:2022: FutureWarning: The `pad_to_max_length` argument is deprecated and will be removed in a future version, use `padding=True` or `padding='longest'` to pad to the longest sequence in the batch, or use `padding='max_length'` to pad to a max length. In this case, you can give a specific length with `max_length` (e.g. `max_length=45`) or leave max_length to None to pad to the maximal input size of the model (e.g. 512 for Bert).\n",
            "  FutureWarning,\n",
            "/usr/local/lib/python3.6/dist-packages/transformers/tokenization_utils_base.py:2022: FutureWarning: The `pad_to_max_length` argument is deprecated and will be removed in a future version, use `padding=True` or `padding='longest'` to pad to the longest sequence in the batch, or use `padding='max_length'` to pad to a max length. In this case, you can give a specific length with `max_length` (e.g. `max_length=45`) or leave max_length to None to pad to the maximal input size of the model (e.g. 512 for Bert).\n",
            "  FutureWarning,\n"
          ],
          "name": "stderr"
        },
        {
          "output_type": "stream",
          "text": [
            "Train loss 0.2359056356163279 accuracy 0.923223484581187\n"
          ],
          "name": "stdout"
        },
        {
          "output_type": "stream",
          "text": [
            "/usr/local/lib/python3.6/dist-packages/transformers/tokenization_utils_base.py:2022: FutureWarning: The `pad_to_max_length` argument is deprecated and will be removed in a future version, use `padding=True` or `padding='longest'` to pad to the longest sequence in the batch, or use `padding='max_length'` to pad to a max length. In this case, you can give a specific length with `max_length` (e.g. `max_length=45`) or leave max_length to None to pad to the maximal input size of the model (e.g. 512 for Bert).\n",
            "  FutureWarning,\n",
            "/usr/local/lib/python3.6/dist-packages/transformers/tokenization_utils_base.py:2022: FutureWarning: The `pad_to_max_length` argument is deprecated and will be removed in a future version, use `padding=True` or `padding='longest'` to pad to the longest sequence in the batch, or use `padding='max_length'` to pad to a max length. In this case, you can give a specific length with `max_length` (e.g. `max_length=45`) or leave max_length to None to pad to the maximal input size of the model (e.g. 512 for Bert).\n",
            "  FutureWarning,\n",
            "/usr/local/lib/python3.6/dist-packages/transformers/tokenization_utils_base.py:2022: FutureWarning: The `pad_to_max_length` argument is deprecated and will be removed in a future version, use `padding=True` or `padding='longest'` to pad to the longest sequence in the batch, or use `padding='max_length'` to pad to a max length. In this case, you can give a specific length with `max_length` (e.g. `max_length=45`) or leave max_length to None to pad to the maximal input size of the model (e.g. 512 for Bert).\n",
            "  FutureWarning,\n",
            "/usr/local/lib/python3.6/dist-packages/transformers/tokenization_utils_base.py:2022: FutureWarning: The `pad_to_max_length` argument is deprecated and will be removed in a future version, use `padding=True` or `padding='longest'` to pad to the longest sequence in the batch, or use `padding='max_length'` to pad to a max length. In this case, you can give a specific length with `max_length` (e.g. `max_length=45`) or leave max_length to None to pad to the maximal input size of the model (e.g. 512 for Bert).\n",
            "  FutureWarning,\n"
          ],
          "name": "stderr"
        },
        {
          "output_type": "stream",
          "text": [
            "Val   loss 0.6244519612006844 accuracy 0.8614993646759848\n",
            "\n",
            "Epoch 4/10\n",
            "----------\n"
          ],
          "name": "stdout"
        },
        {
          "output_type": "stream",
          "text": [
            "/usr/local/lib/python3.6/dist-packages/transformers/tokenization_utils_base.py:2022: FutureWarning: The `pad_to_max_length` argument is deprecated and will be removed in a future version, use `padding=True` or `padding='longest'` to pad to the longest sequence in the batch, or use `padding='max_length'` to pad to a max length. In this case, you can give a specific length with `max_length` (e.g. `max_length=45`) or leave max_length to None to pad to the maximal input size of the model (e.g. 512 for Bert).\n",
            "  FutureWarning,\n",
            "/usr/local/lib/python3.6/dist-packages/transformers/tokenization_utils_base.py:2022: FutureWarning: The `pad_to_max_length` argument is deprecated and will be removed in a future version, use `padding=True` or `padding='longest'` to pad to the longest sequence in the batch, or use `padding='max_length'` to pad to a max length. In this case, you can give a specific length with `max_length` (e.g. `max_length=45`) or leave max_length to None to pad to the maximal input size of the model (e.g. 512 for Bert).\n",
            "  FutureWarning,\n",
            "/usr/local/lib/python3.6/dist-packages/transformers/tokenization_utils_base.py:2022: FutureWarning: The `pad_to_max_length` argument is deprecated and will be removed in a future version, use `padding=True` or `padding='longest'` to pad to the longest sequence in the batch, or use `padding='max_length'` to pad to a max length. In this case, you can give a specific length with `max_length` (e.g. `max_length=45`) or leave max_length to None to pad to the maximal input size of the model (e.g. 512 for Bert).\n",
            "  FutureWarning,\n",
            "/usr/local/lib/python3.6/dist-packages/transformers/tokenization_utils_base.py:2022: FutureWarning: The `pad_to_max_length` argument is deprecated and will be removed in a future version, use `padding=True` or `padding='longest'` to pad to the longest sequence in the batch, or use `padding='max_length'` to pad to a max length. In this case, you can give a specific length with `max_length` (e.g. `max_length=45`) or leave max_length to None to pad to the maximal input size of the model (e.g. 512 for Bert).\n",
            "  FutureWarning,\n"
          ],
          "name": "stderr"
        },
        {
          "output_type": "stream",
          "text": [
            "Train loss 0.15564793750470815 accuracy 0.955190177122292\n"
          ],
          "name": "stdout"
        },
        {
          "output_type": "stream",
          "text": [
            "/usr/local/lib/python3.6/dist-packages/transformers/tokenization_utils_base.py:2022: FutureWarning: The `pad_to_max_length` argument is deprecated and will be removed in a future version, use `padding=True` or `padding='longest'` to pad to the longest sequence in the batch, or use `padding='max_length'` to pad to a max length. In this case, you can give a specific length with `max_length` (e.g. `max_length=45`) or leave max_length to None to pad to the maximal input size of the model (e.g. 512 for Bert).\n",
            "  FutureWarning,\n",
            "/usr/local/lib/python3.6/dist-packages/transformers/tokenization_utils_base.py:2022: FutureWarning: The `pad_to_max_length` argument is deprecated and will be removed in a future version, use `padding=True` or `padding='longest'` to pad to the longest sequence in the batch, or use `padding='max_length'` to pad to a max length. In this case, you can give a specific length with `max_length` (e.g. `max_length=45`) or leave max_length to None to pad to the maximal input size of the model (e.g. 512 for Bert).\n",
            "  FutureWarning,\n",
            "/usr/local/lib/python3.6/dist-packages/transformers/tokenization_utils_base.py:2022: FutureWarning: The `pad_to_max_length` argument is deprecated and will be removed in a future version, use `padding=True` or `padding='longest'` to pad to the longest sequence in the batch, or use `padding='max_length'` to pad to a max length. In this case, you can give a specific length with `max_length` (e.g. `max_length=45`) or leave max_length to None to pad to the maximal input size of the model (e.g. 512 for Bert).\n",
            "  FutureWarning,\n",
            "/usr/local/lib/python3.6/dist-packages/transformers/tokenization_utils_base.py:2022: FutureWarning: The `pad_to_max_length` argument is deprecated and will be removed in a future version, use `padding=True` or `padding='longest'` to pad to the longest sequence in the batch, or use `padding='max_length'` to pad to a max length. In this case, you can give a specific length with `max_length` (e.g. `max_length=45`) or leave max_length to None to pad to the maximal input size of the model (e.g. 512 for Bert).\n",
            "  FutureWarning,\n"
          ],
          "name": "stderr"
        },
        {
          "output_type": "stream",
          "text": [
            "Val   loss 0.7200255098636262 accuracy 0.8703939008894537\n",
            "\n",
            "Epoch 5/10\n",
            "----------\n"
          ],
          "name": "stdout"
        },
        {
          "output_type": "stream",
          "text": [
            "/usr/local/lib/python3.6/dist-packages/transformers/tokenization_utils_base.py:2022: FutureWarning: The `pad_to_max_length` argument is deprecated and will be removed in a future version, use `padding=True` or `padding='longest'` to pad to the longest sequence in the batch, or use `padding='max_length'` to pad to a max length. In this case, you can give a specific length with `max_length` (e.g. `max_length=45`) or leave max_length to None to pad to the maximal input size of the model (e.g. 512 for Bert).\n",
            "  FutureWarning,\n",
            "/usr/local/lib/python3.6/dist-packages/transformers/tokenization_utils_base.py:2022: FutureWarning: The `pad_to_max_length` argument is deprecated and will be removed in a future version, use `padding=True` or `padding='longest'` to pad to the longest sequence in the batch, or use `padding='max_length'` to pad to a max length. In this case, you can give a specific length with `max_length` (e.g. `max_length=45`) or leave max_length to None to pad to the maximal input size of the model (e.g. 512 for Bert).\n",
            "  FutureWarning,\n",
            "/usr/local/lib/python3.6/dist-packages/transformers/tokenization_utils_base.py:2022: FutureWarning: The `pad_to_max_length` argument is deprecated and will be removed in a future version, use `padding=True` or `padding='longest'` to pad to the longest sequence in the batch, or use `padding='max_length'` to pad to a max length. In this case, you can give a specific length with `max_length` (e.g. `max_length=45`) or leave max_length to None to pad to the maximal input size of the model (e.g. 512 for Bert).\n",
            "  FutureWarning,\n",
            "/usr/local/lib/python3.6/dist-packages/transformers/tokenization_utils_base.py:2022: FutureWarning: The `pad_to_max_length` argument is deprecated and will be removed in a future version, use `padding=True` or `padding='longest'` to pad to the longest sequence in the batch, or use `padding='max_length'` to pad to a max length. In this case, you can give a specific length with `max_length` (e.g. `max_length=45`) or leave max_length to None to pad to the maximal input size of the model (e.g. 512 for Bert).\n",
            "  FutureWarning,\n"
          ],
          "name": "stderr"
        },
        {
          "output_type": "stream",
          "text": [
            "Train loss 0.11349698110472024 accuracy 0.9697269070637218\n"
          ],
          "name": "stdout"
        },
        {
          "output_type": "stream",
          "text": [
            "/usr/local/lib/python3.6/dist-packages/transformers/tokenization_utils_base.py:2022: FutureWarning: The `pad_to_max_length` argument is deprecated and will be removed in a future version, use `padding=True` or `padding='longest'` to pad to the longest sequence in the batch, or use `padding='max_length'` to pad to a max length. In this case, you can give a specific length with `max_length` (e.g. `max_length=45`) or leave max_length to None to pad to the maximal input size of the model (e.g. 512 for Bert).\n",
            "  FutureWarning,\n",
            "/usr/local/lib/python3.6/dist-packages/transformers/tokenization_utils_base.py:2022: FutureWarning: The `pad_to_max_length` argument is deprecated and will be removed in a future version, use `padding=True` or `padding='longest'` to pad to the longest sequence in the batch, or use `padding='max_length'` to pad to a max length. In this case, you can give a specific length with `max_length` (e.g. `max_length=45`) or leave max_length to None to pad to the maximal input size of the model (e.g. 512 for Bert).\n",
            "  FutureWarning,\n",
            "/usr/local/lib/python3.6/dist-packages/transformers/tokenization_utils_base.py:2022: FutureWarning: The `pad_to_max_length` argument is deprecated and will be removed in a future version, use `padding=True` or `padding='longest'` to pad to the longest sequence in the batch, or use `padding='max_length'` to pad to a max length. In this case, you can give a specific length with `max_length` (e.g. `max_length=45`) or leave max_length to None to pad to the maximal input size of the model (e.g. 512 for Bert).\n",
            "  FutureWarning,\n",
            "/usr/local/lib/python3.6/dist-packages/transformers/tokenization_utils_base.py:2022: FutureWarning: The `pad_to_max_length` argument is deprecated and will be removed in a future version, use `padding=True` or `padding='longest'` to pad to the longest sequence in the batch, or use `padding='max_length'` to pad to a max length. In this case, you can give a specific length with `max_length` (e.g. `max_length=45`) or leave max_length to None to pad to the maximal input size of the model (e.g. 512 for Bert).\n",
            "  FutureWarning,\n"
          ],
          "name": "stderr"
        },
        {
          "output_type": "stream",
          "text": [
            "Val   loss 0.7805309514363762 accuracy 0.8742058449809403\n",
            "\n",
            "Epoch 6/10\n",
            "----------\n"
          ],
          "name": "stdout"
        },
        {
          "output_type": "stream",
          "text": [
            "/usr/local/lib/python3.6/dist-packages/transformers/tokenization_utils_base.py:2022: FutureWarning: The `pad_to_max_length` argument is deprecated and will be removed in a future version, use `padding=True` or `padding='longest'` to pad to the longest sequence in the batch, or use `padding='max_length'` to pad to a max length. In this case, you can give a specific length with `max_length` (e.g. `max_length=45`) or leave max_length to None to pad to the maximal input size of the model (e.g. 512 for Bert).\n",
            "  FutureWarning,\n",
            "/usr/local/lib/python3.6/dist-packages/transformers/tokenization_utils_base.py:2022: FutureWarning: The `pad_to_max_length` argument is deprecated and will be removed in a future version, use `padding=True` or `padding='longest'` to pad to the longest sequence in the batch, or use `padding='max_length'` to pad to a max length. In this case, you can give a specific length with `max_length` (e.g. `max_length=45`) or leave max_length to None to pad to the maximal input size of the model (e.g. 512 for Bert).\n",
            "  FutureWarning,\n",
            "/usr/local/lib/python3.6/dist-packages/transformers/tokenization_utils_base.py:2022: FutureWarning: The `pad_to_max_length` argument is deprecated and will be removed in a future version, use `padding=True` or `padding='longest'` to pad to the longest sequence in the batch, or use `padding='max_length'` to pad to a max length. In this case, you can give a specific length with `max_length` (e.g. `max_length=45`) or leave max_length to None to pad to the maximal input size of the model (e.g. 512 for Bert).\n",
            "  FutureWarning,\n",
            "/usr/local/lib/python3.6/dist-packages/transformers/tokenization_utils_base.py:2022: FutureWarning: The `pad_to_max_length` argument is deprecated and will be removed in a future version, use `padding=True` or `padding='longest'` to pad to the longest sequence in the batch, or use `padding='max_length'` to pad to a max length. In this case, you can give a specific length with `max_length` (e.g. `max_length=45`) or leave max_length to None to pad to the maximal input size of the model (e.g. 512 for Bert).\n",
            "  FutureWarning,\n"
          ],
          "name": "stderr"
        },
        {
          "output_type": "stream",
          "text": [
            "Train loss 0.08611896052800484 accuracy 0.9781243384376545\n"
          ],
          "name": "stdout"
        },
        {
          "output_type": "stream",
          "text": [
            "/usr/local/lib/python3.6/dist-packages/transformers/tokenization_utils_base.py:2022: FutureWarning: The `pad_to_max_length` argument is deprecated and will be removed in a future version, use `padding=True` or `padding='longest'` to pad to the longest sequence in the batch, or use `padding='max_length'` to pad to a max length. In this case, you can give a specific length with `max_length` (e.g. `max_length=45`) or leave max_length to None to pad to the maximal input size of the model (e.g. 512 for Bert).\n",
            "  FutureWarning,\n",
            "/usr/local/lib/python3.6/dist-packages/transformers/tokenization_utils_base.py:2022: FutureWarning: The `pad_to_max_length` argument is deprecated and will be removed in a future version, use `padding=True` or `padding='longest'` to pad to the longest sequence in the batch, or use `padding='max_length'` to pad to a max length. In this case, you can give a specific length with `max_length` (e.g. `max_length=45`) or leave max_length to None to pad to the maximal input size of the model (e.g. 512 for Bert).\n",
            "  FutureWarning,\n",
            "/usr/local/lib/python3.6/dist-packages/transformers/tokenization_utils_base.py:2022: FutureWarning: The `pad_to_max_length` argument is deprecated and will be removed in a future version, use `padding=True` or `padding='longest'` to pad to the longest sequence in the batch, or use `padding='max_length'` to pad to a max length. In this case, you can give a specific length with `max_length` (e.g. `max_length=45`) or leave max_length to None to pad to the maximal input size of the model (e.g. 512 for Bert).\n",
            "  FutureWarning,\n",
            "/usr/local/lib/python3.6/dist-packages/transformers/tokenization_utils_base.py:2022: FutureWarning: The `pad_to_max_length` argument is deprecated and will be removed in a future version, use `padding=True` or `padding='longest'` to pad to the longest sequence in the batch, or use `padding='max_length'` to pad to a max length. In this case, you can give a specific length with `max_length` (e.g. `max_length=45`) or leave max_length to None to pad to the maximal input size of the model (e.g. 512 for Bert).\n",
            "  FutureWarning,\n"
          ],
          "name": "stderr"
        },
        {
          "output_type": "stream",
          "text": [
            "Val   loss 0.8989945973805152 accuracy 0.866581956797967\n",
            "\n",
            "Epoch 7/10\n",
            "----------\n"
          ],
          "name": "stdout"
        },
        {
          "output_type": "stream",
          "text": [
            "/usr/local/lib/python3.6/dist-packages/transformers/tokenization_utils_base.py:2022: FutureWarning: The `pad_to_max_length` argument is deprecated and will be removed in a future version, use `padding=True` or `padding='longest'` to pad to the longest sequence in the batch, or use `padding='max_length'` to pad to a max length. In this case, you can give a specific length with `max_length` (e.g. `max_length=45`) or leave max_length to None to pad to the maximal input size of the model (e.g. 512 for Bert).\n",
            "  FutureWarning,\n",
            "/usr/local/lib/python3.6/dist-packages/transformers/tokenization_utils_base.py:2022: FutureWarning: The `pad_to_max_length` argument is deprecated and will be removed in a future version, use `padding=True` or `padding='longest'` to pad to the longest sequence in the batch, or use `padding='max_length'` to pad to a max length. In this case, you can give a specific length with `max_length` (e.g. `max_length=45`) or leave max_length to None to pad to the maximal input size of the model (e.g. 512 for Bert).\n",
            "  FutureWarning,\n",
            "/usr/local/lib/python3.6/dist-packages/transformers/tokenization_utils_base.py:2022: FutureWarning: The `pad_to_max_length` argument is deprecated and will be removed in a future version, use `padding=True` or `padding='longest'` to pad to the longest sequence in the batch, or use `padding='max_length'` to pad to a max length. In this case, you can give a specific length with `max_length` (e.g. `max_length=45`) or leave max_length to None to pad to the maximal input size of the model (e.g. 512 for Bert).\n",
            "  FutureWarning,\n",
            "/usr/local/lib/python3.6/dist-packages/transformers/tokenization_utils_base.py:2022: FutureWarning: The `pad_to_max_length` argument is deprecated and will be removed in a future version, use `padding=True` or `padding='longest'` to pad to the longest sequence in the batch, or use `padding='max_length'` to pad to a max length. In this case, you can give a specific length with `max_length` (e.g. `max_length=45`) or leave max_length to None to pad to the maximal input size of the model (e.g. 512 for Bert).\n",
            "  FutureWarning,\n"
          ],
          "name": "stderr"
        },
        {
          "output_type": "stream",
          "text": [
            "Train loss 0.06907403840919976 accuracy 0.9820055041987157\n"
          ],
          "name": "stdout"
        },
        {
          "output_type": "stream",
          "text": [
            "/usr/local/lib/python3.6/dist-packages/transformers/tokenization_utils_base.py:2022: FutureWarning: The `pad_to_max_length` argument is deprecated and will be removed in a future version, use `padding=True` or `padding='longest'` to pad to the longest sequence in the batch, or use `padding='max_length'` to pad to a max length. In this case, you can give a specific length with `max_length` (e.g. `max_length=45`) or leave max_length to None to pad to the maximal input size of the model (e.g. 512 for Bert).\n",
            "  FutureWarning,\n",
            "/usr/local/lib/python3.6/dist-packages/transformers/tokenization_utils_base.py:2022: FutureWarning: The `pad_to_max_length` argument is deprecated and will be removed in a future version, use `padding=True` or `padding='longest'` to pad to the longest sequence in the batch, or use `padding='max_length'` to pad to a max length. In this case, you can give a specific length with `max_length` (e.g. `max_length=45`) or leave max_length to None to pad to the maximal input size of the model (e.g. 512 for Bert).\n",
            "  FutureWarning,\n",
            "/usr/local/lib/python3.6/dist-packages/transformers/tokenization_utils_base.py:2022: FutureWarning: The `pad_to_max_length` argument is deprecated and will be removed in a future version, use `padding=True` or `padding='longest'` to pad to the longest sequence in the batch, or use `padding='max_length'` to pad to a max length. In this case, you can give a specific length with `max_length` (e.g. `max_length=45`) or leave max_length to None to pad to the maximal input size of the model (e.g. 512 for Bert).\n",
            "  FutureWarning,\n",
            "/usr/local/lib/python3.6/dist-packages/transformers/tokenization_utils_base.py:2022: FutureWarning: The `pad_to_max_length` argument is deprecated and will be removed in a future version, use `padding=True` or `padding='longest'` to pad to the longest sequence in the batch, or use `padding='max_length'` to pad to a max length. In this case, you can give a specific length with `max_length` (e.g. `max_length=45`) or leave max_length to None to pad to the maximal input size of the model (e.g. 512 for Bert).\n",
            "  FutureWarning,\n"
          ],
          "name": "stderr"
        },
        {
          "output_type": "stream",
          "text": [
            "Val   loss 0.80536107474647 accuracy 0.878017789072427\n",
            "\n",
            "Epoch 8/10\n",
            "----------\n"
          ],
          "name": "stdout"
        },
        {
          "output_type": "stream",
          "text": [
            "/usr/local/lib/python3.6/dist-packages/transformers/tokenization_utils_base.py:2022: FutureWarning: The `pad_to_max_length` argument is deprecated and will be removed in a future version, use `padding=True` or `padding='longest'` to pad to the longest sequence in the batch, or use `padding='max_length'` to pad to a max length. In this case, you can give a specific length with `max_length` (e.g. `max_length=45`) or leave max_length to None to pad to the maximal input size of the model (e.g. 512 for Bert).\n",
            "  FutureWarning,\n",
            "/usr/local/lib/python3.6/dist-packages/transformers/tokenization_utils_base.py:2022: FutureWarning: The `pad_to_max_length` argument is deprecated and will be removed in a future version, use `padding=True` or `padding='longest'` to pad to the longest sequence in the batch, or use `padding='max_length'` to pad to a max length. In this case, you can give a specific length with `max_length` (e.g. `max_length=45`) or leave max_length to None to pad to the maximal input size of the model (e.g. 512 for Bert).\n",
            "  FutureWarning,\n",
            "/usr/local/lib/python3.6/dist-packages/transformers/tokenization_utils_base.py:2022: FutureWarning: The `pad_to_max_length` argument is deprecated and will be removed in a future version, use `padding=True` or `padding='longest'` to pad to the longest sequence in the batch, or use `padding='max_length'` to pad to a max length. In this case, you can give a specific length with `max_length` (e.g. `max_length=45`) or leave max_length to None to pad to the maximal input size of the model (e.g. 512 for Bert).\n",
            "  FutureWarning,\n",
            "/usr/local/lib/python3.6/dist-packages/transformers/tokenization_utils_base.py:2022: FutureWarning: The `pad_to_max_length` argument is deprecated and will be removed in a future version, use `padding=True` or `padding='longest'` to pad to the longest sequence in the batch, or use `padding='max_length'` to pad to a max length. In this case, you can give a specific length with `max_length` (e.g. `max_length=45`) or leave max_length to None to pad to the maximal input size of the model (e.g. 512 for Bert).\n",
            "  FutureWarning,\n"
          ],
          "name": "stderr"
        },
        {
          "output_type": "stream",
          "text": [
            "Train loss 0.049880548627862106 accuracy 0.9845459036059558\n"
          ],
          "name": "stdout"
        },
        {
          "output_type": "stream",
          "text": [
            "/usr/local/lib/python3.6/dist-packages/transformers/tokenization_utils_base.py:2022: FutureWarning: The `pad_to_max_length` argument is deprecated and will be removed in a future version, use `padding=True` or `padding='longest'` to pad to the longest sequence in the batch, or use `padding='max_length'` to pad to a max length. In this case, you can give a specific length with `max_length` (e.g. `max_length=45`) or leave max_length to None to pad to the maximal input size of the model (e.g. 512 for Bert).\n",
            "  FutureWarning,\n",
            "/usr/local/lib/python3.6/dist-packages/transformers/tokenization_utils_base.py:2022: FutureWarning: The `pad_to_max_length` argument is deprecated and will be removed in a future version, use `padding=True` or `padding='longest'` to pad to the longest sequence in the batch, or use `padding='max_length'` to pad to a max length. In this case, you can give a specific length with `max_length` (e.g. `max_length=45`) or leave max_length to None to pad to the maximal input size of the model (e.g. 512 for Bert).\n",
            "  FutureWarning,\n",
            "/usr/local/lib/python3.6/dist-packages/transformers/tokenization_utils_base.py:2022: FutureWarning: The `pad_to_max_length` argument is deprecated and will be removed in a future version, use `padding=True` or `padding='longest'` to pad to the longest sequence in the batch, or use `padding='max_length'` to pad to a max length. In this case, you can give a specific length with `max_length` (e.g. `max_length=45`) or leave max_length to None to pad to the maximal input size of the model (e.g. 512 for Bert).\n",
            "  FutureWarning,\n",
            "/usr/local/lib/python3.6/dist-packages/transformers/tokenization_utils_base.py:2022: FutureWarning: The `pad_to_max_length` argument is deprecated and will be removed in a future version, use `padding=True` or `padding='longest'` to pad to the longest sequence in the batch, or use `padding='max_length'` to pad to a max length. In this case, you can give a specific length with `max_length` (e.g. `max_length=45`) or leave max_length to None to pad to the maximal input size of the model (e.g. 512 for Bert).\n",
            "  FutureWarning,\n"
          ],
          "name": "stderr"
        },
        {
          "output_type": "stream",
          "text": [
            "Val   loss 0.8592597226740327 accuracy 0.8754764930114358\n",
            "\n",
            "Epoch 9/10\n",
            "----------\n"
          ],
          "name": "stdout"
        },
        {
          "output_type": "stream",
          "text": [
            "/usr/local/lib/python3.6/dist-packages/transformers/tokenization_utils_base.py:2022: FutureWarning: The `pad_to_max_length` argument is deprecated and will be removed in a future version, use `padding=True` or `padding='longest'` to pad to the longest sequence in the batch, or use `padding='max_length'` to pad to a max length. In this case, you can give a specific length with `max_length` (e.g. `max_length=45`) or leave max_length to None to pad to the maximal input size of the model (e.g. 512 for Bert).\n",
            "  FutureWarning,\n",
            "/usr/local/lib/python3.6/dist-packages/transformers/tokenization_utils_base.py:2022: FutureWarning: The `pad_to_max_length` argument is deprecated and will be removed in a future version, use `padding=True` or `padding='longest'` to pad to the longest sequence in the batch, or use `padding='max_length'` to pad to a max length. In this case, you can give a specific length with `max_length` (e.g. `max_length=45`) or leave max_length to None to pad to the maximal input size of the model (e.g. 512 for Bert).\n",
            "  FutureWarning,\n",
            "/usr/local/lib/python3.6/dist-packages/transformers/tokenization_utils_base.py:2022: FutureWarning: The `pad_to_max_length` argument is deprecated and will be removed in a future version, use `padding=True` or `padding='longest'` to pad to the longest sequence in the batch, or use `padding='max_length'` to pad to a max length. In this case, you can give a specific length with `max_length` (e.g. `max_length=45`) or leave max_length to None to pad to the maximal input size of the model (e.g. 512 for Bert).\n",
            "  FutureWarning,\n",
            "/usr/local/lib/python3.6/dist-packages/transformers/tokenization_utils_base.py:2022: FutureWarning: The `pad_to_max_length` argument is deprecated and will be removed in a future version, use `padding=True` or `padding='longest'` to pad to the longest sequence in the batch, or use `padding='max_length'` to pad to a max length. In this case, you can give a specific length with `max_length` (e.g. `max_length=45`) or leave max_length to None to pad to the maximal input size of the model (e.g. 512 for Bert).\n",
            "  FutureWarning,\n"
          ],
          "name": "stderr"
        },
        {
          "output_type": "stream",
          "text": [
            "Train loss 0.042276266165235755 accuracy 0.9861689365605815\n"
          ],
          "name": "stdout"
        },
        {
          "output_type": "stream",
          "text": [
            "/usr/local/lib/python3.6/dist-packages/transformers/tokenization_utils_base.py:2022: FutureWarning: The `pad_to_max_length` argument is deprecated and will be removed in a future version, use `padding=True` or `padding='longest'` to pad to the longest sequence in the batch, or use `padding='max_length'` to pad to a max length. In this case, you can give a specific length with `max_length` (e.g. `max_length=45`) or leave max_length to None to pad to the maximal input size of the model (e.g. 512 for Bert).\n",
            "  FutureWarning,\n",
            "/usr/local/lib/python3.6/dist-packages/transformers/tokenization_utils_base.py:2022: FutureWarning: The `pad_to_max_length` argument is deprecated and will be removed in a future version, use `padding=True` or `padding='longest'` to pad to the longest sequence in the batch, or use `padding='max_length'` to pad to a max length. In this case, you can give a specific length with `max_length` (e.g. `max_length=45`) or leave max_length to None to pad to the maximal input size of the model (e.g. 512 for Bert).\n",
            "  FutureWarning,\n",
            "/usr/local/lib/python3.6/dist-packages/transformers/tokenization_utils_base.py:2022: FutureWarning: The `pad_to_max_length` argument is deprecated and will be removed in a future version, use `padding=True` or `padding='longest'` to pad to the longest sequence in the batch, or use `padding='max_length'` to pad to a max length. In this case, you can give a specific length with `max_length` (e.g. `max_length=45`) or leave max_length to None to pad to the maximal input size of the model (e.g. 512 for Bert).\n",
            "  FutureWarning,\n",
            "/usr/local/lib/python3.6/dist-packages/transformers/tokenization_utils_base.py:2022: FutureWarning: The `pad_to_max_length` argument is deprecated and will be removed in a future version, use `padding=True` or `padding='longest'` to pad to the longest sequence in the batch, or use `padding='max_length'` to pad to a max length. In this case, you can give a specific length with `max_length` (e.g. `max_length=45`) or leave max_length to None to pad to the maximal input size of the model (e.g. 512 for Bert).\n",
            "  FutureWarning,\n"
          ],
          "name": "stderr"
        },
        {
          "output_type": "stream",
          "text": [
            "Val   loss 0.8810221465534415 accuracy 0.8729351969504447\n",
            "\n",
            "Epoch 10/10\n",
            "----------\n"
          ],
          "name": "stdout"
        },
        {
          "output_type": "stream",
          "text": [
            "/usr/local/lib/python3.6/dist-packages/transformers/tokenization_utils_base.py:2022: FutureWarning: The `pad_to_max_length` argument is deprecated and will be removed in a future version, use `padding=True` or `padding='longest'` to pad to the longest sequence in the batch, or use `padding='max_length'` to pad to a max length. In this case, you can give a specific length with `max_length` (e.g. `max_length=45`) or leave max_length to None to pad to the maximal input size of the model (e.g. 512 for Bert).\n",
            "  FutureWarning,\n",
            "/usr/local/lib/python3.6/dist-packages/transformers/tokenization_utils_base.py:2022: FutureWarning: The `pad_to_max_length` argument is deprecated and will be removed in a future version, use `padding=True` or `padding='longest'` to pad to the longest sequence in the batch, or use `padding='max_length'` to pad to a max length. In this case, you can give a specific length with `max_length` (e.g. `max_length=45`) or leave max_length to None to pad to the maximal input size of the model (e.g. 512 for Bert).\n",
            "  FutureWarning,\n",
            "/usr/local/lib/python3.6/dist-packages/transformers/tokenization_utils_base.py:2022: FutureWarning: The `pad_to_max_length` argument is deprecated and will be removed in a future version, use `padding=True` or `padding='longest'` to pad to the longest sequence in the batch, or use `padding='max_length'` to pad to a max length. In this case, you can give a specific length with `max_length` (e.g. `max_length=45`) or leave max_length to None to pad to the maximal input size of the model (e.g. 512 for Bert).\n",
            "  FutureWarning,\n",
            "/usr/local/lib/python3.6/dist-packages/transformers/tokenization_utils_base.py:2022: FutureWarning: The `pad_to_max_length` argument is deprecated and will be removed in a future version, use `padding=True` or `padding='longest'` to pad to the longest sequence in the batch, or use `padding='max_length'` to pad to a max length. In this case, you can give a specific length with `max_length` (e.g. `max_length=45`) or leave max_length to None to pad to the maximal input size of the model (e.g. 512 for Bert).\n",
            "  FutureWarning,\n"
          ],
          "name": "stderr"
        },
        {
          "output_type": "stream",
          "text": [
            "Train loss 0.03627341805046892 accuracy 0.9867334697621905\n"
          ],
          "name": "stdout"
        },
        {
          "output_type": "stream",
          "text": [
            "/usr/local/lib/python3.6/dist-packages/transformers/tokenization_utils_base.py:2022: FutureWarning: The `pad_to_max_length` argument is deprecated and will be removed in a future version, use `padding=True` or `padding='longest'` to pad to the longest sequence in the batch, or use `padding='max_length'` to pad to a max length. In this case, you can give a specific length with `max_length` (e.g. `max_length=45`) or leave max_length to None to pad to the maximal input size of the model (e.g. 512 for Bert).\n",
            "  FutureWarning,\n",
            "/usr/local/lib/python3.6/dist-packages/transformers/tokenization_utils_base.py:2022: FutureWarning: The `pad_to_max_length` argument is deprecated and will be removed in a future version, use `padding=True` or `padding='longest'` to pad to the longest sequence in the batch, or use `padding='max_length'` to pad to a max length. In this case, you can give a specific length with `max_length` (e.g. `max_length=45`) or leave max_length to None to pad to the maximal input size of the model (e.g. 512 for Bert).\n",
            "  FutureWarning,\n",
            "/usr/local/lib/python3.6/dist-packages/transformers/tokenization_utils_base.py:2022: FutureWarning: The `pad_to_max_length` argument is deprecated and will be removed in a future version, use `padding=True` or `padding='longest'` to pad to the longest sequence in the batch, or use `padding='max_length'` to pad to a max length. In this case, you can give a specific length with `max_length` (e.g. `max_length=45`) or leave max_length to None to pad to the maximal input size of the model (e.g. 512 for Bert).\n",
            "  FutureWarning,\n",
            "/usr/local/lib/python3.6/dist-packages/transformers/tokenization_utils_base.py:2022: FutureWarning: The `pad_to_max_length` argument is deprecated and will be removed in a future version, use `padding=True` or `padding='longest'` to pad to the longest sequence in the batch, or use `padding='max_length'` to pad to a max length. In this case, you can give a specific length with `max_length` (e.g. `max_length=45`) or leave max_length to None to pad to the maximal input size of the model (e.g. 512 for Bert).\n",
            "  FutureWarning,\n"
          ],
          "name": "stderr"
        },
        {
          "output_type": "stream",
          "text": [
            "Val   loss 0.8820023120692349 accuracy 0.878017789072427\n",
            "\n",
            "CPU times: user 30min 35s, sys: 13min 29s, total: 44min 5s\n",
            "Wall time: 44min 20s\n"
          ],
          "name": "stdout"
        }
      ]
    },
    {
      "cell_type": "code",
      "metadata": {
        "colab": {
          "base_uri": "https://localhost:8080/",
          "height": 523
        },
        "id": "AmIVUPE1KbMI",
        "outputId": "a02a6e19-4972-454e-d6b6-a5d899301c8f"
      },
      "source": [
        "plt.plot(history['train_acc'], label='train accuracy')\n",
        "plt.plot(history['val_acc'], label='validation accuracy')\n",
        "plt.title('Training history')\n",
        "plt.ylabel('Accuracy')\n",
        "plt.xlabel('Epoch')\n",
        "plt.legend()\n",
        "plt.ylim([0, 1]);"
      ],
      "execution_count": null,
      "outputs": [
        {
          "output_type": "display_data",
          "data": {
            "image/png": "[encoded data removed]",
            "text/plain": [
              "<Figure size 864x576 with 1 Axes>"
            ]
          },
          "metadata": {
            "tags": [],
            "image/png": {
              "width": 732,
              "height": 506
            }
          }
        }
      ]
    },
    {
      "cell_type": "code",
      "metadata": {
        "id": "2dNYn1R5Knbb"
      },
      "source": [
        "# !gdown --id 1V8itWtowCYnb2Bc9KlK9SxGff9WwmogA\n",
        "# model = SentimentClassifier(len(class_names))\n",
        "# model.load_state_dict(torch.load('best_model_state.bin'))\n",
        "# model = model.to(device)"
      ],
      "execution_count": null,
      "outputs": []
    },
    {
      "cell_type": "code",
      "metadata": {
        "colab": {
          "base_uri": "https://localhost:8080/"
        },
        "id": "H1ajoRskK6n5",
        "outputId": "2d642600-3083-4ded-e80b-02bae80d712f"
      },
      "source": [
        "test_acc, _ = eval_model(\n",
        "  model,\n",
        "  test_data_loader,\n",
        "  loss_fn,\n",
        "  device,\n",
        "  len(df_test)\n",
        ")\n",
        "test_acc.item()"
      ],
      "execution_count": null,
      "outputs": [
        {
          "output_type": "stream",
          "text": [
            "/usr/local/lib/python3.6/dist-packages/transformers/tokenization_utils_base.py:2022: FutureWarning: The `pad_to_max_length` argument is deprecated and will be removed in a future version, use `padding=True` or `padding='longest'` to pad to the longest sequence in the batch, or use `padding='max_length'` to pad to a max length. In this case, you can give a specific length with `max_length` (e.g. `max_length=45`) or leave max_length to None to pad to the maximal input size of the model (e.g. 512 for Bert).\n",
            "  FutureWarning,\n",
            "/usr/local/lib/python3.6/dist-packages/transformers/tokenization_utils_base.py:2022: FutureWarning: The `pad_to_max_length` argument is deprecated and will be removed in a future version, use `padding=True` or `padding='longest'` to pad to the longest sequence in the batch, or use `padding='max_length'` to pad to a max length. In this case, you can give a specific length with `max_length` (e.g. `max_length=45`) or leave max_length to None to pad to the maximal input size of the model (e.g. 512 for Bert).\n",
            "  FutureWarning,\n",
            "/usr/local/lib/python3.6/dist-packages/transformers/tokenization_utils_base.py:2022: FutureWarning: The `pad_to_max_length` argument is deprecated and will be removed in a future version, use `padding=True` or `padding='longest'` to pad to the longest sequence in the batch, or use `padding='max_length'` to pad to a max length. In this case, you can give a specific length with `max_length` (e.g. `max_length=45`) or leave max_length to None to pad to the maximal input size of the model (e.g. 512 for Bert).\n",
            "  FutureWarning,\n",
            "/usr/local/lib/python3.6/dist-packages/transformers/tokenization_utils_base.py:2022: FutureWarning: The `pad_to_max_length` argument is deprecated and will be removed in a future version, use `padding=True` or `padding='longest'` to pad to the longest sequence in the batch, or use `padding='max_length'` to pad to a max length. In this case, you can give a specific length with `max_length` (e.g. `max_length=45`) or leave max_length to None to pad to the maximal input size of the model (e.g. 512 for Bert).\n",
            "  FutureWarning,\n"
          ],
          "name": "stderr"
        },
        {
          "output_type": "execute_result",
          "data": {
            "text/plain": [
              "0.8934010152284263"
            ]
          },
          "metadata": {
            "tags": []
          },
          "execution_count": 59
        }
      ]
    },
    {
      "cell_type": "code",
      "metadata": {
        "id": "ot605HKBK7SX"
      },
      "source": [
        "def get_predictions(model, data_loader):\n",
        "  model = model.eval()\n",
        "  review_texts = []\n",
        "  predictions = []\n",
        "  prediction_probs = []\n",
        "  real_values = []\n",
        "  with torch.no_grad():\n",
        "    for d in data_loader:\n",
        "      texts = d[\"review_text\"]\n",
        "      input_ids = d[\"input_ids\"].to(device)\n",
        "      attention_mask = d[\"attention_mask\"].to(device)\n",
        "      targets = d[\"targets\"].to(device)\n",
        "      outputs = model(\n",
        "        input_ids=input_ids,\n",
        "        attention_mask=attention_mask\n",
        "      )\n",
        "      _, preds = torch.max(outputs, dim=1)\n",
        "      review_texts.extend(texts)\n",
        "      predictions.extend(preds)\n",
        "      prediction_probs.extend(outputs)\n",
        "      real_values.extend(targets)\n",
        "  predictions = torch.stack(predictions).cpu()\n",
        "  prediction_probs = torch.stack(prediction_probs).cpu()\n",
        "  real_values = torch.stack(real_values).cpu()\n",
        "  return review_texts, predictions, prediction_probs, real_values"
      ],
      "execution_count": null,
      "outputs": []
    },
    {
      "cell_type": "code",
      "metadata": {
        "colab": {
          "base_uri": "https://localhost:8080/"
        },
        "id": "iSg-OoIhMSgF",
        "outputId": "76786184-1bf9-42c0-a8e3-0903cb4356f9"
      },
      "source": [
        "y_review_texts, y_pred, y_pred_probs, y_test = get_predictions(\n",
        "  model,\n",
        "  test_data_loader\n",
        ")"
      ],
      "execution_count": null,
      "outputs": [
        {
          "output_type": "stream",
          "text": [
            "/usr/local/lib/python3.6/dist-packages/transformers/tokenization_utils_base.py:2022: FutureWarning: The `pad_to_max_length` argument is deprecated and will be removed in a future version, use `padding=True` or `padding='longest'` to pad to the longest sequence in the batch, or use `padding='max_length'` to pad to a max length. In this case, you can give a specific length with `max_length` (e.g. `max_length=45`) or leave max_length to None to pad to the maximal input size of the model (e.g. 512 for Bert).\n",
            "  FutureWarning,\n",
            "/usr/local/lib/python3.6/dist-packages/transformers/tokenization_utils_base.py:2022: FutureWarning: The `pad_to_max_length` argument is deprecated and will be removed in a future version, use `padding=True` or `padding='longest'` to pad to the longest sequence in the batch, or use `padding='max_length'` to pad to a max length. In this case, you can give a specific length with `max_length` (e.g. `max_length=45`) or leave max_length to None to pad to the maximal input size of the model (e.g. 512 for Bert).\n",
            "  FutureWarning,\n",
            "/usr/local/lib/python3.6/dist-packages/transformers/tokenization_utils_base.py:2022: FutureWarning: The `pad_to_max_length` argument is deprecated and will be removed in a future version, use `padding=True` or `padding='longest'` to pad to the longest sequence in the batch, or use `padding='max_length'` to pad to a max length. In this case, you can give a specific length with `max_length` (e.g. `max_length=45`) or leave max_length to None to pad to the maximal input size of the model (e.g. 512 for Bert).\n",
            "  FutureWarning,\n",
            "/usr/local/lib/python3.6/dist-packages/transformers/tokenization_utils_base.py:2022: FutureWarning: The `pad_to_max_length` argument is deprecated and will be removed in a future version, use `padding=True` or `padding='longest'` to pad to the longest sequence in the batch, or use `padding='max_length'` to pad to a max length. In this case, you can give a specific length with `max_length` (e.g. `max_length=45`) or leave max_length to None to pad to the maximal input size of the model (e.g. 512 for Bert).\n",
            "  FutureWarning,\n"
          ],
          "name": "stderr"
        }
      ]
    },
    {
      "cell_type": "code",
      "metadata": {
        "colab": {
          "base_uri": "https://localhost:8080/"
        },
        "id": "80N5-5ZeMWzm",
        "outputId": "8f1ba39c-17c5-4637-8675-c0b7ce840a82"
      },
      "source": [
        "print(classification_report(y_test, y_pred, target_names=class_names))"
      ],
      "execution_count": null,
      "outputs": [
        {
          "output_type": "stream",
          "text": [
            "              precision    recall  f1-score   support\n",
            "\n",
            "    negative       0.93      0.86      0.89       245\n",
            "     neutral       0.83      0.90      0.86       254\n",
            "    positive       0.93      0.92      0.92       289\n",
            "\n",
            "    accuracy                           0.89       788\n",
            "   macro avg       0.89      0.89      0.89       788\n",
            "weighted avg       0.90      0.89      0.89       788\n",
            "\n"
          ],
          "name": "stdout"
        }
      ]
    },
    {
      "cell_type": "code",
      "metadata": {
        "colab": {
          "base_uri": "https://localhost:8080/",
          "height": 533
        },
        "id": "2xrMLMTmMbdn",
        "outputId": "4e10acab-c93d-4a4a-87b1-cd1f9c11dda6"
      },
      "source": [
        "def show_confusion_matrix(confusion_matrix):\n",
        "  hmap = sns.heatmap(confusion_matrix, annot=True, fmt=\"d\", cmap=\"Blues\")\n",
        "  hmap.yaxis.set_ticklabels(hmap.yaxis.get_ticklabels(), rotation=0, ha='right')\n",
        "  hmap.xaxis.set_ticklabels(hmap.xaxis.get_ticklabels(), rotation=30, ha='right')\n",
        "  plt.ylabel('True sentiment')\n",
        "  plt.xlabel('Predicted sentiment');\n",
        "cm = confusion_matrix(y_test, y_pred)\n",
        "df_cm = pd.DataFrame(cm, index=class_names, columns=class_names)\n",
        "show_confusion_matrix(df_cm)"
      ],
      "execution_count": null,
      "outputs": [
        {
          "output_type": "display_data",
          "data": {
            "image/png": "[encoded data removed]",
            "text/plain": [
              "<Figure size 864x576 with 2 Axes>"
            ]
          },
          "metadata": {
            "tags": [],
            "image/png": {
              "width": 725,
              "height": 516
            }
          }
        }
      ]
    },
    {
      "cell_type": "code",
      "metadata": {
        "colab": {
          "base_uri": "https://localhost:8080/"
        },
        "id": "UW2S09IpMfiy",
        "outputId": "57c8a7c6-546d-43c8-cd4b-bb36dd536888"
      },
      "source": [
        "idx = 2\n",
        "review_text = y_review_texts[idx]\n",
        "true_sentiment = y_test[idx]\n",
        "pred_df = pd.DataFrame({\n",
        "  'class_names': class_names,\n",
        "  'values': y_pred_probs[idx]\n",
        "})\n",
        "print(\"\\n\".join(wrap(review_text)))\n",
        "print()\n",
        "print(f'True sentiment: {class_names[true_sentiment]}')\n"
      ],
      "execution_count": null,
      "outputs": [
        {
          "output_type": "stream",
          "text": [
            "I used to use Habitica, and I must say this is a great step up. I'd\n",
            "like to see more social features, such as sharing tasks - only one\n",
            "person has to perform said task for it to be checked off, but only\n",
            "giving that person the experience and gold. Otherwise, the price for\n",
            "subscription is too steep, thus resulting in a sub-perfect score. I\n",
            "could easily justify $0.99/month or eternal subscription for $15. If\n",
            "that price could be met, as well as fine tuning, this would be easily\n",
            "worth 5 stars.\n",
            "\n",
            "True sentiment: neutral\n"
          ],
          "name": "stdout"
        }
      ]
    },
    {
      "cell_type": "code",
      "metadata": {
        "colab": {
          "base_uri": "https://localhost:8080/",
          "height": 505
        },
        "id": "kV5Qqn_HMj4S",
        "outputId": "6cf94081-fab8-43f3-99a0-5c8487559be1"
      },
      "source": [
        "sns.barplot(x='values', y='class_names', data=pred_df, orient='h')\n",
        "plt.ylabel('sentiment')\n",
        "plt.xlabel('probability')\n",
        "plt.xlim([0, 1]);"
      ],
      "execution_count": null,
      "outputs": [
        {
          "output_type": "display_data",
          "data": {
            "image/png": "[encoded data removed]",
            "text/plain": [
              "<Figure size 864x576 with 1 Axes>"
            ]
          },
          "metadata": {
            "tags": [],
            "image/png": {
              "width": 779,
              "height": 489
            }
          }
        }
      ]
    },
    {
      "cell_type": "code",
      "metadata": {
        "id": "ax7hQdS4Mpia"
      },
      "source": [
        "review_text = \"I love completing my todos! Best app ever!!!\""
      ],
      "execution_count": null,
      "outputs": []
    },
    {
      "cell_type": "code",
      "metadata": {
        "colab": {
          "base_uri": "https://localhost:8080/"
        },
        "id": "pfKNh1FGMsqk",
        "outputId": "da81febc-f6d0-4ed5-bb35-46d875ca1d1f"
      },
      "source": [
        "encoded_review = tokenizer.encode_plus(\n",
        "  review_text,\n",
        "  max_length=MAX_LEN,\n",
        "  add_special_tokens=True,\n",
        "  return_token_type_ids=False,\n",
        "  pad_to_max_length=True,\n",
        "  return_attention_mask=True,\n",
        "  return_tensors='pt',\n",
        ")"
      ],
      "execution_count": null,
      "outputs": [
        {
          "output_type": "stream",
          "text": [
            "/usr/local/lib/python3.6/dist-packages/transformers/tokenization_utils_base.py:2022: FutureWarning: The `pad_to_max_length` argument is deprecated and will be removed in a future version, use `padding=True` or `padding='longest'` to pad to the longest sequence in the batch, or use `padding='max_length'` to pad to a max length. In this case, you can give a specific length with `max_length` (e.g. `max_length=45`) or leave max_length to None to pad to the maximal input size of the model (e.g. 512 for Bert).\n",
            "  FutureWarning,\n"
          ],
          "name": "stderr"
        }
      ]
    },
    {
      "cell_type": "code",
      "metadata": {
        "colab": {
          "base_uri": "https://localhost:8080/"
        },
        "id": "U1afNhOkMwsq",
        "outputId": "54d9a5a9-3fb0-43d8-becc-1a93dbeec60c"
      },
      "source": [
        "input_ids = encoded_review['input_ids'].to(device)\n",
        "attention_mask = encoded_review['attention_mask'].to(device)\n",
        "output = model(input_ids, attention_mask)\n",
        "_, prediction = torch.max(output, dim=1)\n",
        "print(f'Review text: {review_text}')\n",
        "print(f'Sentiment  : {class_names[prediction]}')\n"
      ],
      "execution_count": null,
      "outputs": [
        {
          "output_type": "stream",
          "text": [
            "Review text: I love completing my todos! Best app ever!!!\n",
            "Sentiment  : positive\n"
          ],
          "name": "stdout"
        }
      ]
    },
    {
      "cell_type": "code",
      "metadata": {
        "id": "2cWGpp37Mzi8"
      },
      "source": [
        ""
      ],
      "execution_count": null,
      "outputs": []
    }
  ]
}