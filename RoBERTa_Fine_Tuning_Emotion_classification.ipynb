{
  "nbformat": 4,
  "nbformat_minor": 0,
  "metadata": {
    "colab": {
      "name": "RoBERTa_Fine_Tuning_Emotion_classification.ipynb",
      "provenance": [],
      "collapsed_sections": [],
      "include_colab_link": true
    },
    "kernelspec": {
      "name": "python3",
      "display_name": "Python 3"
    },
    "accelerator": "GPU",
    "widgets": {
      "application/vnd.jupyter.widget-state+json": {
        "60ca3078c0d74f33b88ddfc124468173": {
          "model_module": "@jupyter-widgets/controls",
          "model_name": "HBoxModel",
          "state": {
            "_view_name": "HBoxView",
            "_dom_classes": [],
            "_model_name": "HBoxModel",
            "_view_module": "@jupyter-widgets/controls",
            "_model_module_version": "1.5.0",
            "_view_count": null,
            "_view_module_version": "1.5.0",
            "box_style": "",
            "layout": "IPY_MODEL_3e3b1baf80c54b8099b420c9be54bd1c",
            "_model_module": "@jupyter-widgets/controls",
            "children": [
              "IPY_MODEL_f088382db04f42659eaaae6b6c30f1bb",
              "IPY_MODEL_b89ec623be974a0da74ee5854ef889ac"
            ]
          }
        },
        "3e3b1baf80c54b8099b420c9be54bd1c": {
          "model_module": "@jupyter-widgets/base",
          "model_name": "LayoutModel",
          "state": {
            "_view_name": "LayoutView",
            "grid_template_rows": null,
            "right": null,
            "justify_content": null,
            "_view_module": "@jupyter-widgets/base",
            "overflow": null,
            "_model_module_version": "1.2.0",
            "_view_count": null,
            "flex_flow": null,
            "width": null,
            "min_width": null,
            "border": null,
            "align_items": null,
            "bottom": null,
            "_model_module": "@jupyter-widgets/base",
            "top": null,
            "grid_column": null,
            "overflow_y": null,
            "overflow_x": null,
            "grid_auto_flow": null,
            "grid_area": null,
            "grid_template_columns": null,
            "flex": null,
            "_model_name": "LayoutModel",
            "justify_items": null,
            "grid_row": null,
            "max_height": null,
            "align_content": null,
            "visibility": null,
            "align_self": null,
            "height": null,
            "min_height": null,
            "padding": null,
            "grid_auto_rows": null,
            "grid_gap": null,
            "max_width": null,
            "order": null,
            "_view_module_version": "1.2.0",
            "grid_template_areas": null,
            "object_position": null,
            "object_fit": null,
            "grid_auto_columns": null,
            "margin": null,
            "display": null,
            "left": null
          }
        },
        "f088382db04f42659eaaae6b6c30f1bb": {
          "model_module": "@jupyter-widgets/controls",
          "model_name": "FloatProgressModel",
          "state": {
            "_view_name": "ProgressView",
            "style": "IPY_MODEL_23abb31fc290433d9392f2483983c288",
            "_dom_classes": [],
            "description": "Downloading: 100%",
            "_model_name": "FloatProgressModel",
            "bar_style": "success",
            "max": 480,
            "_view_module": "@jupyter-widgets/controls",
            "_model_module_version": "1.5.0",
            "value": 480,
            "_view_count": null,
            "_view_module_version": "1.5.0",
            "orientation": "horizontal",
            "min": 0,
            "description_tooltip": null,
            "_model_module": "@jupyter-widgets/controls",
            "layout": "IPY_MODEL_5609506359164b9984b6c2278264905c"
          }
        },
        "b89ec623be974a0da74ee5854ef889ac": {
          "model_module": "@jupyter-widgets/controls",
          "model_name": "HTMLModel",
          "state": {
            "_view_name": "HTMLView",
            "style": "IPY_MODEL_5a3768fa0ef4449ca501836be8c9bf3b",
            "_dom_classes": [],
            "description": "",
            "_model_name": "HTMLModel",
            "placeholder": "​",
            "_view_module": "@jupyter-widgets/controls",
            "_model_module_version": "1.5.0",
            "value": " 480/480 [00:00&lt;00:00, 12.5kB/s]",
            "_view_count": null,
            "_view_module_version": "1.5.0",
            "description_tooltip": null,
            "_model_module": "@jupyter-widgets/controls",
            "layout": "IPY_MODEL_242af24e947b43a8aeef2b3c8eac3344"
          }
        },
        "23abb31fc290433d9392f2483983c288": {
          "model_module": "@jupyter-widgets/controls",
          "model_name": "ProgressStyleModel",
          "state": {
            "_view_name": "StyleView",
            "_model_name": "ProgressStyleModel",
            "description_width": "initial",
            "_view_module": "@jupyter-widgets/base",
            "_model_module_version": "1.5.0",
            "_view_count": null,
            "_view_module_version": "1.2.0",
            "bar_color": null,
            "_model_module": "@jupyter-widgets/controls"
          }
        },
        "5609506359164b9984b6c2278264905c": {
          "model_module": "@jupyter-widgets/base",
          "model_name": "LayoutModel",
          "state": {
            "_view_name": "LayoutView",
            "grid_template_rows": null,
            "right": null,
            "justify_content": null,
            "_view_module": "@jupyter-widgets/base",
            "overflow": null,
            "_model_module_version": "1.2.0",
            "_view_count": null,
            "flex_flow": null,
            "width": null,
            "min_width": null,
            "border": null,
            "align_items": null,
            "bottom": null,
            "_model_module": "@jupyter-widgets/base",
            "top": null,
            "grid_column": null,
            "overflow_y": null,
            "overflow_x": null,
            "grid_auto_flow": null,
            "grid_area": null,
            "grid_template_columns": null,
            "flex": null,
            "_model_name": "LayoutModel",
            "justify_items": null,
            "grid_row": null,
            "max_height": null,
            "align_content": null,
            "visibility": null,
            "align_self": null,
            "height": null,
            "min_height": null,
            "padding": null,
            "grid_auto_rows": null,
            "grid_gap": null,
            "max_width": null,
            "order": null,
            "_view_module_version": "1.2.0",
            "grid_template_areas": null,
            "object_position": null,
            "object_fit": null,
            "grid_auto_columns": null,
            "margin": null,
            "display": null,
            "left": null
          }
        },
        "5a3768fa0ef4449ca501836be8c9bf3b": {
          "model_module": "@jupyter-widgets/controls",
          "model_name": "DescriptionStyleModel",
          "state": {
            "_view_name": "StyleView",
            "_model_name": "DescriptionStyleModel",
            "description_width": "",
            "_view_module": "@jupyter-widgets/base",
            "_model_module_version": "1.5.0",
            "_view_count": null,
            "_view_module_version": "1.2.0",
            "_model_module": "@jupyter-widgets/controls"
          }
        },
        "242af24e947b43a8aeef2b3c8eac3344": {
          "model_module": "@jupyter-widgets/base",
          "model_name": "LayoutModel",
          "state": {
            "_view_name": "LayoutView",
            "grid_template_rows": null,
            "right": null,
            "justify_content": null,
            "_view_module": "@jupyter-widgets/base",
            "overflow": null,
            "_model_module_version": "1.2.0",
            "_view_count": null,
            "flex_flow": null,
            "width": null,
            "min_width": null,
            "border": null,
            "align_items": null,
            "bottom": null,
            "_model_module": "@jupyter-widgets/base",
            "top": null,
            "grid_column": null,
            "overflow_y": null,
            "overflow_x": null,
            "grid_auto_flow": null,
            "grid_area": null,
            "grid_template_columns": null,
            "flex": null,
            "_model_name": "LayoutModel",
            "justify_items": null,
            "grid_row": null,
            "max_height": null,
            "align_content": null,
            "visibility": null,
            "align_self": null,
            "height": null,
            "min_height": null,
            "padding": null,
            "grid_auto_rows": null,
            "grid_gap": null,
            "max_width": null,
            "order": null,
            "_view_module_version": "1.2.0",
            "grid_template_areas": null,
            "object_position": null,
            "object_fit": null,
            "grid_auto_columns": null,
            "margin": null,
            "display": null,
            "left": null
          }
        },
        "dc2e9340382049f5b1f6e521548ea322": {
          "model_module": "@jupyter-widgets/controls",
          "model_name": "HBoxModel",
          "state": {
            "_view_name": "HBoxView",
            "_dom_classes": [],
            "_model_name": "HBoxModel",
            "_view_module": "@jupyter-widgets/controls",
            "_model_module_version": "1.5.0",
            "_view_count": null,
            "_view_module_version": "1.5.0",
            "box_style": "",
            "layout": "IPY_MODEL_36df1debe81b489a9cd5776f4c0caeed",
            "_model_module": "@jupyter-widgets/controls",
            "children": [
              "IPY_MODEL_7fa424fb6671471fbe4164d3e62d1aba",
              "IPY_MODEL_8f312ac6189f4400b9691d2948a1e71d"
            ]
          }
        },
        "36df1debe81b489a9cd5776f4c0caeed": {
          "model_module": "@jupyter-widgets/base",
          "model_name": "LayoutModel",
          "state": {
            "_view_name": "LayoutView",
            "grid_template_rows": null,
            "right": null,
            "justify_content": null,
            "_view_module": "@jupyter-widgets/base",
            "overflow": null,
            "_model_module_version": "1.2.0",
            "_view_count": null,
            "flex_flow": null,
            "width": null,
            "min_width": null,
            "border": null,
            "align_items": null,
            "bottom": null,
            "_model_module": "@jupyter-widgets/base",
            "top": null,
            "grid_column": null,
            "overflow_y": null,
            "overflow_x": null,
            "grid_auto_flow": null,
            "grid_area": null,
            "grid_template_columns": null,
            "flex": null,
            "_model_name": "LayoutModel",
            "justify_items": null,
            "grid_row": null,
            "max_height": null,
            "align_content": null,
            "visibility": null,
            "align_self": null,
            "height": null,
            "min_height": null,
            "padding": null,
            "grid_auto_rows": null,
            "grid_gap": null,
            "max_width": null,
            "order": null,
            "_view_module_version": "1.2.0",
            "grid_template_areas": null,
            "object_position": null,
            "object_fit": null,
            "grid_auto_columns": null,
            "margin": null,
            "display": null,
            "left": null
          }
        },
        "7fa424fb6671471fbe4164d3e62d1aba": {
          "model_module": "@jupyter-widgets/controls",
          "model_name": "FloatProgressModel",
          "state": {
            "_view_name": "ProgressView",
            "style": "IPY_MODEL_9f8df27caa7b4687bb421202c73f3a28",
            "_dom_classes": [],
            "description": "Downloading: 100%",
            "_model_name": "FloatProgressModel",
            "bar_style": "success",
            "max": 898823,
            "_view_module": "@jupyter-widgets/controls",
            "_model_module_version": "1.5.0",
            "value": 898823,
            "_view_count": null,
            "_view_module_version": "1.5.0",
            "orientation": "horizontal",
            "min": 0,
            "description_tooltip": null,
            "_model_module": "@jupyter-widgets/controls",
            "layout": "IPY_MODEL_a59f606a03d84eb29b61a66d4f2623c3"
          }
        },
        "8f312ac6189f4400b9691d2948a1e71d": {
          "model_module": "@jupyter-widgets/controls",
          "model_name": "HTMLModel",
          "state": {
            "_view_name": "HTMLView",
            "style": "IPY_MODEL_eaf680adfcae44e69b193793f585e51b",
            "_dom_classes": [],
            "description": "",
            "_model_name": "HTMLModel",
            "placeholder": "​",
            "_view_module": "@jupyter-widgets/controls",
            "_model_module_version": "1.5.0",
            "value": " 899k/899k [00:01&lt;00:00, 549kB/s]",
            "_view_count": null,
            "_view_module_version": "1.5.0",
            "description_tooltip": null,
            "_model_module": "@jupyter-widgets/controls",
            "layout": "IPY_MODEL_1c644ef2cc63436d860276c42199bc86"
          }
        },
        "9f8df27caa7b4687bb421202c73f3a28": {
          "model_module": "@jupyter-widgets/controls",
          "model_name": "ProgressStyleModel",
          "state": {
            "_view_name": "StyleView",
            "_model_name": "ProgressStyleModel",
            "description_width": "initial",
            "_view_module": "@jupyter-widgets/base",
            "_model_module_version": "1.5.0",
            "_view_count": null,
            "_view_module_version": "1.2.0",
            "bar_color": null,
            "_model_module": "@jupyter-widgets/controls"
          }
        },
        "a59f606a03d84eb29b61a66d4f2623c3": {
          "model_module": "@jupyter-widgets/base",
          "model_name": "LayoutModel",
          "state": {
            "_view_name": "LayoutView",
            "grid_template_rows": null,
            "right": null,
            "justify_content": null,
            "_view_module": "@jupyter-widgets/base",
            "overflow": null,
            "_model_module_version": "1.2.0",
            "_view_count": null,
            "flex_flow": null,
            "width": null,
            "min_width": null,
            "border": null,
            "align_items": null,
            "bottom": null,
            "_model_module": "@jupyter-widgets/base",
            "top": null,
            "grid_column": null,
            "overflow_y": null,
            "overflow_x": null,
            "grid_auto_flow": null,
            "grid_area": null,
            "grid_template_columns": null,
            "flex": null,
            "_model_name": "LayoutModel",
            "justify_items": null,
            "grid_row": null,
            "max_height": null,
            "align_content": null,
            "visibility": null,
            "align_self": null,
            "height": null,
            "min_height": null,
            "padding": null,
            "grid_auto_rows": null,
            "grid_gap": null,
            "max_width": null,
            "order": null,
            "_view_module_version": "1.2.0",
            "grid_template_areas": null,
            "object_position": null,
            "object_fit": null,
            "grid_auto_columns": null,
            "margin": null,
            "display": null,
            "left": null
          }
        },
        "eaf680adfcae44e69b193793f585e51b": {
          "model_module": "@jupyter-widgets/controls",
          "model_name": "DescriptionStyleModel",
          "state": {
            "_view_name": "StyleView",
            "_model_name": "DescriptionStyleModel",
            "description_width": "",
            "_view_module": "@jupyter-widgets/base",
            "_model_module_version": "1.5.0",
            "_view_count": null,
            "_view_module_version": "1.2.0",
            "_model_module": "@jupyter-widgets/controls"
          }
        },
        "1c644ef2cc63436d860276c42199bc86": {
          "model_module": "@jupyter-widgets/base",
          "model_name": "LayoutModel",
          "state": {
            "_view_name": "LayoutView",
            "grid_template_rows": null,
            "right": null,
            "justify_content": null,
            "_view_module": "@jupyter-widgets/base",
            "overflow": null,
            "_model_module_version": "1.2.0",
            "_view_count": null,
            "flex_flow": null,
            "width": null,
            "min_width": null,
            "border": null,
            "align_items": null,
            "bottom": null,
            "_model_module": "@jupyter-widgets/base",
            "top": null,
            "grid_column": null,
            "overflow_y": null,
            "overflow_x": null,
            "grid_auto_flow": null,
            "grid_area": null,
            "grid_template_columns": null,
            "flex": null,
            "_model_name": "LayoutModel",
            "justify_items": null,
            "grid_row": null,
            "max_height": null,
            "align_content": null,
            "visibility": null,
            "align_self": null,
            "height": null,
            "min_height": null,
            "padding": null,
            "grid_auto_rows": null,
            "grid_gap": null,
            "max_width": null,
            "order": null,
            "_view_module_version": "1.2.0",
            "grid_template_areas": null,
            "object_position": null,
            "object_fit": null,
            "grid_auto_columns": null,
            "margin": null,
            "display": null,
            "left": null
          }
        },
        "d2df38ff09d340baad6babcbe48f9f09": {
          "model_module": "@jupyter-widgets/controls",
          "model_name": "HBoxModel",
          "state": {
            "_view_name": "HBoxView",
            "_dom_classes": [],
            "_model_name": "HBoxModel",
            "_view_module": "@jupyter-widgets/controls",
            "_model_module_version": "1.5.0",
            "_view_count": null,
            "_view_module_version": "1.5.0",
            "box_style": "",
            "layout": "IPY_MODEL_58e59af0cb954f44bfc506528697e812",
            "_model_module": "@jupyter-widgets/controls",
            "children": [
              "IPY_MODEL_93cdfa0f25d44fca92e35ecbbf700e17",
              "IPY_MODEL_941886ceb18b486380f4719bd3161b7c"
            ]
          }
        },
        "58e59af0cb954f44bfc506528697e812": {
          "model_module": "@jupyter-widgets/base",
          "model_name": "LayoutModel",
          "state": {
            "_view_name": "LayoutView",
            "grid_template_rows": null,
            "right": null,
            "justify_content": null,
            "_view_module": "@jupyter-widgets/base",
            "overflow": null,
            "_model_module_version": "1.2.0",
            "_view_count": null,
            "flex_flow": null,
            "width": null,
            "min_width": null,
            "border": null,
            "align_items": null,
            "bottom": null,
            "_model_module": "@jupyter-widgets/base",
            "top": null,
            "grid_column": null,
            "overflow_y": null,
            "overflow_x": null,
            "grid_auto_flow": null,
            "grid_area": null,
            "grid_template_columns": null,
            "flex": null,
            "_model_name": "LayoutModel",
            "justify_items": null,
            "grid_row": null,
            "max_height": null,
            "align_content": null,
            "visibility": null,
            "align_self": null,
            "height": null,
            "min_height": null,
            "padding": null,
            "grid_auto_rows": null,
            "grid_gap": null,
            "max_width": null,
            "order": null,
            "_view_module_version": "1.2.0",
            "grid_template_areas": null,
            "object_position": null,
            "object_fit": null,
            "grid_auto_columns": null,
            "margin": null,
            "display": null,
            "left": null
          }
        },
        "93cdfa0f25d44fca92e35ecbbf700e17": {
          "model_module": "@jupyter-widgets/controls",
          "model_name": "FloatProgressModel",
          "state": {
            "_view_name": "ProgressView",
            "style": "IPY_MODEL_43af62c9b1c444ae82c50d4ae1bc53c7",
            "_dom_classes": [],
            "description": "Downloading: 100%",
            "_model_name": "FloatProgressModel",
            "bar_style": "success",
            "max": 456318,
            "_view_module": "@jupyter-widgets/controls",
            "_model_module_version": "1.5.0",
            "value": 456318,
            "_view_count": null,
            "_view_module_version": "1.5.0",
            "orientation": "horizontal",
            "min": 0,
            "description_tooltip": null,
            "_model_module": "@jupyter-widgets/controls",
            "layout": "IPY_MODEL_a9ced7f2be664b8c92a2058719a71ddd"
          }
        },
        "941886ceb18b486380f4719bd3161b7c": {
          "model_module": "@jupyter-widgets/controls",
          "model_name": "HTMLModel",
          "state": {
            "_view_name": "HTMLView",
            "style": "IPY_MODEL_244d02f817494cabae6882ab56e1f7f0",
            "_dom_classes": [],
            "description": "",
            "_model_name": "HTMLModel",
            "placeholder": "​",
            "_view_module": "@jupyter-widgets/controls",
            "_model_module_version": "1.5.0",
            "value": " 456k/456k [00:00&lt;00:00, 557kB/s]",
            "_view_count": null,
            "_view_module_version": "1.5.0",
            "description_tooltip": null,
            "_model_module": "@jupyter-widgets/controls",
            "layout": "IPY_MODEL_a02944099333469680310722a974116c"
          }
        },
        "43af62c9b1c444ae82c50d4ae1bc53c7": {
          "model_module": "@jupyter-widgets/controls",
          "model_name": "ProgressStyleModel",
          "state": {
            "_view_name": "StyleView",
            "_model_name": "ProgressStyleModel",
            "description_width": "initial",
            "_view_module": "@jupyter-widgets/base",
            "_model_module_version": "1.5.0",
            "_view_count": null,
            "_view_module_version": "1.2.0",
            "bar_color": null,
            "_model_module": "@jupyter-widgets/controls"
          }
        },
        "a9ced7f2be664b8c92a2058719a71ddd": {
          "model_module": "@jupyter-widgets/base",
          "model_name": "LayoutModel",
          "state": {
            "_view_name": "LayoutView",
            "grid_template_rows": null,
            "right": null,
            "justify_content": null,
            "_view_module": "@jupyter-widgets/base",
            "overflow": null,
            "_model_module_version": "1.2.0",
            "_view_count": null,
            "flex_flow": null,
            "width": null,
            "min_width": null,
            "border": null,
            "align_items": null,
            "bottom": null,
            "_model_module": "@jupyter-widgets/base",
            "top": null,
            "grid_column": null,
            "overflow_y": null,
            "overflow_x": null,
            "grid_auto_flow": null,
            "grid_area": null,
            "grid_template_columns": null,
            "flex": null,
            "_model_name": "LayoutModel",
            "justify_items": null,
            "grid_row": null,
            "max_height": null,
            "align_content": null,
            "visibility": null,
            "align_self": null,
            "height": null,
            "min_height": null,
            "padding": null,
            "grid_auto_rows": null,
            "grid_gap": null,
            "max_width": null,
            "order": null,
            "_view_module_version": "1.2.0",
            "grid_template_areas": null,
            "object_position": null,
            "object_fit": null,
            "grid_auto_columns": null,
            "margin": null,
            "display": null,
            "left": null
          }
        },
        "244d02f817494cabae6882ab56e1f7f0": {
          "model_module": "@jupyter-widgets/controls",
          "model_name": "DescriptionStyleModel",
          "state": {
            "_view_name": "StyleView",
            "_model_name": "DescriptionStyleModel",
            "description_width": "",
            "_view_module": "@jupyter-widgets/base",
            "_model_module_version": "1.5.0",
            "_view_count": null,
            "_view_module_version": "1.2.0",
            "_model_module": "@jupyter-widgets/controls"
          }
        },
        "a02944099333469680310722a974116c": {
          "model_module": "@jupyter-widgets/base",
          "model_name": "LayoutModel",
          "state": {
            "_view_name": "LayoutView",
            "grid_template_rows": null,
            "right": null,
            "justify_content": null,
            "_view_module": "@jupyter-widgets/base",
            "overflow": null,
            "_model_module_version": "1.2.0",
            "_view_count": null,
            "flex_flow": null,
            "width": null,
            "min_width": null,
            "border": null,
            "align_items": null,
            "bottom": null,
            "_model_module": "@jupyter-widgets/base",
            "top": null,
            "grid_column": null,
            "overflow_y": null,
            "overflow_x": null,
            "grid_auto_flow": null,
            "grid_area": null,
            "grid_template_columns": null,
            "flex": null,
            "_model_name": "LayoutModel",
            "justify_items": null,
            "grid_row": null,
            "max_height": null,
            "align_content": null,
            "visibility": null,
            "align_self": null,
            "height": null,
            "min_height": null,
            "padding": null,
            "grid_auto_rows": null,
            "grid_gap": null,
            "max_width": null,
            "order": null,
            "_view_module_version": "1.2.0",
            "grid_template_areas": null,
            "object_position": null,
            "object_fit": null,
            "grid_auto_columns": null,
            "margin": null,
            "display": null,
            "left": null
          }
        },
        "f4396ee241774ae189c73d935973251d": {
          "model_module": "@jupyter-widgets/controls",
          "model_name": "HBoxModel",
          "state": {
            "_view_name": "HBoxView",
            "_dom_classes": [],
            "_model_name": "HBoxModel",
            "_view_module": "@jupyter-widgets/controls",
            "_model_module_version": "1.5.0",
            "_view_count": null,
            "_view_module_version": "1.5.0",
            "box_style": "",
            "layout": "IPY_MODEL_ff773859ed044e5f9a84f4cb7cc9e114",
            "_model_module": "@jupyter-widgets/controls",
            "children": [
              "IPY_MODEL_0e06748baecc4f77be33352fd6f7c10e",
              "IPY_MODEL_c315e2197d6e4081bef0b3fc222bf42c"
            ]
          }
        },
        "ff773859ed044e5f9a84f4cb7cc9e114": {
          "model_module": "@jupyter-widgets/base",
          "model_name": "LayoutModel",
          "state": {
            "_view_name": "LayoutView",
            "grid_template_rows": null,
            "right": null,
            "justify_content": null,
            "_view_module": "@jupyter-widgets/base",
            "overflow": null,
            "_model_module_version": "1.2.0",
            "_view_count": null,
            "flex_flow": null,
            "width": null,
            "min_width": null,
            "border": null,
            "align_items": null,
            "bottom": null,
            "_model_module": "@jupyter-widgets/base",
            "top": null,
            "grid_column": null,
            "overflow_y": null,
            "overflow_x": null,
            "grid_auto_flow": null,
            "grid_area": null,
            "grid_template_columns": null,
            "flex": null,
            "_model_name": "LayoutModel",
            "justify_items": null,
            "grid_row": null,
            "max_height": null,
            "align_content": null,
            "visibility": null,
            "align_self": null,
            "height": null,
            "min_height": null,
            "padding": null,
            "grid_auto_rows": null,
            "grid_gap": null,
            "max_width": null,
            "order": null,
            "_view_module_version": "1.2.0",
            "grid_template_areas": null,
            "object_position": null,
            "object_fit": null,
            "grid_auto_columns": null,
            "margin": null,
            "display": null,
            "left": null
          }
        },
        "0e06748baecc4f77be33352fd6f7c10e": {
          "model_module": "@jupyter-widgets/controls",
          "model_name": "FloatProgressModel",
          "state": {
            "_view_name": "ProgressView",
            "style": "IPY_MODEL_44278e47e39c4e549203cb29f607fdf0",
            "_dom_classes": [],
            "description": "Downloading: 100%",
            "_model_name": "FloatProgressModel",
            "bar_style": "success",
            "max": 1355863,
            "_view_module": "@jupyter-widgets/controls",
            "_model_module_version": "1.5.0",
            "value": 1355863,
            "_view_count": null,
            "_view_module_version": "1.5.0",
            "orientation": "horizontal",
            "min": 0,
            "description_tooltip": null,
            "_model_module": "@jupyter-widgets/controls",
            "layout": "IPY_MODEL_3e0818de5a0847548a19b568779b7174"
          }
        },
        "c315e2197d6e4081bef0b3fc222bf42c": {
          "model_module": "@jupyter-widgets/controls",
          "model_name": "HTMLModel",
          "state": {
            "_view_name": "HTMLView",
            "style": "IPY_MODEL_9a8cf3f816964882bc6d71922064c7b1",
            "_dom_classes": [],
            "description": "",
            "_model_name": "HTMLModel",
            "placeholder": "​",
            "_view_module": "@jupyter-widgets/controls",
            "_model_module_version": "1.5.0",
            "value": " 1.36M/1.36M [00:50&lt;00:00, 26.9kB/s]",
            "_view_count": null,
            "_view_module_version": "1.5.0",
            "description_tooltip": null,
            "_model_module": "@jupyter-widgets/controls",
            "layout": "IPY_MODEL_3efc310e4c53458b8709221dc4ba6f1e"
          }
        },
        "44278e47e39c4e549203cb29f607fdf0": {
          "model_module": "@jupyter-widgets/controls",
          "model_name": "ProgressStyleModel",
          "state": {
            "_view_name": "StyleView",
            "_model_name": "ProgressStyleModel",
            "description_width": "initial",
            "_view_module": "@jupyter-widgets/base",
            "_model_module_version": "1.5.0",
            "_view_count": null,
            "_view_module_version": "1.2.0",
            "bar_color": null,
            "_model_module": "@jupyter-widgets/controls"
          }
        },
        "3e0818de5a0847548a19b568779b7174": {
          "model_module": "@jupyter-widgets/base",
          "model_name": "LayoutModel",
          "state": {
            "_view_name": "LayoutView",
            "grid_template_rows": null,
            "right": null,
            "justify_content": null,
            "_view_module": "@jupyter-widgets/base",
            "overflow": null,
            "_model_module_version": "1.2.0",
            "_view_count": null,
            "flex_flow": null,
            "width": null,
            "min_width": null,
            "border": null,
            "align_items": null,
            "bottom": null,
            "_model_module": "@jupyter-widgets/base",
            "top": null,
            "grid_column": null,
            "overflow_y": null,
            "overflow_x": null,
            "grid_auto_flow": null,
            "grid_area": null,
            "grid_template_columns": null,
            "flex": null,
            "_model_name": "LayoutModel",
            "justify_items": null,
            "grid_row": null,
            "max_height": null,
            "align_content": null,
            "visibility": null,
            "align_self": null,
            "height": null,
            "min_height": null,
            "padding": null,
            "grid_auto_rows": null,
            "grid_gap": null,
            "max_width": null,
            "order": null,
            "_view_module_version": "1.2.0",
            "grid_template_areas": null,
            "object_position": null,
            "object_fit": null,
            "grid_auto_columns": null,
            "margin": null,
            "display": null,
            "left": null
          }
        },
        "9a8cf3f816964882bc6d71922064c7b1": {
          "model_module": "@jupyter-widgets/controls",
          "model_name": "DescriptionStyleModel",
          "state": {
            "_view_name": "StyleView",
            "_model_name": "DescriptionStyleModel",
            "description_width": "",
            "_view_module": "@jupyter-widgets/base",
            "_model_module_version": "1.5.0",
            "_view_count": null,
            "_view_module_version": "1.2.0",
            "_model_module": "@jupyter-widgets/controls"
          }
        },
        "3efc310e4c53458b8709221dc4ba6f1e": {
          "model_module": "@jupyter-widgets/base",
          "model_name": "LayoutModel",
          "state": {
            "_view_name": "LayoutView",
            "grid_template_rows": null,
            "right": null,
            "justify_content": null,
            "_view_module": "@jupyter-widgets/base",
            "overflow": null,
            "_model_module_version": "1.2.0",
            "_view_count": null,
            "flex_flow": null,
            "width": null,
            "min_width": null,
            "border": null,
            "align_items": null,
            "bottom": null,
            "_model_module": "@jupyter-widgets/base",
            "top": null,
            "grid_column": null,
            "overflow_y": null,
            "overflow_x": null,
            "grid_auto_flow": null,
            "grid_area": null,
            "grid_template_columns": null,
            "flex": null,
            "_model_name": "LayoutModel",
            "justify_items": null,
            "grid_row": null,
            "max_height": null,
            "align_content": null,
            "visibility": null,
            "align_self": null,
            "height": null,
            "min_height": null,
            "padding": null,
            "grid_auto_rows": null,
            "grid_gap": null,
            "max_width": null,
            "order": null,
            "_view_module_version": "1.2.0",
            "grid_template_areas": null,
            "object_position": null,
            "object_fit": null,
            "grid_auto_columns": null,
            "margin": null,
            "display": null,
            "left": null
          }
        },
        "699e99fd98d94267b330cfb678b31db8": {
          "model_module": "@jupyter-widgets/controls",
          "model_name": "HBoxModel",
          "state": {
            "_view_name": "HBoxView",
            "_dom_classes": [],
            "_model_name": "HBoxModel",
            "_view_module": "@jupyter-widgets/controls",
            "_model_module_version": "1.5.0",
            "_view_count": null,
            "_view_module_version": "1.5.0",
            "box_style": "",
            "layout": "IPY_MODEL_e498af1cab634e40b072404ee270114b",
            "_model_module": "@jupyter-widgets/controls",
            "children": [
              "IPY_MODEL_51f3f4ec21e04466ada458e9198eb616",
              "IPY_MODEL_b6222a847b0d4f4b8e471681816be7a6"
            ]
          }
        },
        "e498af1cab634e40b072404ee270114b": {
          "model_module": "@jupyter-widgets/base",
          "model_name": "LayoutModel",
          "state": {
            "_view_name": "LayoutView",
            "grid_template_rows": null,
            "right": null,
            "justify_content": null,
            "_view_module": "@jupyter-widgets/base",
            "overflow": null,
            "_model_module_version": "1.2.0",
            "_view_count": null,
            "flex_flow": null,
            "width": null,
            "min_width": null,
            "border": null,
            "align_items": null,
            "bottom": null,
            "_model_module": "@jupyter-widgets/base",
            "top": null,
            "grid_column": null,
            "overflow_y": null,
            "overflow_x": null,
            "grid_auto_flow": null,
            "grid_area": null,
            "grid_template_columns": null,
            "flex": null,
            "_model_name": "LayoutModel",
            "justify_items": null,
            "grid_row": null,
            "max_height": null,
            "align_content": null,
            "visibility": null,
            "align_self": null,
            "height": null,
            "min_height": null,
            "padding": null,
            "grid_auto_rows": null,
            "grid_gap": null,
            "max_width": null,
            "order": null,
            "_view_module_version": "1.2.0",
            "grid_template_areas": null,
            "object_position": null,
            "object_fit": null,
            "grid_auto_columns": null,
            "margin": null,
            "display": null,
            "left": null
          }
        },
        "51f3f4ec21e04466ada458e9198eb616": {
          "model_module": "@jupyter-widgets/controls",
          "model_name": "FloatProgressModel",
          "state": {
            "_view_name": "ProgressView",
            "style": "IPY_MODEL_521552352f3e45eda2879dede6fce242",
            "_dom_classes": [],
            "description": "Downloading: 100%",
            "_model_name": "FloatProgressModel",
            "bar_style": "success",
            "max": 331070498,
            "_view_module": "@jupyter-widgets/controls",
            "_model_module_version": "1.5.0",
            "value": 331070498,
            "_view_count": null,
            "_view_module_version": "1.5.0",
            "orientation": "horizontal",
            "min": 0,
            "description_tooltip": null,
            "_model_module": "@jupyter-widgets/controls",
            "layout": "IPY_MODEL_347b09b5795348abb91fc4c31289732b"
          }
        },
        "b6222a847b0d4f4b8e471681816be7a6": {
          "model_module": "@jupyter-widgets/controls",
          "model_name": "HTMLModel",
          "state": {
            "_view_name": "HTMLView",
            "style": "IPY_MODEL_fc11eeb6e5b344a1ad1fd64102d2eaf2",
            "_dom_classes": [],
            "description": "",
            "_model_name": "HTMLModel",
            "placeholder": "​",
            "_view_module": "@jupyter-widgets/controls",
            "_model_module_version": "1.5.0",
            "value": " 331M/331M [00:23&lt;00:00, 13.8MB/s]",
            "_view_count": null,
            "_view_module_version": "1.5.0",
            "description_tooltip": null,
            "_model_module": "@jupyter-widgets/controls",
            "layout": "IPY_MODEL_2d41bbde0d4a4dcdb0a060027cb9dadf"
          }
        },
        "521552352f3e45eda2879dede6fce242": {
          "model_module": "@jupyter-widgets/controls",
          "model_name": "ProgressStyleModel",
          "state": {
            "_view_name": "StyleView",
            "_model_name": "ProgressStyleModel",
            "description_width": "initial",
            "_view_module": "@jupyter-widgets/base",
            "_model_module_version": "1.5.0",
            "_view_count": null,
            "_view_module_version": "1.2.0",
            "bar_color": null,
            "_model_module": "@jupyter-widgets/controls"
          }
        },
        "347b09b5795348abb91fc4c31289732b": {
          "model_module": "@jupyter-widgets/base",
          "model_name": "LayoutModel",
          "state": {
            "_view_name": "LayoutView",
            "grid_template_rows": null,
            "right": null,
            "justify_content": null,
            "_view_module": "@jupyter-widgets/base",
            "overflow": null,
            "_model_module_version": "1.2.0",
            "_view_count": null,
            "flex_flow": null,
            "width": null,
            "min_width": null,
            "border": null,
            "align_items": null,
            "bottom": null,
            "_model_module": "@jupyter-widgets/base",
            "top": null,
            "grid_column": null,
            "overflow_y": null,
            "overflow_x": null,
            "grid_auto_flow": null,
            "grid_area": null,
            "grid_template_columns": null,
            "flex": null,
            "_model_name": "LayoutModel",
            "justify_items": null,
            "grid_row": null,
            "max_height": null,
            "align_content": null,
            "visibility": null,
            "align_self": null,
            "height": null,
            "min_height": null,
            "padding": null,
            "grid_auto_rows": null,
            "grid_gap": null,
            "max_width": null,
            "order": null,
            "_view_module_version": "1.2.0",
            "grid_template_areas": null,
            "object_position": null,
            "object_fit": null,
            "grid_auto_columns": null,
            "margin": null,
            "display": null,
            "left": null
          }
        },
        "fc11eeb6e5b344a1ad1fd64102d2eaf2": {
          "model_module": "@jupyter-widgets/controls",
          "model_name": "DescriptionStyleModel",
          "state": {
            "_view_name": "StyleView",
            "_model_name": "DescriptionStyleModel",
            "description_width": "",
            "_view_module": "@jupyter-widgets/base",
            "_model_module_version": "1.5.0",
            "_view_count": null,
            "_view_module_version": "1.2.0",
            "_model_module": "@jupyter-widgets/controls"
          }
        },
        "2d41bbde0d4a4dcdb0a060027cb9dadf": {
          "model_module": "@jupyter-widgets/base",
          "model_name": "LayoutModel",
          "state": {
            "_view_name": "LayoutView",
            "grid_template_rows": null,
            "right": null,
            "justify_content": null,
            "_view_module": "@jupyter-widgets/base",
            "overflow": null,
            "_model_module_version": "1.2.0",
            "_view_count": null,
            "flex_flow": null,
            "width": null,
            "min_width": null,
            "border": null,
            "align_items": null,
            "bottom": null,
            "_model_module": "@jupyter-widgets/base",
            "top": null,
            "grid_column": null,
            "overflow_y": null,
            "overflow_x": null,
            "grid_auto_flow": null,
            "grid_area": null,
            "grid_template_columns": null,
            "flex": null,
            "_model_name": "LayoutModel",
            "justify_items": null,
            "grid_row": null,
            "max_height": null,
            "align_content": null,
            "visibility": null,
            "align_self": null,
            "height": null,
            "min_height": null,
            "padding": null,
            "grid_auto_rows": null,
            "grid_gap": null,
            "max_width": null,
            "order": null,
            "_view_module_version": "1.2.0",
            "grid_template_areas": null,
            "object_position": null,
            "object_fit": null,
            "grid_auto_columns": null,
            "margin": null,
            "display": null,
            "left": null
          }
        },
        "d3c6d5e1e2bd4a09981ee17209974425": {
          "model_module": "@jupyter-widgets/controls",
          "model_name": "HBoxModel",
          "state": {
            "_view_name": "HBoxView",
            "_dom_classes": [],
            "_model_name": "HBoxModel",
            "_view_module": "@jupyter-widgets/controls",
            "_model_module_version": "1.5.0",
            "_view_count": null,
            "_view_module_version": "1.5.0",
            "box_style": "",
            "layout": "IPY_MODEL_e8c783b17fb443f6b49b4c00c13fbe18",
            "_model_module": "@jupyter-widgets/controls",
            "children": [
              "IPY_MODEL_7cae15fb80044c88926a2fb4d0df3e94",
              "IPY_MODEL_cab617a1479b4a91bcc3aed49ba151e4"
            ]
          }
        },
        "e8c783b17fb443f6b49b4c00c13fbe18": {
          "model_module": "@jupyter-widgets/base",
          "model_name": "LayoutModel",
          "state": {
            "_view_name": "LayoutView",
            "grid_template_rows": null,
            "right": null,
            "justify_content": null,
            "_view_module": "@jupyter-widgets/base",
            "overflow": null,
            "_model_module_version": "1.2.0",
            "_view_count": null,
            "flex_flow": "row wrap",
            "width": "100%",
            "min_width": null,
            "border": null,
            "align_items": null,
            "bottom": null,
            "_model_module": "@jupyter-widgets/base",
            "top": null,
            "grid_column": null,
            "overflow_y": null,
            "overflow_x": null,
            "grid_auto_flow": null,
            "grid_area": null,
            "grid_template_columns": null,
            "flex": null,
            "_model_name": "LayoutModel",
            "justify_items": null,
            "grid_row": null,
            "max_height": null,
            "align_content": null,
            "visibility": null,
            "align_self": null,
            "height": null,
            "min_height": null,
            "padding": null,
            "grid_auto_rows": null,
            "grid_gap": null,
            "max_width": null,
            "order": null,
            "_view_module_version": "1.2.0",
            "grid_template_areas": null,
            "object_position": null,
            "object_fit": null,
            "grid_auto_columns": null,
            "margin": null,
            "display": "inline-flex",
            "left": null
          }
        },
        "7cae15fb80044c88926a2fb4d0df3e94": {
          "model_module": "@jupyter-widgets/controls",
          "model_name": "IntProgressModel",
          "state": {
            "_view_name": "ProgressView",
            "style": "IPY_MODEL_fbac354e195745039b388636bc2d6003",
            "_dom_classes": [],
            "description": "Validation sanity check: ",
            "_model_name": "IntProgressModel",
            "bar_style": "",
            "max": 5,
            "_view_module": "@jupyter-widgets/controls",
            "_model_module_version": "1.5.0",
            "value": 5,
            "_view_count": null,
            "_view_module_version": "1.5.0",
            "orientation": "horizontal",
            "min": 0,
            "description_tooltip": null,
            "_model_module": "@jupyter-widgets/controls",
            "layout": "IPY_MODEL_b6a3ee9540d54bba9c1c8cdbbb961718"
          }
        },
        "cab617a1479b4a91bcc3aed49ba151e4": {
          "model_module": "@jupyter-widgets/controls",
          "model_name": "HTMLModel",
          "state": {
            "_view_name": "HTMLView",
            "style": "IPY_MODEL_8bad51bfe00a4e109c5d147e4a0ea97d",
            "_dom_classes": [],
            "description": "",
            "_model_name": "HTMLModel",
            "placeholder": "​",
            "_view_module": "@jupyter-widgets/controls",
            "_model_module_version": "1.5.0",
            "value": " 10/? [00:02&lt;00:00, 17.78it/s]",
            "_view_count": null,
            "_view_module_version": "1.5.0",
            "description_tooltip": null,
            "_model_module": "@jupyter-widgets/controls",
            "layout": "IPY_MODEL_b2d07740bccc43c8be9c9a4fee3d204b"
          }
        },
        "fbac354e195745039b388636bc2d6003": {
          "model_module": "@jupyter-widgets/controls",
          "model_name": "ProgressStyleModel",
          "state": {
            "_view_name": "StyleView",
            "_model_name": "ProgressStyleModel",
            "description_width": "initial",
            "_view_module": "@jupyter-widgets/base",
            "_model_module_version": "1.5.0",
            "_view_count": null,
            "_view_module_version": "1.2.0",
            "bar_color": null,
            "_model_module": "@jupyter-widgets/controls"
          }
        },
        "b6a3ee9540d54bba9c1c8cdbbb961718": {
          "model_module": "@jupyter-widgets/base",
          "model_name": "LayoutModel",
          "state": {
            "_view_name": "LayoutView",
            "grid_template_rows": null,
            "right": null,
            "justify_content": null,
            "_view_module": "@jupyter-widgets/base",
            "overflow": null,
            "_model_module_version": "1.2.0",
            "_view_count": null,
            "flex_flow": null,
            "width": null,
            "min_width": null,
            "border": null,
            "align_items": null,
            "bottom": null,
            "_model_module": "@jupyter-widgets/base",
            "top": null,
            "grid_column": null,
            "overflow_y": null,
            "overflow_x": null,
            "grid_auto_flow": null,
            "grid_area": null,
            "grid_template_columns": null,
            "flex": "2",
            "_model_name": "LayoutModel",
            "justify_items": null,
            "grid_row": null,
            "max_height": null,
            "align_content": null,
            "visibility": null,
            "align_self": null,
            "height": null,
            "min_height": null,
            "padding": null,
            "grid_auto_rows": null,
            "grid_gap": null,
            "max_width": null,
            "order": null,
            "_view_module_version": "1.2.0",
            "grid_template_areas": null,
            "object_position": null,
            "object_fit": null,
            "grid_auto_columns": null,
            "margin": null,
            "display": null,
            "left": null
          }
        },
        "8bad51bfe00a4e109c5d147e4a0ea97d": {
          "model_module": "@jupyter-widgets/controls",
          "model_name": "DescriptionStyleModel",
          "state": {
            "_view_name": "StyleView",
            "_model_name": "DescriptionStyleModel",
            "description_width": "",
            "_view_module": "@jupyter-widgets/base",
            "_model_module_version": "1.5.0",
            "_view_count": null,
            "_view_module_version": "1.2.0",
            "_model_module": "@jupyter-widgets/controls"
          }
        },
        "b2d07740bccc43c8be9c9a4fee3d204b": {
          "model_module": "@jupyter-widgets/base",
          "model_name": "LayoutModel",
          "state": {
            "_view_name": "LayoutView",
            "grid_template_rows": null,
            "right": null,
            "justify_content": null,
            "_view_module": "@jupyter-widgets/base",
            "overflow": null,
            "_model_module_version": "1.2.0",
            "_view_count": null,
            "flex_flow": null,
            "width": null,
            "min_width": null,
            "border": null,
            "align_items": null,
            "bottom": null,
            "_model_module": "@jupyter-widgets/base",
            "top": null,
            "grid_column": null,
            "overflow_y": null,
            "overflow_x": null,
            "grid_auto_flow": null,
            "grid_area": null,
            "grid_template_columns": null,
            "flex": null,
            "_model_name": "LayoutModel",
            "justify_items": null,
            "grid_row": null,
            "max_height": null,
            "align_content": null,
            "visibility": null,
            "align_self": null,
            "height": null,
            "min_height": null,
            "padding": null,
            "grid_auto_rows": null,
            "grid_gap": null,
            "max_width": null,
            "order": null,
            "_view_module_version": "1.2.0",
            "grid_template_areas": null,
            "object_position": null,
            "object_fit": null,
            "grid_auto_columns": null,
            "margin": null,
            "display": null,
            "left": null
          }
        },
        "62f4800d3da74fb0beee8a44b1e59a63": {
          "model_module": "@jupyter-widgets/controls",
          "model_name": "HBoxModel",
          "state": {
            "_view_name": "HBoxView",
            "_dom_classes": [],
            "_model_name": "HBoxModel",
            "_view_module": "@jupyter-widgets/controls",
            "_model_module_version": "1.5.0",
            "_view_count": null,
            "_view_module_version": "1.5.0",
            "box_style": "",
            "layout": "IPY_MODEL_a858066a742b48a0a7f24fcfd3f15cb4",
            "_model_module": "@jupyter-widgets/controls",
            "children": [
              "IPY_MODEL_18f05acf778a44e2a9ef9b0211275016",
              "IPY_MODEL_44d5a66d73724261b5c173459cf595e2"
            ]
          }
        },
        "a858066a742b48a0a7f24fcfd3f15cb4": {
          "model_module": "@jupyter-widgets/base",
          "model_name": "LayoutModel",
          "state": {
            "_view_name": "LayoutView",
            "grid_template_rows": null,
            "right": null,
            "justify_content": null,
            "_view_module": "@jupyter-widgets/base",
            "overflow": null,
            "_model_module_version": "1.2.0",
            "_view_count": null,
            "flex_flow": "row wrap",
            "width": "100%",
            "min_width": null,
            "border": null,
            "align_items": null,
            "bottom": null,
            "_model_module": "@jupyter-widgets/base",
            "top": null,
            "grid_column": null,
            "overflow_y": null,
            "overflow_x": null,
            "grid_auto_flow": null,
            "grid_area": null,
            "grid_template_columns": null,
            "flex": null,
            "_model_name": "LayoutModel",
            "justify_items": null,
            "grid_row": null,
            "max_height": null,
            "align_content": null,
            "visibility": null,
            "align_self": null,
            "height": null,
            "min_height": null,
            "padding": null,
            "grid_auto_rows": null,
            "grid_gap": null,
            "max_width": null,
            "order": null,
            "_view_module_version": "1.2.0",
            "grid_template_areas": null,
            "object_position": null,
            "object_fit": null,
            "grid_auto_columns": null,
            "margin": null,
            "display": "inline-flex",
            "left": null
          }
        },
        "18f05acf778a44e2a9ef9b0211275016": {
          "model_module": "@jupyter-widgets/controls",
          "model_name": "IntProgressModel",
          "state": {
            "_view_name": "ProgressView",
            "style": "IPY_MODEL_00adf9f695fb4a228ea400efa945a98d",
            "_dom_classes": [],
            "description": "Epoch 1: ",
            "_model_name": "IntProgressModel",
            "bar_style": "success",
            "max": 1,
            "_view_module": "@jupyter-widgets/controls",
            "_model_module_version": "1.5.0",
            "value": 1,
            "_view_count": null,
            "_view_module_version": "1.5.0",
            "orientation": "horizontal",
            "min": 0,
            "description_tooltip": null,
            "_model_module": "@jupyter-widgets/controls",
            "layout": "IPY_MODEL_000905de48d142199e7f4ffebe1b33e0"
          }
        },
        "44d5a66d73724261b5c173459cf595e2": {
          "model_module": "@jupyter-widgets/controls",
          "model_name": "HTMLModel",
          "state": {
            "_view_name": "HTMLView",
            "style": "IPY_MODEL_18657260dd794fc4b5a8f351facada72",
            "_dom_classes": [],
            "description": "",
            "_model_name": "HTMLModel",
            "placeholder": "​",
            "_view_module": "@jupyter-widgets/controls",
            "_model_module_version": "1.5.0",
            "value": " 570/? [13:05&lt;00:00,  1.38s/it, loss=0.209, train_loss=0.138, v_num=0]",
            "_view_count": null,
            "_view_module_version": "1.5.0",
            "description_tooltip": null,
            "_model_module": "@jupyter-widgets/controls",
            "layout": "IPY_MODEL_bd27a3ca21c342098bbe69072e8c5850"
          }
        },
        "00adf9f695fb4a228ea400efa945a98d": {
          "model_module": "@jupyter-widgets/controls",
          "model_name": "ProgressStyleModel",
          "state": {
            "_view_name": "StyleView",
            "_model_name": "ProgressStyleModel",
            "description_width": "initial",
            "_view_module": "@jupyter-widgets/base",
            "_model_module_version": "1.5.0",
            "_view_count": null,
            "_view_module_version": "1.2.0",
            "bar_color": null,
            "_model_module": "@jupyter-widgets/controls"
          }
        },
        "000905de48d142199e7f4ffebe1b33e0": {
          "model_module": "@jupyter-widgets/base",
          "model_name": "LayoutModel",
          "state": {
            "_view_name": "LayoutView",
            "grid_template_rows": null,
            "right": null,
            "justify_content": null,
            "_view_module": "@jupyter-widgets/base",
            "overflow": null,
            "_model_module_version": "1.2.0",
            "_view_count": null,
            "flex_flow": null,
            "width": null,
            "min_width": null,
            "border": null,
            "align_items": null,
            "bottom": null,
            "_model_module": "@jupyter-widgets/base",
            "top": null,
            "grid_column": null,
            "overflow_y": null,
            "overflow_x": null,
            "grid_auto_flow": null,
            "grid_area": null,
            "grid_template_columns": null,
            "flex": "2",
            "_model_name": "LayoutModel",
            "justify_items": null,
            "grid_row": null,
            "max_height": null,
            "align_content": null,
            "visibility": null,
            "align_self": null,
            "height": null,
            "min_height": null,
            "padding": null,
            "grid_auto_rows": null,
            "grid_gap": null,
            "max_width": null,
            "order": null,
            "_view_module_version": "1.2.0",
            "grid_template_areas": null,
            "object_position": null,
            "object_fit": null,
            "grid_auto_columns": null,
            "margin": null,
            "display": null,
            "left": null
          }
        },
        "18657260dd794fc4b5a8f351facada72": {
          "model_module": "@jupyter-widgets/controls",
          "model_name": "DescriptionStyleModel",
          "state": {
            "_view_name": "StyleView",
            "_model_name": "DescriptionStyleModel",
            "description_width": "",
            "_view_module": "@jupyter-widgets/base",
            "_model_module_version": "1.5.0",
            "_view_count": null,
            "_view_module_version": "1.2.0",
            "_model_module": "@jupyter-widgets/controls"
          }
        },
        "bd27a3ca21c342098bbe69072e8c5850": {
          "model_module": "@jupyter-widgets/base",
          "model_name": "LayoutModel",
          "state": {
            "_view_name": "LayoutView",
            "grid_template_rows": null,
            "right": null,
            "justify_content": null,
            "_view_module": "@jupyter-widgets/base",
            "overflow": null,
            "_model_module_version": "1.2.0",
            "_view_count": null,
            "flex_flow": null,
            "width": null,
            "min_width": null,
            "border": null,
            "align_items": null,
            "bottom": null,
            "_model_module": "@jupyter-widgets/base",
            "top": null,
            "grid_column": null,
            "overflow_y": null,
            "overflow_x": null,
            "grid_auto_flow": null,
            "grid_area": null,
            "grid_template_columns": null,
            "flex": null,
            "_model_name": "LayoutModel",
            "justify_items": null,
            "grid_row": null,
            "max_height": null,
            "align_content": null,
            "visibility": null,
            "align_self": null,
            "height": null,
            "min_height": null,
            "padding": null,
            "grid_auto_rows": null,
            "grid_gap": null,
            "max_width": null,
            "order": null,
            "_view_module_version": "1.2.0",
            "grid_template_areas": null,
            "object_position": null,
            "object_fit": null,
            "grid_auto_columns": null,
            "margin": null,
            "display": null,
            "left": null
          }
        },
        "6589bb96cbd646db94b1c7b7b2ab44c8": {
          "model_module": "@jupyter-widgets/controls",
          "model_name": "HBoxModel",
          "state": {
            "_view_name": "HBoxView",
            "_dom_classes": [],
            "_model_name": "HBoxModel",
            "_view_module": "@jupyter-widgets/controls",
            "_model_module_version": "1.5.0",
            "_view_count": null,
            "_view_module_version": "1.5.0",
            "box_style": "",
            "layout": "IPY_MODEL_62bf988d4b3a452cbe6c79e5d1b6e415",
            "_model_module": "@jupyter-widgets/controls",
            "children": [
              "IPY_MODEL_942e1f0976df4c1a887b2ff8602cd154",
              "IPY_MODEL_e3bf950fe3db47759f2e9e30a94280d3"
            ]
          }
        },
        "62bf988d4b3a452cbe6c79e5d1b6e415": {
          "model_module": "@jupyter-widgets/base",
          "model_name": "LayoutModel",
          "state": {
            "_view_name": "LayoutView",
            "grid_template_rows": null,
            "right": null,
            "justify_content": null,
            "_view_module": "@jupyter-widgets/base",
            "overflow": null,
            "_model_module_version": "1.2.0",
            "_view_count": null,
            "flex_flow": "row wrap",
            "width": "100%",
            "min_width": null,
            "border": null,
            "align_items": null,
            "bottom": null,
            "_model_module": "@jupyter-widgets/base",
            "top": null,
            "grid_column": null,
            "overflow_y": null,
            "overflow_x": null,
            "grid_auto_flow": null,
            "grid_area": null,
            "grid_template_columns": null,
            "flex": null,
            "_model_name": "LayoutModel",
            "justify_items": null,
            "grid_row": null,
            "max_height": null,
            "align_content": null,
            "visibility": null,
            "align_self": null,
            "height": null,
            "min_height": null,
            "padding": null,
            "grid_auto_rows": null,
            "grid_gap": null,
            "max_width": null,
            "order": null,
            "_view_module_version": "1.2.0",
            "grid_template_areas": null,
            "object_position": null,
            "object_fit": null,
            "grid_auto_columns": null,
            "margin": null,
            "display": "inline-flex",
            "left": null
          }
        },
        "942e1f0976df4c1a887b2ff8602cd154": {
          "model_module": "@jupyter-widgets/controls",
          "model_name": "IntProgressModel",
          "state": {
            "_view_name": "ProgressView",
            "style": "IPY_MODEL_b9efdaf8fb9d4c36802283c837bb57d6",
            "_dom_classes": [],
            "description": "Validating: ",
            "_model_name": "IntProgressModel",
            "bar_style": "",
            "max": 63,
            "_view_module": "@jupyter-widgets/controls",
            "_model_module_version": "1.5.0",
            "value": 63,
            "_view_count": null,
            "_view_module_version": "1.5.0",
            "orientation": "horizontal",
            "min": 0,
            "description_tooltip": null,
            "_model_module": "@jupyter-widgets/controls",
            "layout": "IPY_MODEL_8959acffdeaf43f18ff77114f6a13133"
          }
        },
        "e3bf950fe3db47759f2e9e30a94280d3": {
          "model_module": "@jupyter-widgets/controls",
          "model_name": "HTMLModel",
          "state": {
            "_view_name": "HTMLView",
            "style": "IPY_MODEL_ea13f0ff0974432ba3e4c57ac76611e8",
            "_dom_classes": [],
            "description": "",
            "_model_name": "HTMLModel",
            "placeholder": "​",
            "_view_module": "@jupyter-widgets/controls",
            "_model_module_version": "1.5.0",
            "value": " 70/? [00:30&lt;00:00,  2.21it/s]",
            "_view_count": null,
            "_view_module_version": "1.5.0",
            "description_tooltip": null,
            "_model_module": "@jupyter-widgets/controls",
            "layout": "IPY_MODEL_38a4e025e62746e0b6112317d38a8031"
          }
        },
        "b9efdaf8fb9d4c36802283c837bb57d6": {
          "model_module": "@jupyter-widgets/controls",
          "model_name": "ProgressStyleModel",
          "state": {
            "_view_name": "StyleView",
            "_model_name": "ProgressStyleModel",
            "description_width": "initial",
            "_view_module": "@jupyter-widgets/base",
            "_model_module_version": "1.5.0",
            "_view_count": null,
            "_view_module_version": "1.2.0",
            "bar_color": null,
            "_model_module": "@jupyter-widgets/controls"
          }
        },
        "8959acffdeaf43f18ff77114f6a13133": {
          "model_module": "@jupyter-widgets/base",
          "model_name": "LayoutModel",
          "state": {
            "_view_name": "LayoutView",
            "grid_template_rows": null,
            "right": null,
            "justify_content": null,
            "_view_module": "@jupyter-widgets/base",
            "overflow": null,
            "_model_module_version": "1.2.0",
            "_view_count": null,
            "flex_flow": null,
            "width": null,
            "min_width": null,
            "border": null,
            "align_items": null,
            "bottom": null,
            "_model_module": "@jupyter-widgets/base",
            "top": null,
            "grid_column": null,
            "overflow_y": null,
            "overflow_x": null,
            "grid_auto_flow": null,
            "grid_area": null,
            "grid_template_columns": null,
            "flex": "2",
            "_model_name": "LayoutModel",
            "justify_items": null,
            "grid_row": null,
            "max_height": null,
            "align_content": null,
            "visibility": null,
            "align_self": null,
            "height": null,
            "min_height": null,
            "padding": null,
            "grid_auto_rows": null,
            "grid_gap": null,
            "max_width": null,
            "order": null,
            "_view_module_version": "1.2.0",
            "grid_template_areas": null,
            "object_position": null,
            "object_fit": null,
            "grid_auto_columns": null,
            "margin": null,
            "display": null,
            "left": null
          }
        },
        "ea13f0ff0974432ba3e4c57ac76611e8": {
          "model_module": "@jupyter-widgets/controls",
          "model_name": "DescriptionStyleModel",
          "state": {
            "_view_name": "StyleView",
            "_model_name": "DescriptionStyleModel",
            "description_width": "",
            "_view_module": "@jupyter-widgets/base",
            "_model_module_version": "1.5.0",
            "_view_count": null,
            "_view_module_version": "1.2.0",
            "_model_module": "@jupyter-widgets/controls"
          }
        },
        "38a4e025e62746e0b6112317d38a8031": {
          "model_module": "@jupyter-widgets/base",
          "model_name": "LayoutModel",
          "state": {
            "_view_name": "LayoutView",
            "grid_template_rows": null,
            "right": null,
            "justify_content": null,
            "_view_module": "@jupyter-widgets/base",
            "overflow": null,
            "_model_module_version": "1.2.0",
            "_view_count": null,
            "flex_flow": null,
            "width": null,
            "min_width": null,
            "border": null,
            "align_items": null,
            "bottom": null,
            "_model_module": "@jupyter-widgets/base",
            "top": null,
            "grid_column": null,
            "overflow_y": null,
            "overflow_x": null,
            "grid_auto_flow": null,
            "grid_area": null,
            "grid_template_columns": null,
            "flex": null,
            "_model_name": "LayoutModel",
            "justify_items": null,
            "grid_row": null,
            "max_height": null,
            "align_content": null,
            "visibility": null,
            "align_self": null,
            "height": null,
            "min_height": null,
            "padding": null,
            "grid_auto_rows": null,
            "grid_gap": null,
            "max_width": null,
            "order": null,
            "_view_module_version": "1.2.0",
            "grid_template_areas": null,
            "object_position": null,
            "object_fit": null,
            "grid_auto_columns": null,
            "margin": null,
            "display": null,
            "left": null
          }
        }
      }
    }
  },
  "cells": [
    {
      "cell_type": "markdown",
      "metadata": {
        "id": "view-in-github",
        "colab_type": "text"
      },
      "source": [
        "<a href=\"https://colab.research.google.com/github/devangi2000/Natural_Language_Processing/blob/master/RoBERTa_Fine_Tuning_Emotion_classification.ipynb\" target=\"_parent\"><img src=\"https://colab.research.google.com/assets/colab-badge.svg\" alt=\"Open In Colab\"/></a>"
      ]
    },
    {
      "cell_type": "markdown",
      "metadata": {
        "id": "Wj6eoKzotv5I"
      },
      "source": [
        "## Emotion Classification using Fine-tuned BERT model\n",
        "\n",
        "In this tutorial, I will show to fine-tune a language model (LM) for emotion classification with code adapted from this [tutorial](https://zablo.net/blog/post/custom-classifier-on-bert-model-guide-polemo2-sentiment-analysis/) by MARCIN ZABŁOCKI. I adapted his tutorial and modified the code to suit the emotion classification task using a different BERT model. Please refer to his tutorial for more detailed explanations for each code block. I really liked his tutorial because of the attention to detail and the use of high-level libraries to take care of certain parts of the model such as training and finding a good learning rate. \n",
        "\n",
        "Before you get started, make sure to enable `GPU` in the runtime and be sure to \n",
        "restart the runtime in this environment after installing the `pytorch-lr-finder` library.\n",
        "\n",
        "This tutorial is in a rough draft so if you find any issues with this tutorial or have any further questions reach out to me via [Twitter](https://twitter.com/omarsar0).\n"
      ]
    },
    {
      "cell_type": "code",
      "metadata": {
        "id": "G2tokZqttmTA"
      },
      "source": [
        "%%capture\n",
        "!pip install transformers tokenizers pytorch-lightning"
      ],
      "execution_count": 1,
      "outputs": []
    },
    {
      "cell_type": "code",
      "metadata": {
        "id": "k9ZKIIGvuW5m"
      },
      "source": [
        "## Note need to Restart runtime after running this code segment\n",
        "%%capture\n",
        "!git clone https://github.com/davidtvs/pytorch-lr-finder.git && cd pytorch-lr-finder && python setup.py install"
      ],
      "execution_count": 2,
      "outputs": []
    },
    {
      "cell_type": "code",
      "metadata": {
        "id": "qqRRWe4UuuIh",
        "colab": {
          "base_uri": "https://localhost:8080/",
          "height": 35
        },
        "outputId": "5f347210-4ec1-416a-ae0b-46156dcde1f8"
      },
      "source": [
        "import torch\n",
        "from torch import nn\n",
        "from typing import List\n",
        "import torch.nn.functional as F\n",
        "from transformers import DistilBertTokenizer, AutoTokenizer, AutoModelWithLMHead, DistilBertForSequenceClassification, AdamW, get_linear_schedule_with_warmup\n",
        "import logging\n",
        "import os\n",
        "from functools import lru_cache\n",
        "from tokenizers import ByteLevelBPETokenizer\n",
        "from tokenizers.processors import BertProcessing\n",
        "import pytorch_lightning as pl\n",
        "from torch.utils.data import DataLoader, Dataset\n",
        "import pandas as pd\n",
        "from argparse import Namespace\n",
        "from sklearn.metrics import classification_report\n",
        "torch.__version__"
      ],
      "execution_count": 3,
      "outputs": [
        {
          "output_type": "execute_result",
          "data": {
            "application/vnd.google.colaboratory.intrinsic+json": {
              "type": "string"
            },
            "text/plain": [
              "'1.7.0+cu101'"
            ]
          },
          "metadata": {
            "tags": []
          },
          "execution_count": 3
        }
      ]
    },
    {
      "cell_type": "markdown",
      "metadata": {
        "id": "_whSBDujRiga"
      },
      "source": [
        "## Load the Pretrained Language Model\n",
        "We are first going to look at pretrained language model provided by HuggingFace models. We will use a variant of BERT, called DistilRoBERTa base. The `base` model has less parameters than the `larger` model. \n",
        "\n",
        "[RoBERTa](https://arxiv.org/abs/1907.11692) is a variant of of BERT which \"*modifies key hyperparameters, removing the next-sentence pretraining objective and training with much larger mini-batches and learning rates*\".\n",
        "\n",
        "Knowledge distillation help to train smaller LMs with similar performance and potential."
      ]
    },
    {
      "cell_type": "markdown",
      "metadata": {
        "id": "BvHNcMckSR4M"
      },
      "source": [
        "First, let's load the tokenizer for this model:"
      ]
    },
    {
      "cell_type": "code",
      "metadata": {
        "id": "BPbTd5lmuzQn",
        "colab": {
          "base_uri": "https://localhost:8080/",
          "height": 215,
          "referenced_widgets": [
            "60ca3078c0d74f33b88ddfc124468173",
            "3e3b1baf80c54b8099b420c9be54bd1c",
            "f088382db04f42659eaaae6b6c30f1bb",
            "b89ec623be974a0da74ee5854ef889ac",
            "23abb31fc290433d9392f2483983c288",
            "5609506359164b9984b6c2278264905c",
            "5a3768fa0ef4449ca501836be8c9bf3b",
            "242af24e947b43a8aeef2b3c8eac3344",
            "dc2e9340382049f5b1f6e521548ea322",
            "36df1debe81b489a9cd5776f4c0caeed",
            "7fa424fb6671471fbe4164d3e62d1aba",
            "8f312ac6189f4400b9691d2948a1e71d",
            "9f8df27caa7b4687bb421202c73f3a28",
            "a59f606a03d84eb29b61a66d4f2623c3",
            "eaf680adfcae44e69b193793f585e51b",
            "1c644ef2cc63436d860276c42199bc86",
            "d2df38ff09d340baad6babcbe48f9f09",
            "58e59af0cb954f44bfc506528697e812",
            "93cdfa0f25d44fca92e35ecbbf700e17",
            "941886ceb18b486380f4719bd3161b7c",
            "43af62c9b1c444ae82c50d4ae1bc53c7",
            "a9ced7f2be664b8c92a2058719a71ddd",
            "244d02f817494cabae6882ab56e1f7f0",
            "a02944099333469680310722a974116c",
            "f4396ee241774ae189c73d935973251d",
            "ff773859ed044e5f9a84f4cb7cc9e114",
            "0e06748baecc4f77be33352fd6f7c10e",
            "c315e2197d6e4081bef0b3fc222bf42c",
            "44278e47e39c4e549203cb29f607fdf0",
            "3e0818de5a0847548a19b568779b7174",
            "9a8cf3f816964882bc6d71922064c7b1",
            "3efc310e4c53458b8709221dc4ba6f1e"
          ]
        },
        "outputId": "18af8aef-6d7f-4b67-a8bc-7a744e46585f"
      },
      "source": [
        "tokenizer = AutoTokenizer.from_pretrained('distilroberta-base')"
      ],
      "execution_count": 4,
      "outputs": [
        {
          "output_type": "display_data",
          "data": {
            "application/vnd.jupyter.widget-view+json": {
              "model_id": "60ca3078c0d74f33b88ddfc124468173",
              "version_minor": 0,
              "version_major": 2
            },
            "text/plain": [
              "HBox(children=(FloatProgress(value=0.0, description='Downloading', max=480.0, style=ProgressStyle(description_…"
            ]
          },
          "metadata": {
            "tags": []
          }
        },
        {
          "output_type": "stream",
          "text": [
            "\n"
          ],
          "name": "stdout"
        },
        {
          "output_type": "display_data",
          "data": {
            "application/vnd.jupyter.widget-view+json": {
              "model_id": "dc2e9340382049f5b1f6e521548ea322",
              "version_minor": 0,
              "version_major": 2
            },
            "text/plain": [
              "HBox(children=(FloatProgress(value=0.0, description='Downloading', max=898823.0, style=ProgressStyle(descripti…"
            ]
          },
          "metadata": {
            "tags": []
          }
        },
        {
          "output_type": "stream",
          "text": [
            "\n"
          ],
          "name": "stdout"
        },
        {
          "output_type": "display_data",
          "data": {
            "application/vnd.jupyter.widget-view+json": {
              "model_id": "d2df38ff09d340baad6babcbe48f9f09",
              "version_minor": 0,
              "version_major": 2
            },
            "text/plain": [
              "HBox(children=(FloatProgress(value=0.0, description='Downloading', max=456318.0, style=ProgressStyle(descripti…"
            ]
          },
          "metadata": {
            "tags": []
          }
        },
        {
          "output_type": "stream",
          "text": [
            "\n"
          ],
          "name": "stdout"
        },
        {
          "output_type": "display_data",
          "data": {
            "application/vnd.jupyter.widget-view+json": {
              "model_id": "f4396ee241774ae189c73d935973251d",
              "version_minor": 0,
              "version_major": 2
            },
            "text/plain": [
              "HBox(children=(FloatProgress(value=0.0, description='Downloading', max=1355863.0, style=ProgressStyle(descript…"
            ]
          },
          "metadata": {
            "tags": []
          }
        },
        {
          "output_type": "stream",
          "text": [
            "\n"
          ],
          "name": "stdout"
        }
      ]
    },
    {
      "cell_type": "markdown",
      "metadata": {
        "id": "7KAbKMqJSWRo"
      },
      "source": [
        "Now let's load the actual model with the LM head that takes care of the prediciton for the LM. When fine-tuning we don't use the head and instead use the base model. The code below shows how to do this:"
      ]
    },
    {
      "cell_type": "code",
      "metadata": {
        "id": "PCXYlMydzQlP",
        "colab": {
          "base_uri": "https://localhost:8080/",
          "height": 157,
          "referenced_widgets": [
            "699e99fd98d94267b330cfb678b31db8",
            "e498af1cab634e40b072404ee270114b",
            "51f3f4ec21e04466ada458e9198eb616",
            "b6222a847b0d4f4b8e471681816be7a6",
            "521552352f3e45eda2879dede6fce242",
            "347b09b5795348abb91fc4c31289732b",
            "fc11eeb6e5b344a1ad1fd64102d2eaf2",
            "2d41bbde0d4a4dcdb0a060027cb9dadf"
          ]
        },
        "outputId": "dae32f95-97aa-4033-ff69-394cd0649cc5"
      },
      "source": [
        "model = AutoModelWithLMHead.from_pretrained(\"distilroberta-base\")\n",
        "base_model = model.base_model"
      ],
      "execution_count": 5,
      "outputs": [
        {
          "output_type": "stream",
          "text": [
            "/usr/local/lib/python3.6/dist-packages/transformers/models/auto/modeling_auto.py:852: FutureWarning: The class `AutoModelWithLMHead` is deprecated and will be removed in a future version. Please use `AutoModelForCausalLM` for causal language models, `AutoModelForMaskedLM` for masked language models and `AutoModelForSeq2SeqLM` for encoder-decoder models.\n",
            "  FutureWarning,\n"
          ],
          "name": "stderr"
        },
        {
          "output_type": "display_data",
          "data": {
            "application/vnd.jupyter.widget-view+json": {
              "model_id": "699e99fd98d94267b330cfb678b31db8",
              "version_minor": 0,
              "version_major": 2
            },
            "text/plain": [
              "HBox(children=(FloatProgress(value=0.0, description='Downloading', max=331070498.0, style=ProgressStyle(descri…"
            ]
          },
          "metadata": {
            "tags": []
          }
        },
        {
          "output_type": "stream",
          "text": [
            "\n"
          ],
          "name": "stdout"
        },
        {
          "output_type": "stream",
          "text": [
            "Some weights of RobertaForMaskedLM were not initialized from the model checkpoint at distilroberta-base and are newly initialized: ['lm_head.decoder.bias']\n",
            "You should probably TRAIN this model on a down-stream task to be able to use it for predictions and inference.\n"
          ],
          "name": "stderr"
        }
      ]
    },
    {
      "cell_type": "markdown",
      "metadata": {
        "id": "K2_8S8BXSpNa"
      },
      "source": [
        "Let's now try out the tokenizer first:"
      ]
    },
    {
      "cell_type": "code",
      "metadata": {
        "id": "5fidSmH-zrY_",
        "colab": {
          "base_uri": "https://localhost:8080/"
        },
        "outputId": "846f4c7f-f9e3-481e-849b-bd3d793b1278"
      },
      "source": [
        "text = \"Elvis is the king of rock!\"\n",
        "enc = tokenizer.encode_plus(text)\n",
        "enc.keys()"
      ],
      "execution_count": 6,
      "outputs": [
        {
          "output_type": "execute_result",
          "data": {
            "text/plain": [
              "dict_keys(['input_ids', 'attention_mask'])"
            ]
          },
          "metadata": {
            "tags": []
          },
          "execution_count": 6
        }
      ]
    },
    {
      "cell_type": "code",
      "metadata": {
        "id": "m8F8yQCDTDQi",
        "colab": {
          "base_uri": "https://localhost:8080/"
        },
        "outputId": "f2c9c188-75ea-4173-f99e-8afd08105150"
      },
      "source": [
        "print(enc)"
      ],
      "execution_count": 7,
      "outputs": [
        {
          "output_type": "stream",
          "text": [
            "{'input_ids': [0, 9682, 9578, 16, 5, 8453, 9, 3152, 328, 2], 'attention_mask': [1, 1, 1, 1, 1, 1, 1, 1, 1, 1]}\n"
          ],
          "name": "stdout"
        }
      ]
    },
    {
      "cell_type": "markdown",
      "metadata": {
        "id": "P3wSCLKW0ndh"
      },
      "source": [
        "`input_ids` are the numerical encoding of the tokens in the vocabulary. `attention_mask` is an addition option used when batching sequences together and you want to tell the model which tokens should be attented to ([read more](https://huggingface.co/transformers/glossary.html#attention-mask)). The attention mask information helps when dealing with variance in the size of sequences and we need a way to tell the model that we don't want to attend to the padded indices of the sequence.\n",
        "\n",
        "We are only using `input_ids` and `attention_mask`\n",
        "\n",
        "We need to also unsqueeze to simulate batch processing\n",
        "\n",
        "Using DistilBertForSequenceClassification: https://huggingface.co/transformers/model_doc/distilbert.html#distilbertforsequenceclassification"
      ]
    },
    {
      "cell_type": "code",
      "metadata": {
        "id": "Mxsts4uT0PgA",
        "colab": {
          "base_uri": "https://localhost:8080/"
        },
        "outputId": "89113b58-c5e0-4b91-e7be-446507ffdea9"
      },
      "source": [
        "out = base_model(torch.tensor(enc[\"input_ids\"]).unsqueeze(0), torch.tensor(enc[\"attention_mask\"]).unsqueeze(0))\n",
        "out[0].shape"
      ],
      "execution_count": 8,
      "outputs": [
        {
          "output_type": "execute_result",
          "data": {
            "text/plain": [
              "torch.Size([1, 10, 768])"
            ]
          },
          "metadata": {
            "tags": []
          },
          "execution_count": 8
        }
      ]
    },
    {
      "cell_type": "code",
      "metadata": {
        "id": "ZiCO-n_1AHIf",
        "colab": {
          "base_uri": "https://localhost:8080/"
        },
        "outputId": "6a9f5b10-059f-4cbf-feb9-32d0e8987a2b"
      },
      "source": [
        "## size of representation of one of the tokens \n",
        "out[0][:,0,:].shape"
      ],
      "execution_count": 9,
      "outputs": [
        {
          "output_type": "execute_result",
          "data": {
            "text/plain": [
              "torch.Size([1, 768])"
            ]
          },
          "metadata": {
            "tags": []
          },
          "execution_count": 9
        }
      ]
    },
    {
      "cell_type": "markdown",
      "metadata": {
        "id": "srwIb9nr4g4t"
      },
      "source": [
        "`torch.Size([1, 768])` represents batch_size, number of tokens in input text (lenght of tokenized text), model's output hidden size."
      ]
    },
    {
      "cell_type": "code",
      "metadata": {
        "id": "iAsg0H6g53Bf",
        "colab": {
          "base_uri": "https://localhost:8080/"
        },
        "outputId": "b50a4c8e-d6df-4ad8-b01f-72a23047c0e1"
      },
      "source": [
        "t = \"Elvis is the king of rock\"\n",
        "enc = tokenizer.encode_plus(t)\n",
        "token_representations = base_model(torch.tensor(enc[\"input_ids\"]).unsqueeze(0))[0][0]\n",
        "print(enc[\"input_ids\"])\n",
        "print(tokenizer.decode(enc[\"input_ids\"]))\n",
        "print(f\"Length: {len(enc['input_ids'])}\")\n",
        "print(token_representations.shape)"
      ],
      "execution_count": 10,
      "outputs": [
        {
          "output_type": "stream",
          "text": [
            "[0, 9682, 9578, 16, 5, 8453, 9, 3152, 2]\n",
            "<s>Elvis is the king of rock</s>\n",
            "Length: 9\n",
            "torch.Size([9, 768])\n"
          ],
          "name": "stdout"
        }
      ]
    },
    {
      "cell_type": "markdown",
      "metadata": {
        "id": "9RFifOoY7Hsc"
      },
      "source": [
        "## Building Custom Classification head on top of LM base model"
      ]
    },
    {
      "cell_type": "markdown",
      "metadata": {
        "id": "vSUMm4Oq7nvR"
      },
      "source": [
        "Use Mish activiation function as in the one proposed in the original tutorial"
      ]
    },
    {
      "cell_type": "code",
      "metadata": {
        "id": "tCEDXLxq628O"
      },
      "source": [
        "# from https://github.com/digantamisra98/Mish/blob/b5f006660ac0b4c46e2c6958ad0301d7f9c59651/Mish/Torch/mish.py\n",
        "@torch.jit.script\n",
        "def mish(input):\n",
        "    return input * torch.tanh(F.softplus(input))\n",
        "  \n",
        "class Mish(nn.Module):\n",
        "    def forward(self, input):\n",
        "        return mish(input)"
      ],
      "execution_count": 11,
      "outputs": []
    },
    {
      "cell_type": "markdown",
      "metadata": {
        "id": "C6Ln6KWm74ku"
      },
      "source": [
        "The model we will use to do the fine-tuning"
      ]
    },
    {
      "cell_type": "code",
      "metadata": {
        "id": "9VDRSRsc71H2"
      },
      "source": [
        "class EmoModel(nn.Module):\n",
        "    def __init__(self, base_model, n_classes, base_model_output_size=768, dropout=0.05):\n",
        "        super().__init__()\n",
        "        self.base_model = base_model\n",
        "        \n",
        "        self.classifier = nn.Sequential(\n",
        "            nn.Dropout(dropout),\n",
        "            nn.Linear(base_model_output_size, base_model_output_size),\n",
        "            Mish(),\n",
        "            nn.Dropout(dropout),\n",
        "            nn.Linear(base_model_output_size, n_classes)\n",
        "        )\n",
        "        \n",
        "        for layer in self.classifier:\n",
        "            if isinstance(layer, nn.Linear):\n",
        "                layer.weight.data.normal_(mean=0.0, std=0.02)\n",
        "                if layer.bias is not None:\n",
        "                    layer.bias.data.zero_()\n",
        "\n",
        "    def forward(self, input_, *args):\n",
        "        X, attention_mask = input_\n",
        "        hidden_states = self.base_model(X, attention_mask=attention_mask)\n",
        "        \n",
        "        # maybe do some pooling / RNNs... go crazy here!\n",
        "        \n",
        "        # use the <s> representation\n",
        "        return self.classifier(hidden_states[0][:, 0, :])"
      ],
      "execution_count": 12,
      "outputs": []
    },
    {
      "cell_type": "markdown",
      "metadata": {
        "id": "wjgME-3O8Yfo"
      },
      "source": [
        "### Pretest the model with dummy text\n",
        "We want to ensure that the model is returing the right information back."
      ]
    },
    {
      "cell_type": "code",
      "metadata": {
        "id": "Y6H9eF8A8XeV",
        "colab": {
          "base_uri": "https://localhost:8080/"
        },
        "outputId": "fbcfa908-1b6f-40ff-d24a-e0bef6bda72d"
      },
      "source": [
        "classifier = EmoModel(AutoModelWithLMHead.from_pretrained(\"distilroberta-base\").base_model, 3)"
      ],
      "execution_count": 13,
      "outputs": [
        {
          "output_type": "stream",
          "text": [
            "/usr/local/lib/python3.6/dist-packages/transformers/models/auto/modeling_auto.py:852: FutureWarning: The class `AutoModelWithLMHead` is deprecated and will be removed in a future version. Please use `AutoModelForCausalLM` for causal language models, `AutoModelForMaskedLM` for masked language models and `AutoModelForSeq2SeqLM` for encoder-decoder models.\n",
            "  FutureWarning,\n",
            "Some weights of RobertaForMaskedLM were not initialized from the model checkpoint at distilroberta-base and are newly initialized: ['lm_head.decoder.bias']\n",
            "You should probably TRAIN this model on a down-stream task to be able to use it for predictions and inference.\n"
          ],
          "name": "stderr"
        }
      ]
    },
    {
      "cell_type": "code",
      "metadata": {
        "id": "-sjfHJ_L9iNH"
      },
      "source": [
        "X = torch.tensor(enc[\"input_ids\"]).unsqueeze(0).to('cpu')\n",
        "attn = torch.tensor(enc[\"attention_mask\"]).unsqueeze(0).to('cpu')"
      ],
      "execution_count": 14,
      "outputs": []
    },
    {
      "cell_type": "code",
      "metadata": {
        "id": "o6QhCuEC-y2z",
        "colab": {
          "base_uri": "https://localhost:8080/"
        },
        "outputId": "26ad38dc-c414-49af-ba84-73f234911ebe"
      },
      "source": [
        "classifier((X, attn))"
      ],
      "execution_count": 15,
      "outputs": [
        {
          "output_type": "execute_result",
          "data": {
            "text/plain": [
              "tensor([[ 0.0707, -0.0250, -0.0219]], grad_fn=<AddmmBackward>)"
            ]
          },
          "metadata": {
            "tags": []
          },
          "execution_count": 15
        }
      ]
    },
    {
      "cell_type": "markdown",
      "metadata": {
        "id": "I-N7WSY7Cb7v"
      },
      "source": [
        "## Prepare your dataset for fine-tuning"
      ]
    },
    {
      "cell_type": "code",
      "metadata": {
        "id": "jDWkjaLV-5tj"
      },
      "source": [
        "!mkdir -p tokenizer"
      ],
      "execution_count": 16,
      "outputs": []
    },
    {
      "cell_type": "code",
      "metadata": {
        "id": "wMMm5Ye1Db-m",
        "colab": {
          "base_uri": "https://localhost:8080/"
        },
        "outputId": "8c3b9d50-f26f-4c1d-d555-17efa809996e"
      },
      "source": [
        "## load pretrained tokenizer information\n",
        "tokenizer.save_pretrained(\"tokenizer\")"
      ],
      "execution_count": 17,
      "outputs": [
        {
          "output_type": "execute_result",
          "data": {
            "text/plain": [
              "('tokenizer/tokenizer_config.json',\n",
              " 'tokenizer/special_tokens_map.json',\n",
              " 'tokenizer/vocab.json',\n",
              " 'tokenizer/merges.txt',\n",
              " 'tokenizer/added_tokens.json')"
            ]
          },
          "metadata": {
            "tags": []
          },
          "execution_count": 17
        }
      ]
    },
    {
      "cell_type": "code",
      "metadata": {
        "id": "3FVtbmrzDkF8",
        "colab": {
          "base_uri": "https://localhost:8080/"
        },
        "outputId": "1dd3aeea-ecad-4460-dcc2-a5583d5b6f51"
      },
      "source": [
        "!ls tokenizer"
      ],
      "execution_count": 18,
      "outputs": [
        {
          "output_type": "stream",
          "text": [
            "merges.txt  special_tokens_map.json  tokenizer_config.json  vocab.json\n"
          ],
          "name": "stdout"
        }
      ]
    },
    {
      "cell_type": "markdown",
      "metadata": {
        "id": "BhTEgIaLEDRo"
      },
      "source": [
        "Implement CollateFN using fast tokenizers.\n",
        "This function basically takes care of proper tokenization and batches of sequences. This way you don't need to create your batches manually. Find out more about Tokenizers [here](https://github.com/huggingface/tokenizers/tree/master/bindings/python)."
      ]
    },
    {
      "cell_type": "code",
      "metadata": {
        "id": "3SCLBZsMDn4s"
      },
      "source": [
        "class TokenizersCollateFn:\n",
        "    def __init__(self, max_tokens=512):\n",
        "\n",
        "        ## RoBERTa uses BPE tokenizer similar to GPT\n",
        "        t = ByteLevelBPETokenizer(\n",
        "            \"tokenizer/vocab.json\",\n",
        "            \"tokenizer/merges.txt\"\n",
        "        )\n",
        "        t._tokenizer.post_processor = BertProcessing(\n",
        "            (\"</s>\", t.token_to_id(\"</s>\")),\n",
        "            (\"<s>\", t.token_to_id(\"<s>\")),\n",
        "        )\n",
        "        t.enable_truncation(max_tokens)\n",
        "        t.enable_padding(max_length=max_tokens, pad_id=t.token_to_id(\"<pad>\"))\n",
        "        self.tokenizer = t\n",
        "\n",
        "    def __call__(self, batch):\n",
        "        encoded = self.tokenizer.encode_batch([x[0] for x in batch])\n",
        "        sequences_padded = torch.tensor([enc.ids for enc in encoded])\n",
        "        attention_masks_padded = torch.tensor([enc.attention_mask for enc in encoded])\n",
        "        labels = torch.tensor([x[1] for x in batch])\n",
        "        \n",
        "        return (sequences_padded, attention_masks_padded), labels"
      ],
      "execution_count": 19,
      "outputs": []
    },
    {
      "cell_type": "markdown",
      "metadata": {
        "id": "4hu70Ng0Eqls"
      },
      "source": [
        "## Getting the Data and Preview it\n",
        "Below we are going to load the data and show you how to create the splits. However, we don't need to split the data manually becuase I have already created the splits and stored those files seperately which you can quickly download below:"
      ]
    },
    {
      "cell_type": "code",
      "metadata": {
        "id": "JZ3SoJH3fUsq",
        "colab": {
          "base_uri": "https://localhost:8080/"
        },
        "outputId": "a64333c0-39bb-43bf-9ed2-d23cd7c91593"
      },
      "source": [
        "!wget https://www.dropbox.com/s/ikkqxfdbdec3fuj/test.txt\n",
        "!wget https://www.dropbox.com/s/1pzkadrvffbqw6o/train.txt\n",
        "!wget https://www.dropbox.com/s/2mzialpsgf9k5l3/val.txt"
      ],
      "execution_count": 20,
      "outputs": [
        {
          "output_type": "stream",
          "text": [
            "--2020-12-01 18:13:01--  https://www.dropbox.com/s/ikkqxfdbdec3fuj/test.txt\n",
            "Resolving www.dropbox.com (www.dropbox.com)... 162.125.1.1, 2620:100:6016:1::a27d:101\n",
            "Connecting to www.dropbox.com (www.dropbox.com)|162.125.1.1|:443... connected.\n",
            "HTTP request sent, awaiting response... 301 Moved Permanently\n",
            "Location: /s/raw/ikkqxfdbdec3fuj/test.txt [following]\n",
            "--2020-12-01 18:13:01--  https://www.dropbox.com/s/raw/ikkqxfdbdec3fuj/test.txt\n",
            "Reusing existing connection to www.dropbox.com:443.\n",
            "HTTP request sent, awaiting response... 302 Found\n",
            "Location: https://ucbe613a54dab51a7a7beb3260f4.dl.dropboxusercontent.com/cd/0/inline/BESDWGhKxLyPeDG-hZve9l8syq_HMAYL_nHe5oyc8fZXDYKT1kZ0ueGly3g8M7XPGKuRlRAIcTq5JDq2hWTABnOVtr_7BqYG_6d6VG87_ArWvCotLalCS2BrFvcA3qDETe0/file# [following]\n",
            "--2020-12-01 18:13:01--  https://ucbe613a54dab51a7a7beb3260f4.dl.dropboxusercontent.com/cd/0/inline/BESDWGhKxLyPeDG-hZve9l8syq_HMAYL_nHe5oyc8fZXDYKT1kZ0ueGly3g8M7XPGKuRlRAIcTq5JDq2hWTABnOVtr_7BqYG_6d6VG87_ArWvCotLalCS2BrFvcA3qDETe0/file\n",
            "Resolving ucbe613a54dab51a7a7beb3260f4.dl.dropboxusercontent.com (ucbe613a54dab51a7a7beb3260f4.dl.dropboxusercontent.com)... 162.125.1.15, 2620:100:6016:15::a27d:10f\n",
            "Connecting to ucbe613a54dab51a7a7beb3260f4.dl.dropboxusercontent.com (ucbe613a54dab51a7a7beb3260f4.dl.dropboxusercontent.com)|162.125.1.15|:443... connected.\n",
            "HTTP request sent, awaiting response... 200 OK\n",
            "Length: 206760 (202K) [text/plain]\n",
            "Saving to: ‘test.txt’\n",
            "\n",
            "test.txt            100%[===================>] 201.91K  --.-KB/s    in 0.03s   \n",
            "\n",
            "2020-12-01 18:13:01 (7.88 MB/s) - ‘test.txt’ saved [206760/206760]\n",
            "\n",
            "--2020-12-01 18:13:02--  https://www.dropbox.com/s/1pzkadrvffbqw6o/train.txt\n",
            "Resolving www.dropbox.com (www.dropbox.com)... 162.125.1.1, 2620:100:6016:1::a27d:101\n",
            "Connecting to www.dropbox.com (www.dropbox.com)|162.125.1.1|:443... connected.\n",
            "HTTP request sent, awaiting response... 301 Moved Permanently\n",
            "Location: /s/raw/1pzkadrvffbqw6o/train.txt [following]\n",
            "--2020-12-01 18:13:02--  https://www.dropbox.com/s/raw/1pzkadrvffbqw6o/train.txt\n",
            "Reusing existing connection to www.dropbox.com:443.\n",
            "HTTP request sent, awaiting response... 302 Found\n",
            "Location: https://uca81c05bff20f9f36c109018a4e.dl.dropboxusercontent.com/cd/0/inline/BEQNKGeVHPyoEr6ItDifI9jwMgSt9r7txDp4BVWlvFjoQ_KuqFIPMPBRQGZCQeuwAB9Er9VbAZRex_yTEmZsCEeXoRfVl0Mp4U6m_VfNHfkX3I9LULtb9uAGmEaskH6rzS8/file# [following]\n",
            "--2020-12-01 18:13:02--  https://uca81c05bff20f9f36c109018a4e.dl.dropboxusercontent.com/cd/0/inline/BEQNKGeVHPyoEr6ItDifI9jwMgSt9r7txDp4BVWlvFjoQ_KuqFIPMPBRQGZCQeuwAB9Er9VbAZRex_yTEmZsCEeXoRfVl0Mp4U6m_VfNHfkX3I9LULtb9uAGmEaskH6rzS8/file\n",
            "Resolving uca81c05bff20f9f36c109018a4e.dl.dropboxusercontent.com (uca81c05bff20f9f36c109018a4e.dl.dropboxusercontent.com)... 162.125.1.15, 2620:100:6016:15::a27d:10f\n",
            "Connecting to uca81c05bff20f9f36c109018a4e.dl.dropboxusercontent.com (uca81c05bff20f9f36c109018a4e.dl.dropboxusercontent.com)|162.125.1.15|:443... connected.\n",
            "HTTP request sent, awaiting response... 200 OK\n",
            "Length: 1658616 (1.6M) [text/plain]\n",
            "Saving to: ‘train.txt’\n",
            "\n",
            "train.txt           100%[===================>]   1.58M  --.-KB/s    in 0.1s    \n",
            "\n",
            "2020-12-01 18:13:02 (11.7 MB/s) - ‘train.txt’ saved [1658616/1658616]\n",
            "\n",
            "--2020-12-01 18:13:02--  https://www.dropbox.com/s/2mzialpsgf9k5l3/val.txt\n",
            "Resolving www.dropbox.com (www.dropbox.com)... 162.125.1.1, 2620:100:6016:1::a27d:101\n",
            "Connecting to www.dropbox.com (www.dropbox.com)|162.125.1.1|:443... connected.\n",
            "HTTP request sent, awaiting response... 301 Moved Permanently\n",
            "Location: /s/raw/2mzialpsgf9k5l3/val.txt [following]\n",
            "--2020-12-01 18:13:03--  https://www.dropbox.com/s/raw/2mzialpsgf9k5l3/val.txt\n",
            "Reusing existing connection to www.dropbox.com:443.\n",
            "HTTP request sent, awaiting response... 302 Found\n",
            "Location: https://ucd073d3de31c8f4c27103d1b207.dl.dropboxusercontent.com/cd/0/inline/BEQCvf709HClBUnOMI5Ns8nlfvUOw0jLwoY7mCKCESwAKDQ7GnGjTOavwSCqhbRzEKs6vIWzrzZj_RtJxUFtJZW1KvUmmF7WBjJ26s9QrfZIEF5_vJMDN2fwf7ZUu-dBH0A/file# [following]\n",
            "--2020-12-01 18:13:03--  https://ucd073d3de31c8f4c27103d1b207.dl.dropboxusercontent.com/cd/0/inline/BEQCvf709HClBUnOMI5Ns8nlfvUOw0jLwoY7mCKCESwAKDQ7GnGjTOavwSCqhbRzEKs6vIWzrzZj_RtJxUFtJZW1KvUmmF7WBjJ26s9QrfZIEF5_vJMDN2fwf7ZUu-dBH0A/file\n",
            "Resolving ucd073d3de31c8f4c27103d1b207.dl.dropboxusercontent.com (ucd073d3de31c8f4c27103d1b207.dl.dropboxusercontent.com)... 162.125.1.15, 2620:100:6016:15::a27d:10f\n",
            "Connecting to ucd073d3de31c8f4c27103d1b207.dl.dropboxusercontent.com (ucd073d3de31c8f4c27103d1b207.dl.dropboxusercontent.com)|162.125.1.15|:443... connected.\n",
            "HTTP request sent, awaiting response... 200 OK\n",
            "Length: 204240 (199K) [text/plain]\n",
            "Saving to: ‘val.txt’\n",
            "\n",
            "val.txt             100%[===================>] 199.45K  --.-KB/s    in 0.03s   \n",
            "\n",
            "2020-12-01 18:13:03 (7.45 MB/s) - ‘val.txt’ saved [204240/204240]\n",
            "\n"
          ],
          "name": "stdout"
        }
      ]
    },
    {
      "cell_type": "code",
      "metadata": {
        "id": "r_03fxufWX_G"
      },
      "source": [
        "## export the datasets as txt files\n",
        "## EXERCISE: Change this to an address\n",
        "\n",
        "train_path = \"train.txt\"\n",
        "test_path = \"test.txt\"\n",
        "val_path = \"val.txt\"\n",
        "\n",
        "## emotion labels\n",
        "label2int = {\n",
        "  \"sadness\": 0,\n",
        "  \"joy\": 1,\n",
        "  \"love\": 2,\n",
        "  \"anger\": 3,\n",
        "  \"fear\": 4,\n",
        "  \"surprise\": 5\n",
        "}"
      ],
      "execution_count": 21,
      "outputs": []
    },
    {
      "cell_type": "code",
      "metadata": {
        "id": "t23zHggkEpc-",
        "colab": {
          "base_uri": "https://localhost:8080/"
        },
        "outputId": "ab3738e6-bffe-4220-bdc8-27d85e88737f"
      },
      "source": [
        "!wget https://www.dropbox.com/s/607ptdakxuh5i4s/merged_training.pkl"
      ],
      "execution_count": 22,
      "outputs": [
        {
          "output_type": "stream",
          "text": [
            "--2020-12-01 18:15:11--  https://www.dropbox.com/s/607ptdakxuh5i4s/merged_training.pkl\n",
            "Resolving www.dropbox.com (www.dropbox.com)... 162.125.1.1, 2620:100:6016:1::a27d:101\n",
            "Connecting to www.dropbox.com (www.dropbox.com)|162.125.1.1|:443... connected.\n",
            "HTTP request sent, awaiting response... 301 Moved Permanently\n",
            "Location: /s/raw/607ptdakxuh5i4s/merged_training.pkl [following]\n",
            "--2020-12-01 18:15:12--  https://www.dropbox.com/s/raw/607ptdakxuh5i4s/merged_training.pkl\n",
            "Reusing existing connection to www.dropbox.com:443.\n",
            "HTTP request sent, awaiting response... 302 Found\n",
            "Location: https://uce4af1a6618f66d8dfa67b04f05.dl.dropboxusercontent.com/cd/0/inline/BESUSI2qCyN0_-ZKDfpw2CGoDgaVKXZnyEP5ZsSHRlEBZ7BAQHcYFu7Q1fa4bsqLo1JzT6fF8mlaep88iFgEy-JKM2RHfA3-aJmepD8Ea3YNWdKpkeqofrmIwDi-FRU8b78/file# [following]\n",
            "--2020-12-01 18:15:12--  https://uce4af1a6618f66d8dfa67b04f05.dl.dropboxusercontent.com/cd/0/inline/BESUSI2qCyN0_-ZKDfpw2CGoDgaVKXZnyEP5ZsSHRlEBZ7BAQHcYFu7Q1fa4bsqLo1JzT6fF8mlaep88iFgEy-JKM2RHfA3-aJmepD8Ea3YNWdKpkeqofrmIwDi-FRU8b78/file\n",
            "Resolving uce4af1a6618f66d8dfa67b04f05.dl.dropboxusercontent.com (uce4af1a6618f66d8dfa67b04f05.dl.dropboxusercontent.com)... 162.125.1.15, 2620:100:6016:15::a27d:10f\n",
            "Connecting to uce4af1a6618f66d8dfa67b04f05.dl.dropboxusercontent.com (uce4af1a6618f66d8dfa67b04f05.dl.dropboxusercontent.com)|162.125.1.15|:443... connected.\n",
            "HTTP request sent, awaiting response... 302 Found\n",
            "Location: /cd/0/inline2/BEQGglON5zDdeXbDp_H5YJm-C50Ip-MbHfQS86HAt-JYUgPd7FmAEg0ynZQ340Z8LBhhv8cTdPRKe80SvT5dguW6aD2ahXXiPEngV5740etlFHU3khqL-AKlQ5W0ysyxxZqN4aLBT5cLpSQZON8W8jFQFau_452wtDKD8f-fdZ_j7nZJtdai-HoXMU5kwWZ3QIIluxBdsOUnm9iN_P8TmtOph6h2FLl0T2HKC-ylqhj94g9VrvKlBlOCQevIqOjpeH6lJturjYTO5A54uZi2jaNZiNGq2HQLgekVVCVUue9nufWiDsMUoQzmBpwPkjHY8YmXJF1z5V4d6DQ0pMuA9bFSVmgt4TwwbcTxgqTAQzPiJA/file [following]\n",
            "--2020-12-01 18:15:13--  https://uce4af1a6618f66d8dfa67b04f05.dl.dropboxusercontent.com/cd/0/inline2/BEQGglON5zDdeXbDp_H5YJm-C50Ip-MbHfQS86HAt-JYUgPd7FmAEg0ynZQ340Z8LBhhv8cTdPRKe80SvT5dguW6aD2ahXXiPEngV5740etlFHU3khqL-AKlQ5W0ysyxxZqN4aLBT5cLpSQZON8W8jFQFau_452wtDKD8f-fdZ_j7nZJtdai-HoXMU5kwWZ3QIIluxBdsOUnm9iN_P8TmtOph6h2FLl0T2HKC-ylqhj94g9VrvKlBlOCQevIqOjpeH6lJturjYTO5A54uZi2jaNZiNGq2HQLgekVVCVUue9nufWiDsMUoQzmBpwPkjHY8YmXJF1z5V4d6DQ0pMuA9bFSVmgt4TwwbcTxgqTAQzPiJA/file\n",
            "Reusing existing connection to uce4af1a6618f66d8dfa67b04f05.dl.dropboxusercontent.com:443.\n",
            "HTTP request sent, awaiting response... 200 OK\n",
            "Length: 49991846 (48M) [application/octet-stream]\n",
            "Saving to: ‘merged_training.pkl’\n",
            "\n",
            "merged_training.pkl 100%[===================>]  47.68M   149MB/s    in 0.3s    \n",
            "\n",
            "2020-12-01 18:15:14 (149 MB/s) - ‘merged_training.pkl’ saved [49991846/49991846]\n",
            "\n"
          ],
          "name": "stdout"
        }
      ]
    },
    {
      "cell_type": "code",
      "metadata": {
        "id": "PQrMSUTRF06B"
      },
      "source": [
        "import pickle\n",
        "\n",
        "## helper function\n",
        "def load_from_pickle(directory):\n",
        "    return pickle.load(open(directory,\"rb\"))"
      ],
      "execution_count": 23,
      "outputs": []
    },
    {
      "cell_type": "code",
      "metadata": {
        "id": "XGz89mNSHaYM",
        "colab": {
          "base_uri": "https://localhost:8080/",
          "height": 314
        },
        "outputId": "a06e7d4c-b32d-48f6-d880-34e43d8c89e5"
      },
      "source": [
        "data = load_from_pickle(directory=\"merged_training.pkl\")\n",
        "\n",
        "## using a sample\n",
        "emotions = [ \"sadness\", \"joy\", \"love\", \"anger\", \"fear\", \"surprise\"]\n",
        "data= data[data[\"emotions\"].isin(emotions)]\n",
        "\n",
        "\n",
        "data = data.sample(n=20000);\n",
        "\n",
        "data.emotions.value_counts().plot.bar()"
      ],
      "execution_count": 24,
      "outputs": [
        {
          "output_type": "execute_result",
          "data": {
            "text/plain": [
              "<matplotlib.axes._subplots.AxesSubplot at 0x7f63ea10bfd0>"
            ]
          },
          "metadata": {
            "tags": []
          },
          "execution_count": 24
        },
        {
          "output_type": "display_data",
          "data": {
            "image/png": "[encoded data removed]",
            "text/plain": [
              "<Figure size 432x288 with 1 Axes>"
            ]
          },
          "metadata": {
            "tags": [],
            "needs_background": "light"
          }
        }
      ]
    },
    {
      "cell_type": "code",
      "metadata": {
        "id": "Comaf36-Hb6X",
        "colab": {
          "base_uri": "https://localhost:8080/"
        },
        "outputId": "5d20a966-bc1f-48fb-b0aa-5df2e6bae122"
      },
      "source": [
        "data.count()"
      ],
      "execution_count": 25,
      "outputs": [
        {
          "output_type": "execute_result",
          "data": {
            "text/plain": [
              "text        20000\n",
              "emotions    20000\n",
              "dtype: int64"
            ]
          },
          "metadata": {
            "tags": []
          },
          "execution_count": 25
        }
      ]
    },
    {
      "cell_type": "markdown",
      "metadata": {
        "id": "jYxc8fx_H3ad"
      },
      "source": [
        "Data has been preprocessed already, using technique from this paper: https://www.aclweb.org/anthology/D18-1404/"
      ]
    },
    {
      "cell_type": "code",
      "metadata": {
        "id": "gYKK7ujRHfRt",
        "colab": {
          "base_uri": "https://localhost:8080/",
          "height": 197
        },
        "outputId": "e682de45-956c-4885-e258-e6eff1d6cc12"
      },
      "source": [
        "data.head()"
      ],
      "execution_count": 26,
      "outputs": [
        {
          "output_type": "execute_result",
          "data": {
            "text/html": [
              "<div>\n",
              "<style scoped>\n",
              "    .dataframe tbody tr th:only-of-type {\n",
              "        vertical-align: middle;\n",
              "    }\n",
              "\n",
              "    .dataframe tbody tr th {\n",
              "        vertical-align: top;\n",
              "    }\n",
              "\n",
              "    .dataframe thead th {\n",
              "        text-align: right;\n",
              "    }\n",
              "</style>\n",
              "<table border=\"1\" class=\"dataframe\">\n",
              "  <thead>\n",
              "    <tr style=\"text-align: right;\">\n",
              "      <th></th>\n",
              "      <th>text</th>\n",
              "      <th>emotions</th>\n",
              "    </tr>\n",
              "  </thead>\n",
              "  <tbody>\n",
              "    <tr>\n",
              "      <th>87205</th>\n",
              "      <td>i remember feeling so isolated staying in euro...</td>\n",
              "      <td>sadness</td>\n",
              "    </tr>\n",
              "    <tr>\n",
              "      <th>52616</th>\n",
              "      <td>im feeling aggravated with the end result of t...</td>\n",
              "      <td>anger</td>\n",
              "    </tr>\n",
              "    <tr>\n",
              "      <th>16504</th>\n",
              "      <td>i feel encaged by my petty life</td>\n",
              "      <td>anger</td>\n",
              "    </tr>\n",
              "    <tr>\n",
              "      <th>18971</th>\n",
              "      <td>i could feel sleep calling and i was so thrill...</td>\n",
              "      <td>joy</td>\n",
              "    </tr>\n",
              "    <tr>\n",
              "      <th>110871</th>\n",
              "      <td>im feelin discontent this is what im listening...</td>\n",
              "      <td>sadness</td>\n",
              "    </tr>\n",
              "  </tbody>\n",
              "</table>\n",
              "</div>"
            ],
            "text/plain": [
              "                                                     text emotions\n",
              "87205   i remember feeling so isolated staying in euro...  sadness\n",
              "52616   im feeling aggravated with the end result of t...    anger\n",
              "16504                     i feel encaged by my petty life    anger\n",
              "18971   i could feel sleep calling and i was so thrill...      joy\n",
              "110871  im feelin discontent this is what im listening...  sadness"
            ]
          },
          "metadata": {
            "tags": []
          },
          "execution_count": 26
        }
      ]
    },
    {
      "cell_type": "code",
      "metadata": {
        "id": "JXovcl56NFPp"
      },
      "source": [
        "## reset index\n",
        "data.reset_index(drop=True, inplace=True)"
      ],
      "execution_count": 27,
      "outputs": []
    },
    {
      "cell_type": "code",
      "metadata": {
        "id": "pSzoz9InH0Ta",
        "colab": {
          "base_uri": "https://localhost:8080/"
        },
        "outputId": "cad1a72b-ded9-409f-854a-f13e4e70a593"
      },
      "source": [
        "## check unique emotions in the dataset\n",
        "data.emotions.unique()"
      ],
      "execution_count": 28,
      "outputs": [
        {
          "output_type": "execute_result",
          "data": {
            "text/plain": [
              "array(['sadness', 'anger', 'joy', 'love', 'surprise', 'fear'],\n",
              "      dtype=object)"
            ]
          },
          "metadata": {
            "tags": []
          },
          "execution_count": 28
        }
      ]
    },
    {
      "cell_type": "markdown",
      "metadata": {
        "id": "rJm31gKShQus"
      },
      "source": [
        "## Split the data and store into individual text files"
      ]
    },
    {
      "cell_type": "code",
      "metadata": {
        "id": "6ooNxSnPiztL",
        "colab": {
          "base_uri": "https://localhost:8080/",
          "height": 124
        },
        "outputId": "97ec38a8-6220-4623-e101-b538d11f8a06"
      },
      "source": [
        "## uncomment the code below to generate the text files for your train, val, and test datasets.\n",
        "\n",
        "'''\n",
        "from sklearn.model_selection import train_test_split\n",
        "import numpy as np\n",
        "\n",
        "# Creating training and validation sets using an 80-20 split\n",
        "input_train, input_val, target_train, target_val = train_test_split(data.text.to_numpy(), \n",
        "                                                                    data.emotions.to_numpy(), \n",
        "                                                                    test_size=0.2)\n",
        "\n",
        "# Split the validataion further to obtain a holdout dataset (for testing) -- split 50:50\n",
        "input_val, input_test, target_val, target_test = train_test_split(input_val, target_val, test_size=0.5)\n",
        "\n",
        "\n",
        "## create a dataframe for each dataset\n",
        "train_dataset = pd.DataFrame(data={\"text\": input_train, \"class\": target_train})\n",
        "val_dataset = pd.DataFrame(data={\"text\": input_val, \"class\": target_val})\n",
        "test_dataset = pd.DataFrame(data={\"text\": input_test, \"class\": target_test})\n",
        "final_dataset = {\"train\": train_dataset, \"val\": val_dataset , \"test\": test_dataset }\n",
        "\n",
        "train_dataset.to_csv(train_path, sep=\";\",header=False, index=False)\n",
        "val_dataset.to_csv(test_path, sep=\";\",header=False, index=False)\n",
        "test_dataset.to_csv(val_path, sep=\";\",header=False, index=False)\n",
        "'''"
      ],
      "execution_count": 29,
      "outputs": [
        {
          "output_type": "execute_result",
          "data": {
            "application/vnd.google.colaboratory.intrinsic+json": {
              "type": "string"
            },
            "text/plain": [
              "'\\nfrom sklearn.model_selection import train_test_split\\nimport numpy as np\\n\\n# Creating training and validation sets using an 80-20 split\\ninput_train, input_val, target_train, target_val = train_test_split(data.text.to_numpy(), \\n                                                                    data.emotions.to_numpy(), \\n                                                                    test_size=0.2)\\n\\n# Split the validataion further to obtain a holdout dataset (for testing) -- split 50:50\\ninput_val, input_test, target_val, target_test = train_test_split(input_val, target_val, test_size=0.5)\\n\\n\\n## create a dataframe for each dataset\\ntrain_dataset = pd.DataFrame(data={\"text\": input_train, \"class\": target_train})\\nval_dataset = pd.DataFrame(data={\"text\": input_val, \"class\": target_val})\\ntest_dataset = pd.DataFrame(data={\"text\": input_test, \"class\": target_test})\\nfinal_dataset = {\"train\": train_dataset, \"val\": val_dataset , \"test\": test_dataset }\\n\\ntrain_dataset.to_csv(train_path, sep=\";\",header=False, index=False)\\nval_dataset.to_csv(test_path, sep=\";\",header=False, index=False)\\ntest_dataset.to_csv(val_path, sep=\";\",header=False, index=False)\\n'"
            ]
          },
          "metadata": {
            "tags": []
          },
          "execution_count": 29
        }
      ]
    },
    {
      "cell_type": "markdown",
      "metadata": {
        "id": "rAD1J6c0dLp8"
      },
      "source": [
        "## Create the Dataset object"
      ]
    },
    {
      "cell_type": "markdown",
      "metadata": {
        "id": "aOOI69vwIYcN"
      },
      "source": [
        "Create the Dataset object that will be used to load the different datasets."
      ]
    },
    {
      "cell_type": "code",
      "metadata": {
        "id": "Ktr6xeMuISin"
      },
      "source": [
        "class EmoDataset(Dataset):\n",
        "    def __init__(self, path):\n",
        "        super().__init__()\n",
        "        self.data_column = \"text\"\n",
        "        self.class_column = \"class\"\n",
        "        self.data = pd.read_csv(path, sep=\";\", header=None, names=[self.data_column, self.class_column],\n",
        "                               engine=\"python\")\n",
        "\n",
        "    def __getitem__(self, idx):\n",
        "        return self.data.loc[idx, self.data_column], label2int[self.data.loc[idx, self.class_column]]\n",
        "\n",
        "    def __len__(self):\n",
        "        return self.data.shape[0]"
      ],
      "execution_count": 30,
      "outputs": []
    },
    {
      "cell_type": "markdown",
      "metadata": {
        "id": "9EYQRq3qJH7n"
      },
      "source": [
        "Sanity check"
      ]
    },
    {
      "cell_type": "code",
      "metadata": {
        "id": "uGWw4wGEJGhJ",
        "colab": {
          "base_uri": "https://localhost:8080/"
        },
        "outputId": "e94d84e6-1d9a-43a2-fcbc-3b7ce8cde1d6"
      },
      "source": [
        "ds = EmoDataset(train_path)\n",
        "ds[19]"
      ],
      "execution_count": 31,
      "outputs": [
        {
          "output_type": "execute_result",
          "data": {
            "text/plain": [
              "('i now feel compromised and skeptical of the value of every unit of work i put in',\n",
              " 4)"
            ]
          },
          "metadata": {
            "tags": []
          },
          "execution_count": 31
        }
      ]
    },
    {
      "cell_type": "markdown",
      "metadata": {
        "id": "0h6tTn9hd6v8"
      },
      "source": [
        "## Training with PyTorchLightning\n",
        "\n",
        "PyTorchLightning is just a library that abstracts the complexity of training neural networks with PyTorch. It is built on top of PyTorch and simplifies training.\n",
        "\n",
        "![](https://pytorch-lightning.readthedocs.io/en/latest/_images/pt_to_pl.png)"
      ]
    },
    {
      "cell_type": "code",
      "metadata": {
        "id": "RJHhNRcZK7sV"
      },
      "source": [
        "## Methods required by PyTorchLightning\n",
        "\n",
        "class TrainingModule(pl.LightningModule):\n",
        "    def __init__(self, hparams):\n",
        "        super().__init__()\n",
        "        self.model = EmoModel(AutoModelWithLMHead.from_pretrained(\"distilroberta-base\").base_model, len(emotions))\n",
        "        self.loss = nn.CrossEntropyLoss() ## combines LogSoftmax() and NLLLoss()\n",
        "        self.hparams = hparams\n",
        "\n",
        "    def step(self, batch, step_name=\"train\"):\n",
        "        X, y = batch\n",
        "        loss = self.loss(self.forward(X), y)\n",
        "        loss_key = f\"{step_name}_loss\"\n",
        "        tensorboard_logs = {loss_key: loss}\n",
        "\n",
        "        return { (\"loss\" if step_name == \"train\" else loss_key): loss, 'log': tensorboard_logs,\n",
        "               \"progress_bar\": {loss_key: loss}}\n",
        "\n",
        "    def forward(self, X, *args):\n",
        "        return self.model(X, *args)\n",
        "\n",
        "    def training_step(self, batch, batch_idx):\n",
        "        return self.step(batch, \"train\")\n",
        "    \n",
        "    def validation_step(self, batch, batch_idx):\n",
        "        return self.step(batch, \"val\")\n",
        "\n",
        "    def validation_end(self, outputs: List[dict]):\n",
        "        loss = torch.stack([x[\"val_loss\"] for x in outputs]).mean()\n",
        "        return {\"val_loss\": loss}\n",
        "        \n",
        "    def test_step(self, batch, batch_idx):\n",
        "        return self.step(batch, \"test\")\n",
        "    \n",
        "    def train_dataloader(self):\n",
        "        return self.create_data_loader(self.hparams.train_path, shuffle=True)\n",
        "\n",
        "    def val_dataloader(self):\n",
        "        return self.create_data_loader(self.hparams.val_path)\n",
        "\n",
        "    def test_dataloader(self):\n",
        "        return self.create_data_loader(self.hparams.test_path)\n",
        "                \n",
        "    def create_data_loader(self, ds_path: str, shuffle=False):\n",
        "        return DataLoader(\n",
        "                    EmoDataset(ds_path),\n",
        "                    batch_size=self.hparams.batch_size,\n",
        "                    shuffle=shuffle,\n",
        "                    collate_fn=TokenizersCollateFn()\n",
        "        )\n",
        "        \n",
        "    @lru_cache()\n",
        "    def total_steps(self):\n",
        "        return len(self.train_dataloader()) // self.hparams.accumulate_grad_batches * self.hparams.epochs\n",
        "\n",
        "    def configure_optimizers(self):\n",
        "        ## use AdamW optimizer -- faster approach to training NNs\n",
        "        ## read: https://www.fast.ai/2018/07/02/adam-weight-decay/\n",
        "        optimizer = AdamW(self.model.parameters(), lr=self.hparams.lr)\n",
        "        lr_scheduler = get_linear_schedule_with_warmup(\n",
        "                    optimizer,\n",
        "                    num_warmup_steps=self.hparams.warmup_steps,\n",
        "                    num_training_steps=self.total_steps(),\n",
        "        )\n",
        "        return [optimizer], [{\"scheduler\": lr_scheduler, \"interval\": \"step\"}]"
      ],
      "execution_count": 32,
      "outputs": []
    },
    {
      "cell_type": "markdown",
      "metadata": {
        "id": "OGc7Vw1moHxr"
      },
      "source": [
        "## Finding Learning rate for the model\n",
        "\n",
        "The code below aims to obtain valuable information about the optimal learning rate during a pretraining run. Determine boundary and increase the leanring rate linearly or exponentially.\n",
        "\n",
        "More: https://github.com/davidtvs/pytorch-lr-finder"
      ]
    },
    {
      "cell_type": "code",
      "metadata": {
        "id": "ubErLhz9hLJ1",
        "outputId": "7c94b880-f9b5-435b-a8e0-7b99921d8167",
        "colab": {
          "base_uri": "https://localhost:8080/"
        }
      },
      "source": [
        "!pip install torch_lr_finder"
      ],
      "execution_count": 34,
      "outputs": [
        {
          "output_type": "stream",
          "text": [
            "Requirement already satisfied: torch_lr_finder in /usr/local/lib/python3.6/dist-packages/torch_lr_finder-0.2.1-py3.6.egg (0.2.1)\n",
            "Requirement already satisfied: matplotlib in /usr/local/lib/python3.6/dist-packages (from torch_lr_finder) (3.2.2)\n",
            "Requirement already satisfied: numpy in /usr/local/lib/python3.6/dist-packages (from torch_lr_finder) (1.18.5)\n",
            "Requirement already satisfied: torch>=0.4.1 in /usr/local/lib/python3.6/dist-packages (from torch_lr_finder) (1.7.0+cu101)\n",
            "Requirement already satisfied: tqdm in /usr/local/lib/python3.6/dist-packages (from torch_lr_finder) (4.41.1)\n",
            "Requirement already satisfied: packaging in /usr/local/lib/python3.6/dist-packages (from torch_lr_finder) (20.4)\n",
            "Requirement already satisfied: cycler>=0.10 in /usr/local/lib/python3.6/dist-packages (from matplotlib->torch_lr_finder) (0.10.0)\n",
            "Requirement already satisfied: pyparsing!=2.0.4,!=2.1.2,!=2.1.6,>=2.0.1 in /usr/local/lib/python3.6/dist-packages (from matplotlib->torch_lr_finder) (2.4.7)\n",
            "Requirement already satisfied: kiwisolver>=1.0.1 in /usr/local/lib/python3.6/dist-packages (from matplotlib->torch_lr_finder) (1.3.1)\n",
            "Requirement already satisfied: python-dateutil>=2.1 in /usr/local/lib/python3.6/dist-packages (from matplotlib->torch_lr_finder) (2.8.1)\n",
            "Requirement already satisfied: typing-extensions in /usr/local/lib/python3.6/dist-packages (from torch>=0.4.1->torch_lr_finder) (3.7.4.3)\n",
            "Requirement already satisfied: dataclasses in /usr/local/lib/python3.6/dist-packages (from torch>=0.4.1->torch_lr_finder) (0.8)\n",
            "Requirement already satisfied: future in /usr/local/lib/python3.6/dist-packages (from torch>=0.4.1->torch_lr_finder) (0.18.2)\n",
            "Requirement already satisfied: six in /usr/local/lib/python3.6/dist-packages (from packaging->torch_lr_finder) (1.15.0)\n"
          ],
          "name": "stdout"
        }
      ]
    },
    {
      "cell_type": "code",
      "metadata": {
        "id": "xL4lNPDFoFyU",
        "colab": {
          "base_uri": "https://localhost:8080/",
          "height": 330
        },
        "outputId": "8af62310-0819-4267-8a59-a99646c2ed0d"
      },
      "source": [
        "lr=0.1 ## uper bound LR\n",
        "#from torch_lr_finder import LRFinder\n",
        "hparams_tmp = Namespace(\n",
        "    train_path=train_path,\n",
        "    val_path=val_path,\n",
        "    test_path=test_path,\n",
        "    batch_size=16,\n",
        "    warmup_steps=100,\n",
        "    epochs=1,\n",
        "    lr=lr,\n",
        "    accumulate_grad_batches=1,\n",
        ")\n",
        "module = TrainingModule(hparams_tmp)\n",
        "criterion = nn.CrossEntropyLoss()\n",
        "optimizer = AdamW(module.parameters(), lr=5e-7) ## lower bound LR\n",
        "lr_finder = torch_lr_finder.LRFinder(module, optimizer, criterion, device=\"cuda\")\n",
        "lr_finder.range_test(module.train_dataloader(), end_lr=100, num_iter=100, accumulation_steps=hparams_tmp.accumulate_grad_batches)\n",
        "lr_finder.plot()\n",
        "lr_finder.reset()"
      ],
      "execution_count": 41,
      "outputs": [
        {
          "output_type": "stream",
          "text": [
            "/usr/local/lib/python3.6/dist-packages/transformers/models/auto/modeling_auto.py:852: FutureWarning: The class `AutoModelWithLMHead` is deprecated and will be removed in a future version. Please use `AutoModelForCausalLM` for causal language models, `AutoModelForMaskedLM` for masked language models and `AutoModelForSeq2SeqLM` for encoder-decoder models.\n",
            "  FutureWarning,\n",
            "Some weights of RobertaForMaskedLM were not initialized from the model checkpoint at distilroberta-base and are newly initialized: ['lm_head.decoder.bias']\n",
            "You should probably TRAIN this model on a down-stream task to be able to use it for predictions and inference.\n"
          ],
          "name": "stderr"
        },
        {
          "output_type": "error",
          "ename": "NameError",
          "evalue": "ignored",
          "traceback": [
            "\u001b[0;31m---------------------------------------------------------------------------\u001b[0m",
            "\u001b[0;31mNameError\u001b[0m                                 Traceback (most recent call last)",
            "\u001b[0;32m<ipython-input-41-f5caa98a658c>\u001b[0m in \u001b[0;36m<module>\u001b[0;34m()\u001b[0m\n\u001b[1;32m     14\u001b[0m \u001b[0mcriterion\u001b[0m \u001b[0;34m=\u001b[0m \u001b[0mnn\u001b[0m\u001b[0;34m.\u001b[0m\u001b[0mCrossEntropyLoss\u001b[0m\u001b[0;34m(\u001b[0m\u001b[0;34m)\u001b[0m\u001b[0;34m\u001b[0m\u001b[0;34m\u001b[0m\u001b[0m\n\u001b[1;32m     15\u001b[0m \u001b[0moptimizer\u001b[0m \u001b[0;34m=\u001b[0m \u001b[0mAdamW\u001b[0m\u001b[0;34m(\u001b[0m\u001b[0mmodule\u001b[0m\u001b[0;34m.\u001b[0m\u001b[0mparameters\u001b[0m\u001b[0;34m(\u001b[0m\u001b[0;34m)\u001b[0m\u001b[0;34m,\u001b[0m \u001b[0mlr\u001b[0m\u001b[0;34m=\u001b[0m\u001b[0;36m5e-7\u001b[0m\u001b[0;34m)\u001b[0m \u001b[0;31m## lower bound LR\u001b[0m\u001b[0;34m\u001b[0m\u001b[0;34m\u001b[0m\u001b[0m\n\u001b[0;32m---> 16\u001b[0;31m \u001b[0mlr_finder\u001b[0m \u001b[0;34m=\u001b[0m \u001b[0mtorch_lr_finder\u001b[0m\u001b[0;34m.\u001b[0m\u001b[0mLRFinder\u001b[0m\u001b[0;34m(\u001b[0m\u001b[0mmodule\u001b[0m\u001b[0;34m,\u001b[0m \u001b[0moptimizer\u001b[0m\u001b[0;34m,\u001b[0m \u001b[0mcriterion\u001b[0m\u001b[0;34m,\u001b[0m \u001b[0mdevice\u001b[0m\u001b[0;34m=\u001b[0m\u001b[0;34m\"cuda\"\u001b[0m\u001b[0;34m)\u001b[0m\u001b[0;34m\u001b[0m\u001b[0;34m\u001b[0m\u001b[0m\n\u001b[0m\u001b[1;32m     17\u001b[0m \u001b[0mlr_finder\u001b[0m\u001b[0;34m.\u001b[0m\u001b[0mrange_test\u001b[0m\u001b[0;34m(\u001b[0m\u001b[0mmodule\u001b[0m\u001b[0;34m.\u001b[0m\u001b[0mtrain_dataloader\u001b[0m\u001b[0;34m(\u001b[0m\u001b[0;34m)\u001b[0m\u001b[0;34m,\u001b[0m \u001b[0mend_lr\u001b[0m\u001b[0;34m=\u001b[0m\u001b[0;36m100\u001b[0m\u001b[0;34m,\u001b[0m \u001b[0mnum_iter\u001b[0m\u001b[0;34m=\u001b[0m\u001b[0;36m100\u001b[0m\u001b[0;34m,\u001b[0m \u001b[0maccumulation_steps\u001b[0m\u001b[0;34m=\u001b[0m\u001b[0mhparams_tmp\u001b[0m\u001b[0;34m.\u001b[0m\u001b[0maccumulate_grad_batches\u001b[0m\u001b[0;34m)\u001b[0m\u001b[0;34m\u001b[0m\u001b[0;34m\u001b[0m\u001b[0m\n\u001b[1;32m     18\u001b[0m \u001b[0mlr_finder\u001b[0m\u001b[0;34m.\u001b[0m\u001b[0mplot\u001b[0m\u001b[0;34m(\u001b[0m\u001b[0;34m)\u001b[0m\u001b[0;34m\u001b[0m\u001b[0;34m\u001b[0m\u001b[0m\n",
            "\u001b[0;31mNameError\u001b[0m: name 'torch_lr_finder' is not defined"
          ]
        }
      ]
    },
    {
      "cell_type": "code",
      "metadata": {
        "id": "YdqP56M1oXav",
        "colab": {
          "base_uri": "https://localhost:8080/"
        },
        "outputId": "d4bfa9fe-b524-4c9c-9209-8f8dbdde353b"
      },
      "source": [
        "lr = 1e-4 \n",
        "lr"
      ],
      "execution_count": 36,
      "outputs": [
        {
          "output_type": "execute_result",
          "data": {
            "text/plain": [
              "0.0001"
            ]
          },
          "metadata": {
            "tags": []
          },
          "execution_count": 36
        }
      ]
    },
    {
      "cell_type": "code",
      "metadata": {
        "id": "vMab6vu0Bow0",
        "colab": {
          "base_uri": "https://localhost:8080/",
          "height": 167
        },
        "outputId": "fd8ca9aa-b931-4802-8c2e-bd6d686736f9"
      },
      "source": [
        "lr_finder.plot(show_lr=lr)"
      ],
      "execution_count": 37,
      "outputs": [
        {
          "output_type": "error",
          "ename": "NameError",
          "evalue": "ignored",
          "traceback": [
            "\u001b[0;31m---------------------------------------------------------------------------\u001b[0m",
            "\u001b[0;31mNameError\u001b[0m                                 Traceback (most recent call last)",
            "\u001b[0;32m<ipython-input-37-fff6fd8bc4c1>\u001b[0m in \u001b[0;36m<module>\u001b[0;34m()\u001b[0m\n\u001b[0;32m----> 1\u001b[0;31m \u001b[0mlr_finder\u001b[0m\u001b[0;34m.\u001b[0m\u001b[0mplot\u001b[0m\u001b[0;34m(\u001b[0m\u001b[0mshow_lr\u001b[0m\u001b[0;34m=\u001b[0m\u001b[0mlr\u001b[0m\u001b[0;34m)\u001b[0m\u001b[0;34m\u001b[0m\u001b[0;34m\u001b[0m\u001b[0m\n\u001b[0m",
            "\u001b[0;31mNameError\u001b[0m: name 'lr_finder' is not defined"
          ]
        }
      ]
    },
    {
      "cell_type": "markdown",
      "metadata": {
        "id": "ZhHutCseBxjJ"
      },
      "source": [
        "## Training the Emotion Classifier"
      ]
    },
    {
      "cell_type": "code",
      "metadata": {
        "id": "q3FiLr3LBrjs",
        "colab": {
          "base_uri": "https://localhost:8080/",
          "height": 1000
        },
        "outputId": "f58b5fec-a2d3-4fbb-a0c9-bc1c8bc23e9b"
      },
      "source": [
        "hparams = Namespace(\n",
        "    train_path=train_path,\n",
        "    val_path=val_path,\n",
        "    test_path=test_path,\n",
        "    batch_size=32,\n",
        "    warmup_steps=100,\n",
        "    epochs=1,\n",
        "    lr=lr,\n",
        "    accumulate_grad_batches=1\n",
        ")\n",
        "module = TrainingModule(hparams)"
      ],
      "execution_count": null,
      "outputs": [
        {
          "output_type": "stream",
          "text": [
            "INFO:transformers.configuration_utils:loading configuration file https://s3.amazonaws.com/models.huggingface.co/bert/distilroberta-base-config.json from cache at /root/.cache/torch/transformers/d52ced8fd31ba6aa311b6eeeae65178cca00ddd6333c087be4601dc46c20bd96.deeb956b92b63ef883f183df980353df2c982e37e78a00189cf9146088df28dd\n",
            "INFO:transformers.configuration_utils:Model config RobertaConfig {\n",
            "  \"_num_labels\": 2,\n",
            "  \"architectures\": [\n",
            "    \"RobertaForMaskedLM\"\n",
            "  ],\n",
            "  \"attention_probs_dropout_prob\": 0.1,\n",
            "  \"bad_words_ids\": null,\n",
            "  \"bos_token_id\": 0,\n",
            "  \"decoder_start_token_id\": null,\n",
            "  \"do_sample\": false,\n",
            "  \"early_stopping\": false,\n",
            "  \"eos_token_id\": 2,\n",
            "  \"finetuning_task\": null,\n",
            "  \"hidden_act\": \"gelu\",\n",
            "  \"hidden_dropout_prob\": 0.1,\n",
            "  \"hidden_size\": 768,\n",
            "  \"id2label\": {\n",
            "    \"0\": \"LABEL_0\",\n",
            "    \"1\": \"LABEL_1\"\n",
            "  },\n",
            "  \"initializer_range\": 0.02,\n",
            "  \"intermediate_size\": 3072,\n",
            "  \"is_decoder\": false,\n",
            "  \"is_encoder_decoder\": false,\n",
            "  \"label2id\": {\n",
            "    \"LABEL_0\": 0,\n",
            "    \"LABEL_1\": 1\n",
            "  },\n",
            "  \"layer_norm_eps\": 1e-05,\n",
            "  \"length_penalty\": 1.0,\n",
            "  \"max_length\": 20,\n",
            "  \"max_position_embeddings\": 514,\n",
            "  \"min_length\": 0,\n",
            "  \"model_type\": \"roberta\",\n",
            "  \"no_repeat_ngram_size\": 0,\n",
            "  \"num_attention_heads\": 12,\n",
            "  \"num_beams\": 1,\n",
            "  \"num_hidden_layers\": 6,\n",
            "  \"num_return_sequences\": 1,\n",
            "  \"output_attentions\": false,\n",
            "  \"output_hidden_states\": false,\n",
            "  \"output_past\": true,\n",
            "  \"pad_token_id\": 1,\n",
            "  \"prefix\": null,\n",
            "  \"pruned_heads\": {},\n",
            "  \"repetition_penalty\": 1.0,\n",
            "  \"task_specific_params\": null,\n",
            "  \"temperature\": 1.0,\n",
            "  \"top_k\": 50,\n",
            "  \"top_p\": 1.0,\n",
            "  \"torchscript\": false,\n",
            "  \"type_vocab_size\": 1,\n",
            "  \"use_bfloat16\": false,\n",
            "  \"vocab_size\": 50265\n",
            "}\n",
            "\n",
            "INFO:transformers.modeling_utils:loading weights file https://s3.amazonaws.com/models.huggingface.co/bert/distilroberta-base-pytorch_model.bin from cache at /root/.cache/torch/transformers/98d2960e6de3e0a3a34b8566dff60ab2fa946e85134dd5e4722c54ff58044a96.52b6ec356fb91985b3940e086d1b2ebf8cd40f8df0ba1cabf4cac27769dee241\n",
            "INFO:transformers.modeling_utils:Weights of RobertaForMaskedLM not initialized from pretrained model: ['lm_head.decoder.bias']\n"
          ],
          "name": "stderr"
        }
      ]
    },
    {
      "cell_type": "code",
      "metadata": {
        "id": "N8Jv_U25B37g"
      },
      "source": [
        "## garbage collection\n",
        "import gc; gc.collect()\n",
        "torch.cuda.empty_cache()"
      ],
      "execution_count": null,
      "outputs": []
    },
    {
      "cell_type": "code",
      "metadata": {
        "id": "oRnl4HXvB5-T",
        "colab": {
          "base_uri": "https://localhost:8080/",
          "height": 1000,
          "referenced_widgets": [
            "d3c6d5e1e2bd4a09981ee17209974425",
            "e8c783b17fb443f6b49b4c00c13fbe18",
            "7cae15fb80044c88926a2fb4d0df3e94",
            "cab617a1479b4a91bcc3aed49ba151e4",
            "fbac354e195745039b388636bc2d6003",
            "b6a3ee9540d54bba9c1c8cdbbb961718",
            "8bad51bfe00a4e109c5d147e4a0ea97d",
            "b2d07740bccc43c8be9c9a4fee3d204b",
            "62f4800d3da74fb0beee8a44b1e59a63",
            "a858066a742b48a0a7f24fcfd3f15cb4",
            "18f05acf778a44e2a9ef9b0211275016",
            "44d5a66d73724261b5c173459cf595e2",
            "00adf9f695fb4a228ea400efa945a98d",
            "000905de48d142199e7f4ffebe1b33e0",
            "18657260dd794fc4b5a8f351facada72",
            "bd27a3ca21c342098bbe69072e8c5850",
            "6589bb96cbd646db94b1c7b7b2ab44c8",
            "62bf988d4b3a452cbe6c79e5d1b6e415",
            "942e1f0976df4c1a887b2ff8602cd154",
            "e3bf950fe3db47759f2e9e30a94280d3",
            "b9efdaf8fb9d4c36802283c837bb57d6",
            "8959acffdeaf43f18ff77114f6a13133",
            "ea13f0ff0974432ba3e4c57ac76611e8",
            "38a4e025e62746e0b6112317d38a8031"
          ]
        },
        "outputId": "52bae8e0-eedb-4fd8-85d6-a9075d7945c4"
      },
      "source": [
        "## train roughly for about 10-15 minutes with GPU enabled.\n",
        "trainer = pl.Trainer(gpus=1, max_epochs=hparams.epochs, progress_bar_refresh_rate=10,\n",
        "                     accumulate_grad_batches=hparams.accumulate_grad_batches)\n",
        "\n",
        "trainer.fit(module)"
      ],
      "execution_count": null,
      "outputs": [
        {
          "output_type": "stream",
          "text": [
            "INFO:lightning:GPU available: True, used: True\n",
            "INFO:lightning:VISIBLE GPUS: 0\n",
            "/usr/local/lib/python3.6/dist-packages/pytorch_lightning/utilities/warnings.py:18: RuntimeWarning: You have defined a `val_dataloader()` and have defined a `validation_step()`, you may also want to define `validation_epoch_end()` for accumulating stats.\n",
            "  warnings.warn(*args, **kwargs)\n",
            "/usr/local/lib/python3.6/dist-packages/pytorch_lightning/utilities/warnings.py:18: RuntimeWarning: You have defined a `test_dataloader()` and have defined a `test_step()`, you may also want to define `test_epoch_end()` for accumulating stats.\n",
            "  warnings.warn(*args, **kwargs)\n",
            "INFO:lightning:\n",
            "    | Name                                                        | Type              | Params\n",
            "----------------------------------------------------------------------------------------------\n",
            "0   | model                                                       | EmoModel          | 82 M  \n",
            "1   | model.base_model                                            | RobertaModel      | 82 M  \n",
            "2   | model.base_model.embeddings                                 | RobertaEmbeddings | 39 M  \n",
            "3   | model.base_model.embeddings.word_embeddings                 | Embedding         | 38 M  \n",
            "4   | model.base_model.embeddings.position_embeddings             | Embedding         | 394 K \n",
            "5   | model.base_model.embeddings.token_type_embeddings           | Embedding         | 768   \n",
            "6   | model.base_model.embeddings.LayerNorm                       | LayerNorm         | 1 K   \n",
            "7   | model.base_model.embeddings.dropout                         | Dropout           | 0     \n",
            "8   | model.base_model.encoder                                    | BertEncoder       | 42 M  \n",
            "9   | model.base_model.encoder.layer                              | ModuleList        | 42 M  \n",
            "10  | model.base_model.encoder.layer.0                            | BertLayer         | 7 M   \n",
            "11  | model.base_model.encoder.layer.0.attention                  | BertAttention     | 2 M   \n",
            "12  | model.base_model.encoder.layer.0.attention.self             | BertSelfAttention | 1 M   \n",
            "13  | model.base_model.encoder.layer.0.attention.self.query       | Linear            | 590 K \n",
            "14  | model.base_model.encoder.layer.0.attention.self.key         | Linear            | 590 K \n",
            "15  | model.base_model.encoder.layer.0.attention.self.value       | Linear            | 590 K \n",
            "16  | model.base_model.encoder.layer.0.attention.self.dropout     | Dropout           | 0     \n",
            "17  | model.base_model.encoder.layer.0.attention.output           | BertSelfOutput    | 592 K \n",
            "18  | model.base_model.encoder.layer.0.attention.output.dense     | Linear            | 590 K \n",
            "19  | model.base_model.encoder.layer.0.attention.output.LayerNorm | LayerNorm         | 1 K   \n",
            "20  | model.base_model.encoder.layer.0.attention.output.dropout   | Dropout           | 0     \n",
            "21  | model.base_model.encoder.layer.0.intermediate               | BertIntermediate  | 2 M   \n",
            "22  | model.base_model.encoder.layer.0.intermediate.dense         | Linear            | 2 M   \n",
            "23  | model.base_model.encoder.layer.0.output                     | BertOutput        | 2 M   \n",
            "24  | model.base_model.encoder.layer.0.output.dense               | Linear            | 2 M   \n",
            "25  | model.base_model.encoder.layer.0.output.LayerNorm           | LayerNorm         | 1 K   \n",
            "26  | model.base_model.encoder.layer.0.output.dropout             | Dropout           | 0     \n",
            "27  | model.base_model.encoder.layer.1                            | BertLayer         | 7 M   \n",
            "28  | model.base_model.encoder.layer.1.attention                  | BertAttention     | 2 M   \n",
            "29  | model.base_model.encoder.layer.1.attention.self             | BertSelfAttention | 1 M   \n",
            "30  | model.base_model.encoder.layer.1.attention.self.query       | Linear            | 590 K \n",
            "31  | model.base_model.encoder.layer.1.attention.self.key         | Linear            | 590 K \n",
            "32  | model.base_model.encoder.layer.1.attention.self.value       | Linear            | 590 K \n",
            "33  | model.base_model.encoder.layer.1.attention.self.dropout     | Dropout           | 0     \n",
            "34  | model.base_model.encoder.layer.1.attention.output           | BertSelfOutput    | 592 K \n",
            "35  | model.base_model.encoder.layer.1.attention.output.dense     | Linear            | 590 K \n",
            "36  | model.base_model.encoder.layer.1.attention.output.LayerNorm | LayerNorm         | 1 K   \n",
            "37  | model.base_model.encoder.layer.1.attention.output.dropout   | Dropout           | 0     \n",
            "38  | model.base_model.encoder.layer.1.intermediate               | BertIntermediate  | 2 M   \n",
            "39  | model.base_model.encoder.layer.1.intermediate.dense         | Linear            | 2 M   \n",
            "40  | model.base_model.encoder.layer.1.output                     | BertOutput        | 2 M   \n",
            "41  | model.base_model.encoder.layer.1.output.dense               | Linear            | 2 M   \n",
            "42  | model.base_model.encoder.layer.1.output.LayerNorm           | LayerNorm         | 1 K   \n",
            "43  | model.base_model.encoder.layer.1.output.dropout             | Dropout           | 0     \n",
            "44  | model.base_model.encoder.layer.2                            | BertLayer         | 7 M   \n",
            "45  | model.base_model.encoder.layer.2.attention                  | BertAttention     | 2 M   \n",
            "46  | model.base_model.encoder.layer.2.attention.self             | BertSelfAttention | 1 M   \n",
            "47  | model.base_model.encoder.layer.2.attention.self.query       | Linear            | 590 K \n",
            "48  | model.base_model.encoder.layer.2.attention.self.key         | Linear            | 590 K \n",
            "49  | model.base_model.encoder.layer.2.attention.self.value       | Linear            | 590 K \n",
            "50  | model.base_model.encoder.layer.2.attention.self.dropout     | Dropout           | 0     \n",
            "51  | model.base_model.encoder.layer.2.attention.output           | BertSelfOutput    | 592 K \n",
            "52  | model.base_model.encoder.layer.2.attention.output.dense     | Linear            | 590 K \n",
            "53  | model.base_model.encoder.layer.2.attention.output.LayerNorm | LayerNorm         | 1 K   \n",
            "54  | model.base_model.encoder.layer.2.attention.output.dropout   | Dropout           | 0     \n",
            "55  | model.base_model.encoder.layer.2.intermediate               | BertIntermediate  | 2 M   \n",
            "56  | model.base_model.encoder.layer.2.intermediate.dense         | Linear            | 2 M   \n",
            "57  | model.base_model.encoder.layer.2.output                     | BertOutput        | 2 M   \n",
            "58  | model.base_model.encoder.layer.2.output.dense               | Linear            | 2 M   \n",
            "59  | model.base_model.encoder.layer.2.output.LayerNorm           | LayerNorm         | 1 K   \n",
            "60  | model.base_model.encoder.layer.2.output.dropout             | Dropout           | 0     \n",
            "61  | model.base_model.encoder.layer.3                            | BertLayer         | 7 M   \n",
            "62  | model.base_model.encoder.layer.3.attention                  | BertAttention     | 2 M   \n",
            "63  | model.base_model.encoder.layer.3.attention.self             | BertSelfAttention | 1 M   \n",
            "64  | model.base_model.encoder.layer.3.attention.self.query       | Linear            | 590 K \n",
            "65  | model.base_model.encoder.layer.3.attention.self.key         | Linear            | 590 K \n",
            "66  | model.base_model.encoder.layer.3.attention.self.value       | Linear            | 590 K \n",
            "67  | model.base_model.encoder.layer.3.attention.self.dropout     | Dropout           | 0     \n",
            "68  | model.base_model.encoder.layer.3.attention.output           | BertSelfOutput    | 592 K \n",
            "69  | model.base_model.encoder.layer.3.attention.output.dense     | Linear            | 590 K \n",
            "70  | model.base_model.encoder.layer.3.attention.output.LayerNorm | LayerNorm         | 1 K   \n",
            "71  | model.base_model.encoder.layer.3.attention.output.dropout   | Dropout           | 0     \n",
            "72  | model.base_model.encoder.layer.3.intermediate               | BertIntermediate  | 2 M   \n",
            "73  | model.base_model.encoder.layer.3.intermediate.dense         | Linear            | 2 M   \n",
            "74  | model.base_model.encoder.layer.3.output                     | BertOutput        | 2 M   \n",
            "75  | model.base_model.encoder.layer.3.output.dense               | Linear            | 2 M   \n",
            "76  | model.base_model.encoder.layer.3.output.LayerNorm           | LayerNorm         | 1 K   \n",
            "77  | model.base_model.encoder.layer.3.output.dropout             | Dropout           | 0     \n",
            "78  | model.base_model.encoder.layer.4                            | BertLayer         | 7 M   \n",
            "79  | model.base_model.encoder.layer.4.attention                  | BertAttention     | 2 M   \n",
            "80  | model.base_model.encoder.layer.4.attention.self             | BertSelfAttention | 1 M   \n",
            "81  | model.base_model.encoder.layer.4.attention.self.query       | Linear            | 590 K \n",
            "82  | model.base_model.encoder.layer.4.attention.self.key         | Linear            | 590 K \n",
            "83  | model.base_model.encoder.layer.4.attention.self.value       | Linear            | 590 K \n",
            "84  | model.base_model.encoder.layer.4.attention.self.dropout     | Dropout           | 0     \n",
            "85  | model.base_model.encoder.layer.4.attention.output           | BertSelfOutput    | 592 K \n",
            "86  | model.base_model.encoder.layer.4.attention.output.dense     | Linear            | 590 K \n",
            "87  | model.base_model.encoder.layer.4.attention.output.LayerNorm | LayerNorm         | 1 K   \n",
            "88  | model.base_model.encoder.layer.4.attention.output.dropout   | Dropout           | 0     \n",
            "89  | model.base_model.encoder.layer.4.intermediate               | BertIntermediate  | 2 M   \n",
            "90  | model.base_model.encoder.layer.4.intermediate.dense         | Linear            | 2 M   \n",
            "91  | model.base_model.encoder.layer.4.output                     | BertOutput        | 2 M   \n",
            "92  | model.base_model.encoder.layer.4.output.dense               | Linear            | 2 M   \n",
            "93  | model.base_model.encoder.layer.4.output.LayerNorm           | LayerNorm         | 1 K   \n",
            "94  | model.base_model.encoder.layer.4.output.dropout             | Dropout           | 0     \n",
            "95  | model.base_model.encoder.layer.5                            | BertLayer         | 7 M   \n",
            "96  | model.base_model.encoder.layer.5.attention                  | BertAttention     | 2 M   \n",
            "97  | model.base_model.encoder.layer.5.attention.self             | BertSelfAttention | 1 M   \n",
            "98  | model.base_model.encoder.layer.5.attention.self.query       | Linear            | 590 K \n",
            "99  | model.base_model.encoder.layer.5.attention.self.key         | Linear            | 590 K \n",
            "100 | model.base_model.encoder.layer.5.attention.self.value       | Linear            | 590 K \n",
            "101 | model.base_model.encoder.layer.5.attention.self.dropout     | Dropout           | 0     \n",
            "102 | model.base_model.encoder.layer.5.attention.output           | BertSelfOutput    | 592 K \n",
            "103 | model.base_model.encoder.layer.5.attention.output.dense     | Linear            | 590 K \n",
            "104 | model.base_model.encoder.layer.5.attention.output.LayerNorm | LayerNorm         | 1 K   \n",
            "105 | model.base_model.encoder.layer.5.attention.output.dropout   | Dropout           | 0     \n",
            "106 | model.base_model.encoder.layer.5.intermediate               | BertIntermediate  | 2 M   \n",
            "107 | model.base_model.encoder.layer.5.intermediate.dense         | Linear            | 2 M   \n",
            "108 | model.base_model.encoder.layer.5.output                     | BertOutput        | 2 M   \n",
            "109 | model.base_model.encoder.layer.5.output.dense               | Linear            | 2 M   \n",
            "110 | model.base_model.encoder.layer.5.output.LayerNorm           | LayerNorm         | 1 K   \n",
            "111 | model.base_model.encoder.layer.5.output.dropout             | Dropout           | 0     \n",
            "112 | model.base_model.pooler                                     | BertPooler        | 590 K \n",
            "113 | model.base_model.pooler.dense                               | Linear            | 590 K \n",
            "114 | model.base_model.pooler.activation                          | Tanh              | 0     \n",
            "115 | model.classifier                                            | Sequential        | 595 K \n",
            "116 | model.classifier.0                                          | Dropout           | 0     \n",
            "117 | model.classifier.1                                          | Linear            | 590 K \n",
            "118 | model.classifier.2                                          | Mish              | 0     \n",
            "119 | model.classifier.3                                          | Dropout           | 0     \n",
            "120 | model.classifier.4                                          | Linear            | 4 K   \n",
            "121 | loss                                                        | CrossEntropyLoss  | 0     \n",
            "/usr/local/lib/python3.6/dist-packages/pytorch_lightning/utilities/warnings.py:18: UserWarning: The dataloader, val dataloader 0, does not have many workers which may be a bottleneck. Consider increasing the value of the `num_workers` argument` in the `DataLoader` init to improve performance.\n",
            "  warnings.warn(*args, **kwargs)\n"
          ],
          "name": "stderr"
        },
        {
          "output_type": "display_data",
          "data": {
            "application/vnd.jupyter.widget-view+json": {
              "model_id": "d3c6d5e1e2bd4a09981ee17209974425",
              "version_minor": 0,
              "version_major": 2
            },
            "text/plain": [
              "HBox(children=(IntProgress(value=0, description='Validation sanity check', layout=Layout(flex='2'), max=5, sty…"
            ]
          },
          "metadata": {
            "tags": []
          }
        },
        {
          "output_type": "stream",
          "text": [
            "\r"
          ],
          "name": "stdout"
        },
        {
          "output_type": "display_data",
          "data": {
            "application/vnd.jupyter.widget-view+json": {
              "model_id": "62f4800d3da74fb0beee8a44b1e59a63",
              "version_minor": 0,
              "version_major": 2
            },
            "text/plain": [
              "HBox(children=(IntProgress(value=1, bar_style='info', layout=Layout(flex='2'), max=1), HTML(value='')), layout…"
            ]
          },
          "metadata": {
            "tags": []
          }
        },
        {
          "output_type": "stream",
          "text": [
            "/usr/local/lib/python3.6/dist-packages/pytorch_lightning/utilities/warnings.py:18: RuntimeWarning: Displayed epoch numbers in the progress bar start from \"1\" until v0.6.x, but will start from \"0\" in v0.8.0.\n",
            "  warnings.warn(*args, **kwargs)\n",
            "/usr/local/lib/python3.6/dist-packages/pytorch_lightning/utilities/warnings.py:18: UserWarning: The dataloader, train dataloader, does not have many workers which may be a bottleneck. Consider increasing the value of the `num_workers` argument` in the `DataLoader` init to improve performance.\n",
            "  warnings.warn(*args, **kwargs)\n"
          ],
          "name": "stderr"
        },
        {
          "output_type": "display_data",
          "data": {
            "application/vnd.jupyter.widget-view+json": {
              "model_id": "6589bb96cbd646db94b1c7b7b2ab44c8",
              "version_minor": 0,
              "version_major": 2
            },
            "text/plain": [
              "HBox(children=(IntProgress(value=0, description='Validating', layout=Layout(flex='2'), max=63, style=ProgressS…"
            ]
          },
          "metadata": {
            "tags": []
          }
        },
        {
          "output_type": "stream",
          "text": [
            "\n"
          ],
          "name": "stdout"
        },
        {
          "output_type": "execute_result",
          "data": {
            "text/plain": [
              "1"
            ]
          },
          "metadata": {
            "tags": []
          },
          "execution_count": 46
        }
      ]
    },
    {
      "cell_type": "code",
      "metadata": {
        "id": "Y8kzE1AeB_ij",
        "colab": {
          "base_uri": "https://localhost:8080/",
          "height": 272
        },
        "outputId": "932f2f1f-fb96-4a4e-a169-85f2150afa80"
      },
      "source": [
        "with torch.no_grad():\n",
        "    progress = [\"/\", \"-\", \"\\\\\", \"|\", \"/\", \"-\", \"\\\\\", \"|\"]\n",
        "    module.eval()\n",
        "    true_y, pred_y = [], []\n",
        "    for i, batch_ in enumerate(module.test_dataloader()):\n",
        "        (X, attn), y = batch_\n",
        "        batch = (X.cuda(), attn.cuda())\n",
        "        print(progress[i % len(progress)], end=\"\\r\")\n",
        "        y_pred = torch.argmax(module(batch), dim=1)\n",
        "        true_y.extend(y.cpu())\n",
        "        pred_y.extend(y_pred.cpu())\n",
        "print(\"\\n\" + \"_\" * 80)\n",
        "print(classification_report(true_y, pred_y, target_names=label2int.keys(), digits=len(emotions)))"
      ],
      "execution_count": null,
      "outputs": [
        {
          "output_type": "stream",
          "text": [
            "\n",
            "________________________________________________________________________________\n",
            "              precision    recall  f1-score   support\n",
            "\n",
            "     sadness   0.961872  0.955250  0.958549       581\n",
            "         joy   0.958580  0.932374  0.945295       695\n",
            "        love   0.806818  0.893082  0.847761       159\n",
            "       anger   0.936567  0.912727  0.924494       275\n",
            "        fear   0.886364  0.870536  0.878378       224\n",
            "    surprise   0.674699  0.848485  0.751678        66\n",
            "\n",
            "    accuracy                       0.923500      2000\n",
            "   macro avg   0.870817  0.902076  0.884359      2000\n",
            "weighted avg   0.926988  0.923500  0.924647      2000\n",
            "\n"
          ],
          "name": "stdout"
        }
      ]
    },
    {
      "cell_type": "code",
      "metadata": {
        "id": "U0_Z_4Pkl3fc"
      },
      "source": [
        ""
      ],
      "execution_count": null,
      "outputs": []
    }
  ]
}